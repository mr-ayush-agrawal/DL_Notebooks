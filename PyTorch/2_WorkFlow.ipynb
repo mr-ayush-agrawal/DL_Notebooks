{
  "nbformat": 4,
  "nbformat_minor": 0,
  "metadata": {
    "colab": {
      "provenance": [],
      "authorship_tag": "ABX9TyPWCym1TFS+hT2h5/NXc7JQ",
      "include_colab_link": true
    },
    "kernelspec": {
      "name": "python3",
      "display_name": "Python 3"
    },
    "language_info": {
      "name": "python"
    }
  },
  "cells": [
    {
      "cell_type": "markdown",
      "metadata": {
        "id": "view-in-github",
        "colab_type": "text"
      },
      "source": [
        "<a href=\"https://colab.research.google.com/github/mr-ayush-agrawal/DL_Notebooks/blob/main/PyTorch/2_WorkFlow.ipynb\" target=\"_parent\"><img src=\"https://colab.research.google.com/assets/colab-badge.svg\" alt=\"Open In Colab\"/></a>"
      ]
    },
    {
      "cell_type": "code",
      "execution_count": 1,
      "metadata": {
        "id": "o3zqfjEzAk1V"
      },
      "outputs": [],
      "source": [
        "import torch as pt\n",
        "from torch import nn\n",
        "\n",
        "import matplotlib.pyplot as plt"
      ]
    },
    {
      "cell_type": "code",
      "source": [
        "w = 0.7\n",
        "b = 0.3\n",
        "\n",
        "st = 0\n",
        "end = 2\n",
        "step = 0.04\n",
        "\n",
        "x = pt.arange(st, end, step).unsqueeze(dim = 1)\n",
        "y = b + x*w\n",
        "\n",
        "x[:10], y[:10], x.shape, y.shape"
      ],
      "metadata": {
        "colab": {
          "base_uri": "https://localhost:8080/"
        },
        "id": "DzhFlX5KBnvg",
        "outputId": "d0f713e9-09d3-4fc0-e8a3-04771f008a79"
      },
      "execution_count": 2,
      "outputs": [
        {
          "output_type": "execute_result",
          "data": {
            "text/plain": [
              "(tensor([[0.0000],\n",
              "         [0.0400],\n",
              "         [0.0800],\n",
              "         [0.1200],\n",
              "         [0.1600],\n",
              "         [0.2000],\n",
              "         [0.2400],\n",
              "         [0.2800],\n",
              "         [0.3200],\n",
              "         [0.3600]]),\n",
              " tensor([[0.3000],\n",
              "         [0.3280],\n",
              "         [0.3560],\n",
              "         [0.3840],\n",
              "         [0.4120],\n",
              "         [0.4400],\n",
              "         [0.4680],\n",
              "         [0.4960],\n",
              "         [0.5240],\n",
              "         [0.5520]]),\n",
              " torch.Size([50, 1]),\n",
              " torch.Size([50, 1]))"
            ]
          },
          "metadata": {},
          "execution_count": 2
        }
      ]
    },
    {
      "cell_type": "code",
      "source": [
        "train_split = int(0.8*len(x))\n",
        "\n",
        "x_train, y_train = x[:train_split], y[:train_split]\n",
        "x_test, y_test = x[train_split:], y[train_split:]\n",
        "\n",
        "x_train.shape, y_test.shape"
      ],
      "metadata": {
        "colab": {
          "base_uri": "https://localhost:8080/"
        },
        "id": "2TMcR9y1HDjo",
        "outputId": "33d37367-e9c7-4009-9489-5bcb0ebde4b1"
      },
      "execution_count": 3,
      "outputs": [
        {
          "output_type": "execute_result",
          "data": {
            "text/plain": [
              "(torch.Size([40, 1]), torch.Size([10, 1]))"
            ]
          },
          "metadata": {},
          "execution_count": 3
        }
      ]
    },
    {
      "cell_type": "code",
      "source": [
        "def plot_pred(train_data = x_train,\n",
        "              train_lab = y_train,\n",
        "              test_data = x_test,\n",
        "              test_lab = y_test,\n",
        "              pred = None):\n",
        "    plt.figure(figsize=(8, 5))\n",
        "    plt.scatter(train_data, train_lab, label = 'Train', c= 'b')\n",
        "    plt.scatter(test_data, test_lab, label = 'Test', c= 'g')\n",
        "\n",
        "    if pred is not None:\n",
        "        plt.scatter(test_data, pred, c= 'red', label = 'Predection')\n",
        "\n",
        "    plt.legend(prop={'size': 12, })"
      ],
      "metadata": {
        "id": "JRGmwGpEIeO4"
      },
      "execution_count": 4,
      "outputs": []
    },
    {
      "cell_type": "code",
      "source": [
        "plot_pred()"
      ],
      "metadata": {
        "colab": {
          "base_uri": "https://localhost:8080/",
          "height": 445
        },
        "id": "TYXXx9Z5KTcC",
        "outputId": "69a2afcf-d883-4476-b495-80ac6f6e85cf"
      },
      "execution_count": 5,
      "outputs": [
        {
          "output_type": "display_data",
          "data": {
            "text/plain": [
              "<Figure size 800x500 with 1 Axes>"
            ],
            "image/png": "[encoded data removed]"
          },
          "metadata": {}
        }
      ]
    },
    {
      "cell_type": "markdown",
      "source": [
        "## Base Model"
      ],
      "metadata": {
        "id": "TcOV7KivrW5y"
      }
    },
    {
      "cell_type": "code",
      "source": [
        "from torch import nn\n",
        "import torch as pt"
      ],
      "metadata": {
        "id": "aD9OEAqnr4II"
      },
      "execution_count": 6,
      "outputs": []
    },
    {
      "cell_type": "code",
      "source": [
        "class LinReg(nn.Module):\n",
        "    def __init__(self):\n",
        "        super().__init__()\n",
        "        self.weights = nn.Parameter(pt.randn(1, requires_grad = True, dtype = pt.float))\n",
        "        self.bias = nn.Parameter(pt.randn(1, requires_grad= True, dtype = pt.float))\n",
        "\n",
        "        # Forward method to define computation in model\n",
        "    def forward(self, x: pt.Tensor) -> pt.Tensor:\n",
        "        return x*self.weights + self.bias"
      ],
      "metadata": {
        "id": "TnE-7UZFKUGr"
      },
      "execution_count": 7,
      "outputs": []
    },
    {
      "cell_type": "markdown",
      "source": [
        "making the model to check what there in that"
      ],
      "metadata": {
        "id": "Ytupjek6AF97"
      }
    },
    {
      "cell_type": "code",
      "source": [
        "pt.manual_seed(42)\n",
        "\n",
        "model0 = LinReg()"
      ],
      "metadata": {
        "id": "Um4NuxpJ7CZg"
      },
      "execution_count": 8,
      "outputs": []
    },
    {
      "cell_type": "code",
      "source": [
        "list(model0.parameters())"
      ],
      "metadata": {
        "colab": {
          "base_uri": "https://localhost:8080/"
        },
        "id": "liSrbiK4AVil",
        "outputId": "f6ebda05-921d-4358-8c0e-b002991c0609"
      },
      "execution_count": 9,
      "outputs": [
        {
          "output_type": "execute_result",
          "data": {
            "text/plain": [
              "[Parameter containing:\n",
              " tensor([0.3367], requires_grad=True),\n",
              " Parameter containing:\n",
              " tensor([0.1288], requires_grad=True)]"
            ]
          },
          "metadata": {},
          "execution_count": 9
        }
      ]
    },
    {
      "cell_type": "code",
      "source": [
        "model0.state_dict()"
      ],
      "metadata": {
        "colab": {
          "base_uri": "https://localhost:8080/"
        },
        "id": "CJThyfsLAZQt",
        "outputId": "b63c195a-a20c-4c79-8d12-baaa8f8b3c2e"
      },
      "execution_count": 10,
      "outputs": [
        {
          "output_type": "execute_result",
          "data": {
            "text/plain": [
              "OrderedDict([('weights', tensor([0.3367])), ('bias', tensor([0.1288]))])"
            ]
          },
          "metadata": {},
          "execution_count": 10
        }
      ]
    },
    {
      "cell_type": "code",
      "source": [
        "with pt.inference_mode():\n",
        "    y_pred = model0(x_test)\n",
        "y_pred"
      ],
      "metadata": {
        "colab": {
          "base_uri": "https://localhost:8080/"
        },
        "id": "ilsbH_sBBIqE",
        "outputId": "39283211-84ae-48da-e979-990e6eaac144"
      },
      "execution_count": 11,
      "outputs": [
        {
          "output_type": "execute_result",
          "data": {
            "text/plain": [
              "tensor([[0.6675],\n",
              "        [0.6810],\n",
              "        [0.6944],\n",
              "        [0.7079],\n",
              "        [0.7214],\n",
              "        [0.7349],\n",
              "        [0.7483],\n",
              "        [0.7618],\n",
              "        [0.7753],\n",
              "        [0.7887]])"
            ]
          },
          "metadata": {},
          "execution_count": 11
        }
      ]
    },
    {
      "cell_type": "code",
      "source": [
        "# plot_pred(pred = y_pred)"
      ],
      "metadata": {
        "id": "ULf4oyotCA6o"
      },
      "execution_count": 12,
      "outputs": []
    },
    {
      "cell_type": "code",
      "source": [
        "# Setting up a loss function\n",
        "loss_fn = nn.L1Loss()\n",
        "\n",
        "# Setting up an optimizer\n",
        "optimizer = pt.optim.SGD(\n",
        "    params=model0.parameters(),\n",
        "    lr=0.02\n",
        ")"
      ],
      "metadata": {
        "id": "2ChOvC8TDDlx"
      },
      "execution_count": 13,
      "outputs": []
    },
    {
      "cell_type": "code",
      "source": [
        "loss_fn"
      ],
      "metadata": {
        "colab": {
          "base_uri": "https://localhost:8080/"
        },
        "id": "KMxkeMmAKBDV",
        "outputId": "e91e5da2-34b3-413f-d420-f86e079c7642"
      },
      "execution_count": 14,
      "outputs": [
        {
          "output_type": "execute_result",
          "data": {
            "text/plain": [
              "L1Loss()"
            ]
          },
          "metadata": {},
          "execution_count": 14
        }
      ]
    },
    {
      "cell_type": "code",
      "source": [
        "x_train.shape, y_test.shape"
      ],
      "metadata": {
        "colab": {
          "base_uri": "https://localhost:8080/"
        },
        "id": "IgrgWT3sOBfr",
        "outputId": "1304f9b1-e229-403c-9f05-68b36951c198"
      },
      "execution_count": 15,
      "outputs": [
        {
          "output_type": "execute_result",
          "data": {
            "text/plain": [
              "(torch.Size([40, 1]), torch.Size([10, 1]))"
            ]
          },
          "metadata": {},
          "execution_count": 15
        }
      ]
    },
    {
      "cell_type": "code",
      "source": [
        "epochs = 100\n",
        "\n",
        "for epoch in range(epochs):\n",
        "    # set the model to training mode\n",
        "    model0.train()\n",
        "\n",
        "    pred = model0(x_train)\n",
        "\n",
        "    loss = loss_fn(pred, y_train)\n",
        "\n",
        "    optimizer.zero_grad()\n",
        "\n",
        "    loss.backward()\n",
        "\n",
        "    optimizer.step()\n",
        "\n",
        "    model0.eval()\n",
        "    with pt.inference_mode():\n",
        "        test_pred = model0(x_test)\n",
        "        test_loss = loss_fn(y_test, test_pred)\n",
        "    print(f\"epoch : {epoch} | Loss : {loss} | Test : {test_loss}\")\n",
        "\n",
        "    # print(list(model0.parameters()))"
      ],
      "metadata": {
        "id": "oozBKv6vKCQq",
        "outputId": "17032127-d7e1-4f9e-fbea-217d77022fca",
        "colab": {
          "base_uri": "https://localhost:8080/"
        }
      },
      "execution_count": 18,
      "outputs": [
        {
          "output_type": "stream",
          "name": "stdout",
          "text": [
            "epoch : 0 | Loss : 0.13696631789207458 | Test : 0.2978610396385193\n",
            "epoch : 1 | Loss : 0.11329568922519684 | Test : 0.25716105103492737\n",
            "epoch : 2 | Loss : 0.09348521381616592 | Test : 0.22095628082752228\n",
            "epoch : 3 | Loss : 0.0781048834323883 | Test : 0.18810424208641052\n",
            "epoch : 4 | Loss : 0.06599222123622894 | Test : 0.16081537306308746\n",
            "epoch : 5 | Loss : 0.05745013430714607 | Test : 0.1375913918018341\n",
            "epoch : 6 | Loss : 0.05124150961637497 | Test : 0.11871695518493652\n",
            "epoch : 7 | Loss : 0.04685986042022705 | Test : 0.1044769138097763\n",
            "epoch : 8 | Loss : 0.04378433898091316 | Test : 0.09266091883182526\n",
            "epoch : 9 | Loss : 0.04130092263221741 | Test : 0.08334009349346161\n",
            "epoch : 10 | Loss : 0.039212968200445175 | Test : 0.07658575475215912\n",
            "epoch : 11 | Loss : 0.037306882441043854 | Test : 0.07246895134449005\n",
            "epoch : 12 | Loss : 0.035467199981212616 | Test : 0.06835217773914337\n",
            "epoch : 13 | Loss : 0.03362752124667168 | Test : 0.0642353892326355\n",
            "epoch : 14 | Loss : 0.031787849962711334 | Test : 0.06011859327554703\n",
            "epoch : 15 | Loss : 0.029948163777589798 | Test : 0.05600183084607124\n",
            "epoch : 16 | Loss : 0.028108486905694008 | Test : 0.051885057240724564\n",
            "epoch : 17 | Loss : 0.02626880444586277 | Test : 0.047768257558345795\n",
            "epoch : 18 | Loss : 0.024429116398096085 | Test : 0.04365149885416031\n",
            "epoch : 19 | Loss : 0.022605687379837036 | Test : 0.04224349185824394\n",
            "epoch : 20 | Loss : 0.020768646150827408 | Test : 0.03812670707702637\n",
            "epoch : 21 | Loss : 0.018928971141576767 | Test : 0.03400993347167969\n",
            "epoch : 22 | Loss : 0.01708929054439068 | Test : 0.029893159866333008\n",
            "epoch : 23 | Loss : 0.01524959784001112 | Test : 0.025776362046599388\n",
            "epoch : 24 | Loss : 0.013424483127892017 | Test : 0.024368345737457275\n",
            "epoch : 25 | Loss : 0.011595387943089008 | Test : 0.017613982781767845\n",
            "epoch : 26 | Loss : 0.009795071557164192 | Test : 0.018985938280820847\n",
            "epoch : 27 | Loss : 0.008079971186816692 | Test : 0.007169938180595636\n",
            "epoch : 28 | Loss : 0.006758690811693668 | Test : 0.02350999042391777\n",
            "epoch : 29 | Loss : 0.008633043617010117 | Test : 0.014264392666518688\n",
            "epoch : 30 | Loss : 0.0156941469758749 | Test : 0.03350367397069931\n",
            "epoch : 31 | Loss : 0.016473889350891113 | Test : 0.014264392666518688\n",
            "epoch : 32 | Loss : 0.0156941469758749 | Test : 0.03350367397069931\n",
            "epoch : 33 | Loss : 0.016473889350891113 | Test : 0.014264392666518688\n",
            "epoch : 34 | Loss : 0.0156941469758749 | Test : 0.03350367397069931\n",
            "epoch : 35 | Loss : 0.016473889350891113 | Test : 0.014264392666518688\n",
            "epoch : 36 | Loss : 0.0156941469758749 | Test : 0.03350367397069931\n",
            "epoch : 37 | Loss : 0.016473889350891113 | Test : 0.014264392666518688\n",
            "epoch : 38 | Loss : 0.0156941469758749 | Test : 0.03350367397069931\n",
            "epoch : 39 | Loss : 0.016473889350891113 | Test : 0.014264392666518688\n",
            "epoch : 40 | Loss : 0.0156941469758749 | Test : 0.03350367397069931\n",
            "epoch : 41 | Loss : 0.016473889350891113 | Test : 0.014264392666518688\n",
            "epoch : 42 | Loss : 0.0156941469758749 | Test : 0.03350367397069931\n",
            "epoch : 43 | Loss : 0.016473889350891113 | Test : 0.014264392666518688\n",
            "epoch : 44 | Loss : 0.0156941469758749 | Test : 0.03350367397069931\n",
            "epoch : 45 | Loss : 0.016473889350891113 | Test : 0.014264392666518688\n",
            "epoch : 46 | Loss : 0.0156941469758749 | Test : 0.03350367397069931\n",
            "epoch : 47 | Loss : 0.016473889350891113 | Test : 0.014264392666518688\n",
            "epoch : 48 | Loss : 0.0156941469758749 | Test : 0.03350367397069931\n",
            "epoch : 49 | Loss : 0.016473889350891113 | Test : 0.014264392666518688\n",
            "epoch : 50 | Loss : 0.0156941469758749 | Test : 0.03350367397069931\n",
            "epoch : 51 | Loss : 0.016473889350891113 | Test : 0.014264392666518688\n",
            "epoch : 52 | Loss : 0.0156941469758749 | Test : 0.03350367397069931\n",
            "epoch : 53 | Loss : 0.016473889350891113 | Test : 0.014264392666518688\n",
            "epoch : 54 | Loss : 0.0156941469758749 | Test : 0.03350367397069931\n",
            "epoch : 55 | Loss : 0.016473889350891113 | Test : 0.014264392666518688\n",
            "epoch : 56 | Loss : 0.0156941469758749 | Test : 0.03350367397069931\n",
            "epoch : 57 | Loss : 0.016473889350891113 | Test : 0.014264392666518688\n",
            "epoch : 58 | Loss : 0.0156941469758749 | Test : 0.03350367397069931\n",
            "epoch : 59 | Loss : 0.016473889350891113 | Test : 0.014264392666518688\n",
            "epoch : 60 | Loss : 0.0156941469758749 | Test : 0.03350367397069931\n",
            "epoch : 61 | Loss : 0.016473889350891113 | Test : 0.014264392666518688\n",
            "epoch : 62 | Loss : 0.0156941469758749 | Test : 0.03350367397069931\n",
            "epoch : 63 | Loss : 0.016473889350891113 | Test : 0.014264392666518688\n",
            "epoch : 64 | Loss : 0.0156941469758749 | Test : 0.03350367397069931\n",
            "epoch : 65 | Loss : 0.016473889350891113 | Test : 0.014264392666518688\n",
            "epoch : 66 | Loss : 0.0156941469758749 | Test : 0.03350367397069931\n",
            "epoch : 67 | Loss : 0.016473889350891113 | Test : 0.014264392666518688\n",
            "epoch : 68 | Loss : 0.0156941469758749 | Test : 0.03350367397069931\n",
            "epoch : 69 | Loss : 0.016473889350891113 | Test : 0.014264392666518688\n",
            "epoch : 70 | Loss : 0.0156941469758749 | Test : 0.03350367397069931\n",
            "epoch : 71 | Loss : 0.016473889350891113 | Test : 0.014264392666518688\n",
            "epoch : 72 | Loss : 0.0156941469758749 | Test : 0.03350367397069931\n",
            "epoch : 73 | Loss : 0.016473889350891113 | Test : 0.014264392666518688\n",
            "epoch : 74 | Loss : 0.0156941469758749 | Test : 0.03350367397069931\n",
            "epoch : 75 | Loss : 0.016473889350891113 | Test : 0.014264392666518688\n",
            "epoch : 76 | Loss : 0.0156941469758749 | Test : 0.03350367397069931\n",
            "epoch : 77 | Loss : 0.016473889350891113 | Test : 0.014264392666518688\n",
            "epoch : 78 | Loss : 0.0156941469758749 | Test : 0.03350367397069931\n",
            "epoch : 79 | Loss : 0.016473889350891113 | Test : 0.014264392666518688\n",
            "epoch : 80 | Loss : 0.0156941469758749 | Test : 0.03350367397069931\n",
            "epoch : 81 | Loss : 0.016473889350891113 | Test : 0.014264392666518688\n",
            "epoch : 82 | Loss : 0.0156941469758749 | Test : 0.03350367397069931\n",
            "epoch : 83 | Loss : 0.016473889350891113 | Test : 0.014264392666518688\n",
            "epoch : 84 | Loss : 0.0156941469758749 | Test : 0.03350367397069931\n",
            "epoch : 85 | Loss : 0.016473889350891113 | Test : 0.014264392666518688\n",
            "epoch : 86 | Loss : 0.0156941469758749 | Test : 0.03350367397069931\n",
            "epoch : 87 | Loss : 0.016473889350891113 | Test : 0.014264392666518688\n",
            "epoch : 88 | Loss : 0.0156941469758749 | Test : 0.03350367397069931\n",
            "epoch : 89 | Loss : 0.016473889350891113 | Test : 0.014264392666518688\n",
            "epoch : 90 | Loss : 0.0156941469758749 | Test : 0.03350367397069931\n",
            "epoch : 91 | Loss : 0.016473889350891113 | Test : 0.014264392666518688\n",
            "epoch : 92 | Loss : 0.0156941469758749 | Test : 0.03350367397069931\n",
            "epoch : 93 | Loss : 0.016473889350891113 | Test : 0.014264392666518688\n",
            "epoch : 94 | Loss : 0.0156941469758749 | Test : 0.03350367397069931\n",
            "epoch : 95 | Loss : 0.016473889350891113 | Test : 0.014264392666518688\n",
            "epoch : 96 | Loss : 0.0156941469758749 | Test : 0.03350367397069931\n",
            "epoch : 97 | Loss : 0.016473889350891113 | Test : 0.014264392666518688\n",
            "epoch : 98 | Loss : 0.0156941469758749 | Test : 0.03350367397069931\n",
            "epoch : 99 | Loss : 0.016473889350891113 | Test : 0.014264392666518688\n"
          ]
        }
      ]
    },
    {
      "cell_type": "code",
      "source": [
        "list(model0.parameters())"
      ],
      "metadata": {
        "colab": {
          "base_uri": "https://localhost:8080/"
        },
        "id": "EYBw5tq6OBMT",
        "outputId": "ffa40bac-f5bf-42d9-bcf3-d5dee454817a"
      },
      "execution_count": 19,
      "outputs": [
        {
          "output_type": "execute_result",
          "data": {
            "text/plain": [
              "[Parameter containing:\n",
              " tensor([0.6986], requires_grad=True),\n",
              " Parameter containing:\n",
              " tensor([0.3168], requires_grad=True)]"
            ]
          },
          "metadata": {},
          "execution_count": 19
        }
      ]
    },
    {
      "cell_type": "markdown",
      "source": [
        "## Saving the Model\n"
      ],
      "metadata": {
        "id": "AyJkOFO-MXkX"
      }
    },
    {
      "cell_type": "markdown",
      "source": [
        "Creating the path to save the model"
      ],
      "metadata": {
        "id": "id0WO7aNN9Dr"
      }
    },
    {
      "cell_type": "code",
      "source": [
        "from pathlib import Path\n",
        "\n",
        "model_path = Path('models')\n",
        "\n",
        "model_path.mkdir(parents = True, exist_ok = True)\n",
        "\n",
        "model_name = \"L2_workflow_practice_model.pth\"\n",
        "\n",
        "model_save_path = model_path / model_name\n",
        "\n",
        "model_save_path"
      ],
      "metadata": {
        "id": "3rOhJJb0REn6",
        "colab": {
          "base_uri": "https://localhost:8080/"
        },
        "outputId": "c55ec70a-4ff6-42e3-8c8a-0e8a5c339419"
      },
      "execution_count": 21,
      "outputs": [
        {
          "output_type": "execute_result",
          "data": {
            "text/plain": [
              "PosixPath('models/L2_workflow_practice_model.pth')"
            ]
          },
          "metadata": {},
          "execution_count": 21
        }
      ]
    },
    {
      "cell_type": "markdown",
      "source": [
        "Saving the model"
      ],
      "metadata": {
        "id": "YAkJmFgXOBkE"
      }
    },
    {
      "cell_type": "code",
      "source": [
        "pt.save(obj = model0.state_dict(),\n",
        "        f = model_save_path)"
      ],
      "metadata": {
        "id": "R1XmaaiEMd-f"
      },
      "execution_count": 22,
      "outputs": []
    },
    {
      "cell_type": "markdown",
      "source": [
        "### Loading the Model"
      ],
      "metadata": {
        "id": "a2na-yUTOzs7"
      }
    },
    {
      "cell_type": "code",
      "source": [
        "model0.state_dict()"
      ],
      "metadata": {
        "colab": {
          "base_uri": "https://localhost:8080/"
        },
        "id": "Z4R_avPnOSnh",
        "outputId": "828da155-2a82-4fff-a3bc-9b7e46f30a51"
      },
      "execution_count": 23,
      "outputs": [
        {
          "output_type": "execute_result",
          "data": {
            "text/plain": [
              "OrderedDict([('weights', tensor([0.6986])), ('bias', tensor([0.3168]))])"
            ]
          },
          "metadata": {},
          "execution_count": 23
        }
      ]
    },
    {
      "cell_type": "code",
      "source": [
        "model1 = LinReg()\n",
        "model1.load_state_dict(pt.load(f=model_save_path))"
      ],
      "metadata": {
        "colab": {
          "base_uri": "https://localhost:8080/"
        },
        "id": "bdCAgzvgO9mO",
        "outputId": "08c77cf0-122d-4d39-d220-58610270e6da"
      },
      "execution_count": 24,
      "outputs": [
        {
          "output_type": "stream",
          "name": "stderr",
          "text": [
            "<ipython-input-24-aa970e762a6a>:2: FutureWarning: You are using `torch.load` with `weights_only=False` (the current default value), which uses the default pickle module implicitly. It is possible to construct malicious pickle data which will execute arbitrary code during unpickling (See https://github.com/pytorch/pytorch/blob/main/SECURITY.md#untrusted-models for more details). In a future release, the default value for `weights_only` will be flipped to `True`. This limits the functions that could be executed during unpickling. Arbitrary objects will no longer be allowed to be loaded via this mode unless they are explicitly allowlisted by the user via `torch.serialization.add_safe_globals`. We recommend you start setting `weights_only=True` for any use case where you don't have full control of the loaded file. Please open an issue on GitHub for any issues related to this experimental feature.\n",
            "  model1.load_state_dict(pt.load(f=model_save_path))\n"
          ]
        },
        {
          "output_type": "execute_result",
          "data": {
            "text/plain": [
              "<All keys matched successfully>"
            ]
          },
          "metadata": {},
          "execution_count": 24
        }
      ]
    },
    {
      "cell_type": "code",
      "source": [
        "model1.state_dict()"
      ],
      "metadata": {
        "colab": {
          "base_uri": "https://localhost:8080/"
        },
        "id": "ytxl--GjPWtI",
        "outputId": "bbdb25b2-8fbd-4e36-8f20-a796f9cbedd0"
      },
      "execution_count": 25,
      "outputs": [
        {
          "output_type": "execute_result",
          "data": {
            "text/plain": [
              "OrderedDict([('weights', tensor([0.6986])), ('bias', tensor([0.3168]))])"
            ]
          },
          "metadata": {},
          "execution_count": 25
        }
      ]
    },
    {
      "cell_type": "code",
      "source": [],
      "metadata": {
        "id": "YlHg9kKjPcI8"
      },
      "execution_count": null,
      "outputs": []
    }
  ]
}