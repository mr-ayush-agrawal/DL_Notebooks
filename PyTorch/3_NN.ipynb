{
  "nbformat": 4,
  "nbformat_minor": 0,
  "metadata": {
    "colab": {
      "provenance": [],
      "authorship_tag": "ABX9TyNfyTZN38E8hLvqaBmz8CVl",
      "include_colab_link": true
    },
    "kernelspec": {
      "name": "python3",
      "display_name": "Python 3"
    },
    "language_info": {
      "name": "python"
    }
  },
  "cells": [
    {
      "cell_type": "markdown",
      "metadata": {
        "id": "view-in-github",
        "colab_type": "text"
      },
      "source": [
        "<a href=\"https://colab.research.google.com/github/mr-ayush-agrawal/DL_Notebooks/blob/main/PyTorch/3_NN.ipynb\" target=\"_parent\"><img src=\"https://colab.research.google.com/assets/colab-badge.svg\" alt=\"Open In Colab\"/></a>"
      ]
    },
    {
      "cell_type": "markdown",
      "source": [
        "## Neural Network Classification"
      ],
      "metadata": {
        "id": "zRlGu1lI6ja3"
      }
    },
    {
      "cell_type": "markdown",
      "source": [
        "Getting the data"
      ],
      "metadata": {
        "id": "aYDpE5vE8QoF"
      }
    },
    {
      "cell_type": "code",
      "execution_count": 1,
      "metadata": {
        "id": "R9Otu3G86Z44"
      },
      "outputs": [],
      "source": [
        "import sklearn\n",
        "from sklearn.datasets import make_circles"
      ]
    },
    {
      "cell_type": "code",
      "source": [
        "n_samples = 10000\n",
        "\n",
        "x, y = make_circles(n_samples,\n",
        "                    noise = 0.04,\n",
        "                    random_state = 42)"
      ],
      "metadata": {
        "id": "gt2X4qB77AT7"
      },
      "execution_count": 2,
      "outputs": []
    },
    {
      "cell_type": "code",
      "source": [
        "x[:10], y[:10]"
      ],
      "metadata": {
        "colab": {
          "base_uri": "https://localhost:8080/"
        },
        "id": "_sX3ChRw7ayD",
        "outputId": "21956564-b4d6-42ee-f286-716529b645ea"
      },
      "execution_count": 3,
      "outputs": [
        {
          "output_type": "execute_result",
          "data": {
            "text/plain": [
              "(array([[ 0.06262915,  0.83303863],\n",
              "        [ 1.03268848, -0.44888765],\n",
              "        [-0.58854477,  0.78509809],\n",
              "        [ 0.99707666, -0.3273843 ],\n",
              "        [ 0.83182545, -0.5408862 ],\n",
              "        [-0.14847666,  0.77003509],\n",
              "        [ 0.78917009,  0.64033044],\n",
              "        [ 0.70581834,  0.16480822],\n",
              "        [-0.12466933,  0.79861837],\n",
              "        [ 0.84882123,  0.49953611]]),\n",
              " array([1, 0, 0, 0, 0, 1, 0, 1, 1, 0]))"
            ]
          },
          "metadata": {},
          "execution_count": 3
        }
      ]
    },
    {
      "cell_type": "markdown",
      "source": [
        "Creating the dataframe"
      ],
      "metadata": {
        "id": "LYx5rg448UYk"
      }
    },
    {
      "cell_type": "code",
      "source": [
        "import pandas as pd\n",
        "df = pd.DataFrame({'x1': x[:, 0], \"x2\" : x[:,1], 'label':y})\n",
        "\n",
        "df.sample(10)"
      ],
      "metadata": {
        "colab": {
          "base_uri": "https://localhost:8080/",
          "height": 363
        },
        "id": "UHUEIutt8JOc",
        "outputId": "4ab2c661-0b40-4671-d0ab-7bacd0b2ea49"
      },
      "execution_count": 4,
      "outputs": [
        {
          "output_type": "execute_result",
          "data": {
            "text/plain": [
              "            x1        x2  label\n",
              "1918 -0.576729  0.554641      1\n",
              "9755  0.006431  0.820822      1\n",
              "1075  1.044817  0.096109      0\n",
              "1864  0.589487  0.591896      1\n",
              "9136 -0.085783  0.980994      0\n",
              "8134  0.967852 -0.106767      0\n",
              "8204 -0.165758 -0.763179      1\n",
              "502  -0.674361  0.411538      1\n",
              "8121  0.802456 -0.639249      0\n",
              "8711  0.473215  0.660722      1"
            ],
            "text/html": [
              "\n",
              "  <div id=\"df-d45e2e8b-42fa-496e-90a4-fa11f3e5e989\" class=\"colab-df-container\">\n",
              "    <div>\n",
              "<style scoped>\n",
              "    .dataframe tbody tr th:only-of-type {\n",
              "        vertical-align: middle;\n",
              "    }\n",
              "\n",
              "    .dataframe tbody tr th {\n",
              "        vertical-align: top;\n",
              "    }\n",
              "\n",
              "    .dataframe thead th {\n",
              "        text-align: right;\n",
              "    }\n",
              "</style>\n",
              "<table border=\"1\" class=\"dataframe\">\n",
              "  <thead>\n",
              "    <tr style=\"text-align: right;\">\n",
              "      <th></th>\n",
              "      <th>x1</th>\n",
              "      <th>x2</th>\n",
              "      <th>label</th>\n",
              "    </tr>\n",
              "  </thead>\n",
              "  <tbody>\n",
              "    <tr>\n",
              "      <th>1918</th>\n",
              "      <td>-0.576729</td>\n",
              "      <td>0.554641</td>\n",
              "      <td>1</td>\n",
              "    </tr>\n",
              "    <tr>\n",
              "      <th>9755</th>\n",
              "      <td>0.006431</td>\n",
              "      <td>0.820822</td>\n",
              "      <td>1</td>\n",
              "    </tr>\n",
              "    <tr>\n",
              "      <th>1075</th>\n",
              "      <td>1.044817</td>\n",
              "      <td>0.096109</td>\n",
              "      <td>0</td>\n",
              "    </tr>\n",
              "    <tr>\n",
              "      <th>1864</th>\n",
              "      <td>0.589487</td>\n",
              "      <td>0.591896</td>\n",
              "      <td>1</td>\n",
              "    </tr>\n",
              "    <tr>\n",
              "      <th>9136</th>\n",
              "      <td>-0.085783</td>\n",
              "      <td>0.980994</td>\n",
              "      <td>0</td>\n",
              "    </tr>\n",
              "    <tr>\n",
              "      <th>8134</th>\n",
              "      <td>0.967852</td>\n",
              "      <td>-0.106767</td>\n",
              "      <td>0</td>\n",
              "    </tr>\n",
              "    <tr>\n",
              "      <th>8204</th>\n",
              "      <td>-0.165758</td>\n",
              "      <td>-0.763179</td>\n",
              "      <td>1</td>\n",
              "    </tr>\n",
              "    <tr>\n",
              "      <th>502</th>\n",
              "      <td>-0.674361</td>\n",
              "      <td>0.411538</td>\n",
              "      <td>1</td>\n",
              "    </tr>\n",
              "    <tr>\n",
              "      <th>8121</th>\n",
              "      <td>0.802456</td>\n",
              "      <td>-0.639249</td>\n",
              "      <td>0</td>\n",
              "    </tr>\n",
              "    <tr>\n",
              "      <th>8711</th>\n",
              "      <td>0.473215</td>\n",
              "      <td>0.660722</td>\n",
              "      <td>1</td>\n",
              "    </tr>\n",
              "  </tbody>\n",
              "</table>\n",
              "</div>\n",
              "    <div class=\"colab-df-buttons\">\n",
              "\n",
              "  <div class=\"colab-df-container\">\n",
              "    <button class=\"colab-df-convert\" onclick=\"convertToInteractive('df-d45e2e8b-42fa-496e-90a4-fa11f3e5e989')\"\n",
              "            title=\"Convert this dataframe to an interactive table.\"\n",
              "            style=\"display:none;\">\n",
              "\n",
              "  <svg xmlns=\"http://www.w3.org/2000/svg\" height=\"24px\" viewBox=\"0 -960 960 960\">\n",
              "    <path d=\"M120-120v-720h720v720H120Zm60-500h600v-160H180v160Zm220 220h160v-160H400v160Zm0 220h160v-160H400v160ZM180-400h160v-160H180v160Zm440 0h160v-160H620v160ZM180-180h160v-160H180v160Zm440 0h160v-160H620v160Z\"/>\n",
              "  </svg>\n",
              "    </button>\n",
              "\n",
              "  <style>\n",
              "    .colab-df-container {\n",
              "      display:flex;\n",
              "      gap: 12px;\n",
              "    }\n",
              "\n",
              "    .colab-df-convert {\n",
              "      background-color: #E8F0FE;\n",
              "      border: none;\n",
              "      border-radius: 50%;\n",
              "      cursor: pointer;\n",
              "      display: none;\n",
              "      fill: #1967D2;\n",
              "      height: 32px;\n",
              "      padding: 0 0 0 0;\n",
              "      width: 32px;\n",
              "    }\n",
              "\n",
              "    .colab-df-convert:hover {\n",
              "      background-color: #E2EBFA;\n",
              "      box-shadow: 0px 1px 2px rgba(60, 64, 67, 0.3), 0px 1px 3px 1px rgba(60, 64, 67, 0.15);\n",
              "      fill: #174EA6;\n",
              "    }\n",
              "\n",
              "    .colab-df-buttons div {\n",
              "      margin-bottom: 4px;\n",
              "    }\n",
              "\n",
              "    [theme=dark] .colab-df-convert {\n",
              "      background-color: #3B4455;\n",
              "      fill: #D2E3FC;\n",
              "    }\n",
              "\n",
              "    [theme=dark] .colab-df-convert:hover {\n",
              "      background-color: #434B5C;\n",
              "      box-shadow: 0px 1px 3px 1px rgba(0, 0, 0, 0.15);\n",
              "      filter: drop-shadow(0px 1px 2px rgba(0, 0, 0, 0.3));\n",
              "      fill: #FFFFFF;\n",
              "    }\n",
              "  </style>\n",
              "\n",
              "    <script>\n",
              "      const buttonEl =\n",
              "        document.querySelector('#df-d45e2e8b-42fa-496e-90a4-fa11f3e5e989 button.colab-df-convert');\n",
              "      buttonEl.style.display =\n",
              "        google.colab.kernel.accessAllowed ? 'block' : 'none';\n",
              "\n",
              "      async function convertToInteractive(key) {\n",
              "        const element = document.querySelector('#df-d45e2e8b-42fa-496e-90a4-fa11f3e5e989');\n",
              "        const dataTable =\n",
              "          await google.colab.kernel.invokeFunction('convertToInteractive',\n",
              "                                                    [key], {});\n",
              "        if (!dataTable) return;\n",
              "\n",
              "        const docLinkHtml = 'Like what you see? Visit the ' +\n",
              "          '<a target=\"_blank\" href=https://colab.research.google.com/notebooks/data_table.ipynb>data table notebook</a>'\n",
              "          + ' to learn more about interactive tables.';\n",
              "        element.innerHTML = '';\n",
              "        dataTable['output_type'] = 'display_data';\n",
              "        await google.colab.output.renderOutput(dataTable, element);\n",
              "        const docLink = document.createElement('div');\n",
              "        docLink.innerHTML = docLinkHtml;\n",
              "        element.appendChild(docLink);\n",
              "      }\n",
              "    </script>\n",
              "  </div>\n",
              "\n",
              "\n",
              "<div id=\"df-56ade569-0dee-495c-9124-4a08ceebe2bc\">\n",
              "  <button class=\"colab-df-quickchart\" onclick=\"quickchart('df-56ade569-0dee-495c-9124-4a08ceebe2bc')\"\n",
              "            title=\"Suggest charts\"\n",
              "            style=\"display:none;\">\n",
              "\n",
              "<svg xmlns=\"http://www.w3.org/2000/svg\" height=\"24px\"viewBox=\"0 0 24 24\"\n",
              "     width=\"24px\">\n",
              "    <g>\n",
              "        <path d=\"M19 3H5c-1.1 0-2 .9-2 2v14c0 1.1.9 2 2 2h14c1.1 0 2-.9 2-2V5c0-1.1-.9-2-2-2zM9 17H7v-7h2v7zm4 0h-2V7h2v10zm4 0h-2v-4h2v4z\"/>\n",
              "    </g>\n",
              "</svg>\n",
              "  </button>\n",
              "\n",
              "<style>\n",
              "  .colab-df-quickchart {\n",
              "      --bg-color: #E8F0FE;\n",
              "      --fill-color: #1967D2;\n",
              "      --hover-bg-color: #E2EBFA;\n",
              "      --hover-fill-color: #174EA6;\n",
              "      --disabled-fill-color: #AAA;\n",
              "      --disabled-bg-color: #DDD;\n",
              "  }\n",
              "\n",
              "  [theme=dark] .colab-df-quickchart {\n",
              "      --bg-color: #3B4455;\n",
              "      --fill-color: #D2E3FC;\n",
              "      --hover-bg-color: #434B5C;\n",
              "      --hover-fill-color: #FFFFFF;\n",
              "      --disabled-bg-color: #3B4455;\n",
              "      --disabled-fill-color: #666;\n",
              "  }\n",
              "\n",
              "  .colab-df-quickchart {\n",
              "    background-color: var(--bg-color);\n",
              "    border: none;\n",
              "    border-radius: 50%;\n",
              "    cursor: pointer;\n",
              "    display: none;\n",
              "    fill: var(--fill-color);\n",
              "    height: 32px;\n",
              "    padding: 0;\n",
              "    width: 32px;\n",
              "  }\n",
              "\n",
              "  .colab-df-quickchart:hover {\n",
              "    background-color: var(--hover-bg-color);\n",
              "    box-shadow: 0 1px 2px rgba(60, 64, 67, 0.3), 0 1px 3px 1px rgba(60, 64, 67, 0.15);\n",
              "    fill: var(--button-hover-fill-color);\n",
              "  }\n",
              "\n",
              "  .colab-df-quickchart-complete:disabled,\n",
              "  .colab-df-quickchart-complete:disabled:hover {\n",
              "    background-color: var(--disabled-bg-color);\n",
              "    fill: var(--disabled-fill-color);\n",
              "    box-shadow: none;\n",
              "  }\n",
              "\n",
              "  .colab-df-spinner {\n",
              "    border: 2px solid var(--fill-color);\n",
              "    border-color: transparent;\n",
              "    border-bottom-color: var(--fill-color);\n",
              "    animation:\n",
              "      spin 1s steps(1) infinite;\n",
              "  }\n",
              "\n",
              "  @keyframes spin {\n",
              "    0% {\n",
              "      border-color: transparent;\n",
              "      border-bottom-color: var(--fill-color);\n",
              "      border-left-color: var(--fill-color);\n",
              "    }\n",
              "    20% {\n",
              "      border-color: transparent;\n",
              "      border-left-color: var(--fill-color);\n",
              "      border-top-color: var(--fill-color);\n",
              "    }\n",
              "    30% {\n",
              "      border-color: transparent;\n",
              "      border-left-color: var(--fill-color);\n",
              "      border-top-color: var(--fill-color);\n",
              "      border-right-color: var(--fill-color);\n",
              "    }\n",
              "    40% {\n",
              "      border-color: transparent;\n",
              "      border-right-color: var(--fill-color);\n",
              "      border-top-color: var(--fill-color);\n",
              "    }\n",
              "    60% {\n",
              "      border-color: transparent;\n",
              "      border-right-color: var(--fill-color);\n",
              "    }\n",
              "    80% {\n",
              "      border-color: transparent;\n",
              "      border-right-color: var(--fill-color);\n",
              "      border-bottom-color: var(--fill-color);\n",
              "    }\n",
              "    90% {\n",
              "      border-color: transparent;\n",
              "      border-bottom-color: var(--fill-color);\n",
              "    }\n",
              "  }\n",
              "</style>\n",
              "\n",
              "  <script>\n",
              "    async function quickchart(key) {\n",
              "      const quickchartButtonEl =\n",
              "        document.querySelector('#' + key + ' button');\n",
              "      quickchartButtonEl.disabled = true;  // To prevent multiple clicks.\n",
              "      quickchartButtonEl.classList.add('colab-df-spinner');\n",
              "      try {\n",
              "        const charts = await google.colab.kernel.invokeFunction(\n",
              "            'suggestCharts', [key], {});\n",
              "      } catch (error) {\n",
              "        console.error('Error during call to suggestCharts:', error);\n",
              "      }\n",
              "      quickchartButtonEl.classList.remove('colab-df-spinner');\n",
              "      quickchartButtonEl.classList.add('colab-df-quickchart-complete');\n",
              "    }\n",
              "    (() => {\n",
              "      let quickchartButtonEl =\n",
              "        document.querySelector('#df-56ade569-0dee-495c-9124-4a08ceebe2bc button');\n",
              "      quickchartButtonEl.style.display =\n",
              "        google.colab.kernel.accessAllowed ? 'block' : 'none';\n",
              "    })();\n",
              "  </script>\n",
              "</div>\n",
              "\n",
              "    </div>\n",
              "  </div>\n"
            ],
            "application/vnd.google.colaboratory.intrinsic+json": {
              "type": "dataframe",
              "summary": "{\n  \"name\": \"df\",\n  \"rows\": 10,\n  \"fields\": [\n    {\n      \"column\": \"x1\",\n      \"properties\": {\n        \"dtype\": \"number\",\n        \"std\": 0.6235012436240002,\n        \"min\": -0.6743613747875672,\n        \"max\": 1.044817018123195,\n        \"num_unique_values\": 10,\n        \"samples\": [\n          0.8024557019521532,\n          0.006430996080463068,\n          0.9678520290934534\n        ],\n        \"semantic_type\": \"\",\n        \"description\": \"\"\n      }\n    },\n    {\n      \"column\": \"x2\",\n      \"properties\": {\n        \"dtype\": \"number\",\n        \"std\": 0.5992384597006917,\n        \"min\": -0.7631793315056196,\n        \"max\": 0.980994487089703,\n        \"num_unique_values\": 10,\n        \"samples\": [\n          -0.6392487144499264,\n          0.8208216186441597,\n          -0.1067665981699039\n        ],\n        \"semantic_type\": \"\",\n        \"description\": \"\"\n      }\n    },\n    {\n      \"column\": \"label\",\n      \"properties\": {\n        \"dtype\": \"number\",\n        \"std\": 0,\n        \"min\": 0,\n        \"max\": 1,\n        \"num_unique_values\": 2,\n        \"samples\": [\n          0,\n          1\n        ],\n        \"semantic_type\": \"\",\n        \"description\": \"\"\n      }\n    }\n  ]\n}"
            }
          },
          "metadata": {},
          "execution_count": 4
        }
      ]
    },
    {
      "cell_type": "code",
      "source": [
        "import matplotlib.pyplot as plt\n",
        "\n",
        "plt.scatter(df['x1'],\n",
        "            df['x2'],\n",
        "            c = y,\n",
        "            cmap = plt.cm.RdYlBu,\n",
        "            alpha = 0.5)"
      ],
      "metadata": {
        "colab": {
          "base_uri": "https://localhost:8080/",
          "height": 447
        },
        "id": "i8u-Qlcm9S2j",
        "outputId": "d3d75313-265d-4593-b557-2aceb3a05f77"
      },
      "execution_count": 5,
      "outputs": [
        {
          "output_type": "execute_result",
          "data": {
            "text/plain": [
              "<matplotlib.collections.PathCollection at 0x7f04bf69edd0>"
            ]
          },
          "metadata": {},
          "execution_count": 5
        },
        {
          "output_type": "display_data",
          "data": {
            "text/plain": [
              "<Figure size 640x480 with 1 Axes>"
            ],
            "image/png": "[encoded data removed]"
          },
          "metadata": {}
        }
      ]
    },
    {
      "cell_type": "markdown",
      "source": [
        "## Converting the data into train test split"
      ],
      "metadata": {
        "id": "nOjtZY_6-iPe"
      }
    },
    {
      "cell_type": "code",
      "source": [
        "import torch as pt\n",
        "\n",
        "type(x), x.dtype"
      ],
      "metadata": {
        "colab": {
          "base_uri": "https://localhost:8080/"
        },
        "id": "b9RnskTT94RW",
        "outputId": "cc3de911-11c2-4eb8-8e5b-8d52fa0784e4"
      },
      "execution_count": 6,
      "outputs": [
        {
          "output_type": "execute_result",
          "data": {
            "text/plain": [
              "(numpy.ndarray, dtype('float64'))"
            ]
          },
          "metadata": {},
          "execution_count": 6
        }
      ]
    },
    {
      "cell_type": "code",
      "source": [
        "# Turn data into tensor\n",
        "x = pt.from_numpy(x).type(pt.float)\n",
        "y = pt.from_numpy(y).type(pt.float)\n",
        "\n",
        "x[:5], y[:5]"
      ],
      "metadata": {
        "colab": {
          "base_uri": "https://localhost:8080/"
        },
        "id": "cnGSOXxy_eX4",
        "outputId": "42a1e7c0-02ac-461e-df68-fc24ac0196e0"
      },
      "execution_count": 7,
      "outputs": [
        {
          "output_type": "execute_result",
          "data": {
            "text/plain": [
              "(tensor([[ 0.0626,  0.8330],\n",
              "         [ 1.0327, -0.4489],\n",
              "         [-0.5885,  0.7851],\n",
              "         [ 0.9971, -0.3274],\n",
              "         [ 0.8318, -0.5409]]),\n",
              " tensor([1., 0., 0., 0., 0.]))"
            ]
          },
          "metadata": {},
          "execution_count": 7
        }
      ]
    },
    {
      "cell_type": "markdown",
      "source": [
        "Splitting the data into train, test data"
      ],
      "metadata": {
        "id": "DIHyJVhD_7v8"
      }
    },
    {
      "cell_type": "code",
      "source": [
        "from sklearn.model_selection import train_test_split\n",
        "\n",
        "x_train, x_test, y_train, y_test = train_test_split(x, y, test_size = 0.2, random_state = len(x))\n",
        "\n",
        "x_train.shape, y_test.shape"
      ],
      "metadata": {
        "colab": {
          "base_uri": "https://localhost:8080/"
        },
        "id": "x_hl0rMb_1El",
        "outputId": "a57875a6-ea12-440c-db63-9b28d692145a"
      },
      "execution_count": 8,
      "outputs": [
        {
          "output_type": "execute_result",
          "data": {
            "text/plain": [
              "(torch.Size([8000, 2]), torch.Size([2000]))"
            ]
          },
          "metadata": {},
          "execution_count": 8
        }
      ]
    },
    {
      "cell_type": "markdown",
      "source": [
        "### Building the model"
      ],
      "metadata": {
        "id": "_T9_D8pHC7Xc"
      }
    },
    {
      "cell_type": "code",
      "source": [
        "device = 'cuda' if pt.cuda.is_available() else 'cpu'\n",
        "device"
      ],
      "metadata": {
        "colab": {
          "base_uri": "https://localhost:8080/",
          "height": 36
        },
        "id": "BIifDpN_AsRp",
        "outputId": "f46cf727-f3da-409a-cea4-89bdfaee63e4"
      },
      "execution_count": 9,
      "outputs": [
        {
          "output_type": "execute_result",
          "data": {
            "text/plain": [
              "'cpu'"
            ],
            "application/vnd.google.colaboratory.intrinsic+json": {
              "type": "string"
            }
          },
          "metadata": {},
          "execution_count": 9
        }
      ]
    },
    {
      "cell_type": "code",
      "source": [
        "import torch as pt\n",
        "from torch import nn\n",
        "from torch import optim"
      ],
      "metadata": {
        "id": "hvz_XsYfE9Om"
      },
      "execution_count": 10,
      "outputs": []
    },
    {
      "cell_type": "code",
      "source": [
        "class ClassificationModel (nn.Module):\n",
        "    def __init__(self):\n",
        "        super().__init__()\n",
        "        self.layer1 = nn.Linear(in_features = 2, out_features = 10)\n",
        "        self.layer2 = nn.Linear(in_features = 10, out_features = 5)\n",
        "        self.layer3 = nn.Linear(in_features = 5, out_features = 1)\n",
        "\n",
        "    def forward(self, x):\n",
        "        return self.layer3(self.layer2(self.layer1(x)))"
      ],
      "metadata": {
        "id": "Mn4XqNoVDJN0"
      },
      "execution_count": 11,
      "outputs": []
    },
    {
      "cell_type": "code",
      "source": [
        "model0 = ClassificationModel().to(device)\n",
        "model0\n"
      ],
      "metadata": {
        "colab": {
          "base_uri": "https://localhost:8080/"
        },
        "id": "m2txW4NOE6gS",
        "outputId": "a2929edb-1299-4296-caf0-c4cf7d4f6ea7"
      },
      "execution_count": 12,
      "outputs": [
        {
          "output_type": "execute_result",
          "data": {
            "text/plain": [
              "ClassificationModel(\n",
              "  (layer1): Linear(in_features=2, out_features=10, bias=True)\n",
              "  (layer2): Linear(in_features=10, out_features=5, bias=True)\n",
              "  (layer3): Linear(in_features=5, out_features=1, bias=True)\n",
              ")"
            ]
          },
          "metadata": {},
          "execution_count": 12
        }
      ]
    },
    {
      "cell_type": "code",
      "source": [
        "loss_fn = nn.BCEWithLogitsLoss()\n",
        "\n",
        "optimizer = optim.SGD(params = model0.parameters(),\n",
        "                      lr = 0.1)"
      ],
      "metadata": {
        "id": "8NgwT9rTFNz0"
      },
      "execution_count": 13,
      "outputs": []
    },
    {
      "cell_type": "code",
      "source": [
        "def acc_fn(y_true, y_pred):\n",
        "    correct = pt.eq(y_true, y_pred).sum().item()\n",
        "    acc = (correct/len(y_true))*100\n",
        "    return acc\n"
      ],
      "metadata": {
        "id": "OgG1lP2QHb4h"
      },
      "execution_count": 14,
      "outputs": []
    },
    {
      "cell_type": "markdown",
      "source": [
        "### Training the model"
      ],
      "metadata": {
        "id": "byvG20UVYP8x"
      }
    },
    {
      "cell_type": "code",
      "source": [
        "model0.eval()\n",
        "with pt.inference_mode():\n",
        "    y_logits = model0(x_test.to(device))[:5]\n",
        "y_logits"
      ],
      "metadata": {
        "colab": {
          "base_uri": "https://localhost:8080/"
        },
        "id": "-ymCDqAXIAik",
        "outputId": "d8101c07-9a39-427d-a207-467fe3e9eab6"
      },
      "execution_count": 15,
      "outputs": [
        {
          "output_type": "execute_result",
          "data": {
            "text/plain": [
              "tensor([[0.1181],\n",
              "        [0.3737],\n",
              "        [0.4469],\n",
              "        [0.1299],\n",
              "        [0.2117]])"
            ]
          },
          "metadata": {},
          "execution_count": 15
        }
      ]
    },
    {
      "cell_type": "code",
      "source": [
        "y_pred_prob = pt.sigmoid(y_logits)\n",
        "y_pred = pt.round(y_pred_prob)\n",
        "y_pred_labels = pt.round(pt.sigmoid(model0(x_test.to(device))[:5]))\n",
        "\n",
        "pt.eq(y_pred.squeeze(), y_pred_labels.squeeze())"
      ],
      "metadata": {
        "colab": {
          "base_uri": "https://localhost:8080/"
        },
        "id": "3RAwPfQJZGsR",
        "outputId": "c5a5250a-3e70-4653-dc54-0ab5d4e9a524"
      },
      "execution_count": 16,
      "outputs": [
        {
          "output_type": "execute_result",
          "data": {
            "text/plain": [
              "tensor([True, True, True, True, True])"
            ]
          },
          "metadata": {},
          "execution_count": 16
        }
      ]
    },
    {
      "cell_type": "markdown",
      "source": [
        "### Training and Testing Loop"
      ],
      "metadata": {
        "id": "HMoXvxugaU_k"
      }
    },
    {
      "cell_type": "code",
      "source": [
        "pt.manual_seed(42)\n",
        "pt.cuda.manual_seed(42)\n",
        "\n",
        "epochs = 100\n",
        "x_train, y_train = x_train.to(device), y_train.to(device)\n",
        "x_test, y_test = x_test.to(device), y_test.to(device)"
      ],
      "metadata": {
        "id": "9ae7l-UmaUy5"
      },
      "execution_count": 17,
      "outputs": []
    },
    {
      "cell_type": "code",
      "source": [
        "for epoch in range(epochs):\n",
        "    # Training\n",
        "    model0.train()\n",
        "\n",
        "    # Forward pass\n",
        "    y_logits = model0(x_train).squeeze()\n",
        "    y_pred = pt.round(pt.sigmoid(y_logits))\n",
        "\n",
        "    # calc loss/acc\n",
        "    loss = loss_fn(y_logits, y_train)\n",
        "    acc = acc_fn(y_true = y_train, y_pred = y_pred)\n",
        "\n",
        "    # optimizer zero grad\n",
        "    optimizer.zero_grad()\n",
        "\n",
        "    # loss backward   -> Back prop\n",
        "    loss.backward()\n",
        "\n",
        "    # optimizer step  -> Gradient Decent\n",
        "    optimizer.step()\n",
        "\n",
        "    # Testing\n",
        "    model0.eval()\n",
        "    with pt.inference_mode():\n",
        "        # Forward pass\n",
        "        test_logits = model0(x_test).squeeze()\n",
        "        test_pred = pt.round(pt.sigmoid(test_logits))\n",
        "\n",
        "        # calculating the test loss/acc\n",
        "        test_loss = loss_fn(test_logits, y_test)\n",
        "        test_acc = acc_fn(y_test, test_pred)\n",
        "\n",
        "    if epoch % 10==0:\n",
        "        print(f\"epoch: {epoch} | Loss : {loss : .4f} , Acc: {acc: .2f}, test_loss : {test_loss: .4f}, test_acc : {test_acc: .2f}\")"
      ],
      "metadata": {
        "colab": {
          "base_uri": "https://localhost:8080/"
        },
        "id": "xckPGecdaIfo",
        "outputId": "c279efb1-cd9f-4fdc-942f-7dbc13d45103"
      },
      "execution_count": 18,
      "outputs": [
        {
          "output_type": "stream",
          "name": "stdout",
          "text": [
            "epoch: 0 | Loss :  0.7027 , Acc:  50.35, test_loss :  0.7094, test_acc :  48.60\n",
            "epoch: 10 | Loss :  0.6973 , Acc:  56.41, test_loss :  0.7025, test_acc :  56.35\n",
            "epoch: 20 | Loss :  0.6952 , Acc:  53.99, test_loss :  0.6993, test_acc :  52.00\n",
            "epoch: 30 | Loss :  0.6943 , Acc:  52.62, test_loss :  0.6977, test_acc :  50.55\n",
            "epoch: 40 | Loss :  0.6939 , Acc:  51.78, test_loss :  0.6967, test_acc :  50.25\n",
            "epoch: 50 | Loss :  0.6936 , Acc:  51.66, test_loss :  0.6960, test_acc :  50.30\n",
            "epoch: 60 | Loss :  0.6935 , Acc:  51.40, test_loss :  0.6956, test_acc :  49.90\n",
            "epoch: 70 | Loss :  0.6934 , Acc:  51.45, test_loss :  0.6953, test_acc :  49.70\n",
            "epoch: 80 | Loss :  0.6933 , Acc:  51.31, test_loss :  0.6950, test_acc :  49.45\n",
            "epoch: 90 | Loss :  0.6932 , Acc:  51.32, test_loss :  0.6948, test_acc :  49.25\n"
          ]
        }
      ]
    },
    {
      "cell_type": "markdown",
      "source": [
        "### Predection and Evaluation"
      ],
      "metadata": {
        "id": "uQcs1Sczulrk"
      }
    },
    {
      "cell_type": "code",
      "source": [
        "import requests\n",
        "from pathlib import Path\n",
        "\n",
        "\n",
        "if Path('helper_functions.py').is_file():\n",
        "    print('Helper function already exits')\n",
        "else :\n",
        "    print('Download helper funciton')\n",
        "    req = requests.get('https://raw.githubusercontent.com/mrdbourke/pytorch-deep-learning/main/helper_functionspy')\n",
        "    with open('helper_functions.py', 'wb') as f:\n",
        "        f.write(req.content)"
      ],
      "metadata": {
        "colab": {
          "base_uri": "https://localhost:8080/"
        },
        "id": "I-xHCZyYelq5",
        "outputId": "1f85371b-5553-4ea3-d6df-e1776643a4cf"
      },
      "execution_count": 22,
      "outputs": [
        {
          "output_type": "stream",
          "name": "stdout",
          "text": [
            "Helper function already exits\n"
          ]
        }
      ]
    },
    {
      "cell_type": "code",
      "source": [
        "# import helper_functions as hf"
      ],
      "metadata": {
        "id": "FjzuvVNwv1nr"
      },
      "execution_count": 29,
      "outputs": []
    },
    {
      "cell_type": "markdown",
      "source": [
        "### Improving the model"
      ],
      "metadata": {
        "id": "vKb5o3WqyeQK"
      }
    },
    {
      "cell_type": "code",
      "source": [
        "class CircleModelV2(nn.Module):\n",
        "    def __init__(self):\n",
        "        super().__init__()\n",
        "        self.layer1 = nn.Linear(in_features = 2, out_features= 10)\n",
        "        self.layer2 = nn.Linear(in_features = 10, out_features = 16)\n",
        "        self.layer3 = nn.Linear(in_features = 16, out_features = 1)\n",
        "\n",
        "    def forward(self, x):\n",
        "        z = self.layer1(x)\n",
        "        z = self.layer2(z)\n",
        "        z = self.layer3(z)\n",
        "\n",
        "        return z;"
      ],
      "metadata": {
        "id": "8pi_0McpwYcN"
      },
      "execution_count": 30,
      "outputs": []
    },
    {
      "cell_type": "code",
      "source": [
        "model1 = CircleModelV2().to(device)\n",
        "model1"
      ],
      "metadata": {
        "colab": {
          "base_uri": "https://localhost:8080/"
        },
        "id": "3UFNrQC7zucH",
        "outputId": "bad214c1-9727-492b-bc46-c73716368db7"
      },
      "execution_count": 31,
      "outputs": [
        {
          "output_type": "execute_result",
          "data": {
            "text/plain": [
              "CircleModelV2(\n",
              "  (layer1): Linear(in_features=2, out_features=10, bias=True)\n",
              "  (layer2): Linear(in_features=10, out_features=16, bias=True)\n",
              "  (layer3): Linear(in_features=16, out_features=1, bias=True)\n",
              ")"
            ]
          },
          "metadata": {},
          "execution_count": 31
        }
      ]
    },
    {
      "cell_type": "code",
      "source": [
        "model1.state_dict()"
      ],
      "metadata": {
        "colab": {
          "base_uri": "https://localhost:8080/"
        },
        "id": "yalDqpzqz28P",
        "outputId": "b287679f-d1e8-41f4-d1a3-7b6fd12e91b5"
      },
      "execution_count": 32,
      "outputs": [
        {
          "output_type": "execute_result",
          "data": {
            "text/plain": [
              "OrderedDict([('layer1.weight',\n",
              "              tensor([[ 0.5406,  0.5869],\n",
              "                      [-0.1657,  0.6496],\n",
              "                      [-0.1549,  0.1427],\n",
              "                      [-0.3443,  0.4153],\n",
              "                      [ 0.6233, -0.5188],\n",
              "                      [ 0.6146,  0.1323],\n",
              "                      [ 0.5224,  0.0958],\n",
              "                      [ 0.3410, -0.0998],\n",
              "                      [ 0.5451,  0.1045],\n",
              "                      [-0.3301,  0.1802]])),\n",
              "             ('layer1.bias',\n",
              "              tensor([-0.3258, -0.0829, -0.2872,  0.4691, -0.5582, -0.3260, -0.1997, -0.4252,\n",
              "                       0.0667, -0.6984])),\n",
              "             ('layer2.weight',\n",
              "              tensor([[ 0.2856, -0.2686,  0.2441,  0.0526, -0.1027,  0.1954,  0.0493,  0.2555,\n",
              "                        0.0346, -0.0997],\n",
              "                      [ 0.0850, -0.0858,  0.1331,  0.2823,  0.1828, -0.1382,  0.1825,  0.0566,\n",
              "                        0.1606, -0.1927],\n",
              "                      [-0.3130, -0.1222, -0.2426,  0.2595,  0.0911,  0.1310,  0.1000, -0.0055,\n",
              "                        0.2475, -0.2247],\n",
              "                      [ 0.0199, -0.2158,  0.0975, -0.1089,  0.0969, -0.0659,  0.2623, -0.1874,\n",
              "                       -0.1886, -0.1886],\n",
              "                      [ 0.2844,  0.1054,  0.3043, -0.2610, -0.3137, -0.2474, -0.2127,  0.1281,\n",
              "                        0.1132,  0.2628],\n",
              "                      [-0.1633, -0.2156,  0.1678, -0.1278,  0.1919, -0.0750,  0.1809, -0.2457,\n",
              "                       -0.1596,  0.0964],\n",
              "                      [ 0.0669, -0.0806,  0.1885,  0.2150, -0.2293, -0.1688,  0.2896, -0.1067,\n",
              "                       -0.1121, -0.3060],\n",
              "                      [-0.1811,  0.0790, -0.0417, -0.2295,  0.0074, -0.2160, -0.2683, -0.1741,\n",
              "                       -0.2768, -0.2014],\n",
              "                      [ 0.3161,  0.0597,  0.0974, -0.2949, -0.2077, -0.1053,  0.0494, -0.2783,\n",
              "                       -0.1363, -0.1893],\n",
              "                      [ 0.0009, -0.1177, -0.0219, -0.2143, -0.2171, -0.1845, -0.1082, -0.2496,\n",
              "                        0.2651, -0.0628],\n",
              "                      [ 0.2721,  0.0985, -0.2678,  0.2188, -0.0870, -0.1212, -0.2625, -0.3144,\n",
              "                        0.0905, -0.0691],\n",
              "                      [ 0.1231, -0.2595,  0.2348, -0.2321, -0.0546,  0.0661,  0.1633,  0.2553,\n",
              "                        0.2881, -0.2507],\n",
              "                      [ 0.0796, -0.1360, -0.0347, -0.2367,  0.2880, -0.2321,  0.1690,  0.1111,\n",
              "                        0.1028, -0.1710],\n",
              "                      [ 0.2874,  0.0695,  0.0407, -0.2787,  0.1327, -0.0474, -0.1449,  0.2716,\n",
              "                        0.0705, -0.1750],\n",
              "                      [-0.1601, -0.0151,  0.1766, -0.0808, -0.1804, -0.1083, -0.2362,  0.1128,\n",
              "                        0.2448, -0.2977],\n",
              "                      [ 0.0734,  0.1634,  0.0573, -0.1126,  0.1651,  0.1662,  0.1182, -0.0556,\n",
              "                       -0.0837,  0.0338]])),\n",
              "             ('layer2.bias',\n",
              "              tensor([-0.0559, -0.0942,  0.2021,  0.2718, -0.0313, -0.0708,  0.0046, -0.0189,\n",
              "                       0.0760,  0.0886, -0.2872, -0.1167,  0.2663,  0.1232, -0.0157, -0.1907])),\n",
              "             ('layer3.weight',\n",
              "              tensor([[-0.1530, -0.2239, -0.0815,  0.0844,  0.1594,  0.1154, -0.2210, -0.1503,\n",
              "                       -0.0395,  0.2418,  0.0362, -0.0647,  0.1034, -0.0952, -0.1618,  0.1825]])),\n",
              "             ('layer3.bias', tensor([-0.1137]))])"
            ]
          },
          "metadata": {},
          "execution_count": 32
        }
      ]
    },
    {
      "cell_type": "code",
      "source": [
        "loss_fn = nn.BCEWithLogitsLoss()\n",
        "optimizer = optim.SGD(params = model1.parameters(), lr = 0.1)"
      ],
      "metadata": {
        "id": "VMk3IMqj0CQf"
      },
      "execution_count": 33,
      "outputs": []
    },
    {
      "cell_type": "code",
      "source": [
        "pt.manual_seed(42)\n",
        "pt.cuda.manual_seed(42)\n",
        "\n",
        "x_train, y_train = x_train.to(device), y_train.to(device)\n",
        "x_test, y_test = x_test.to(device), y_test.to(device)\n",
        "\n",
        "epochs = 1000\n",
        "\n",
        "for epoch in range(epochs):\n",
        "    # Training\n",
        "    model1.train()\n",
        "\n",
        "    # 1. Forward pass\n",
        "    y_logits = model1(x_train).squeeze()\n",
        "    y_pred = pt.round(pt.sigmoid(y_logits))\n",
        "\n",
        "    # 2. Calc Loss\n",
        "    loss = loss_fn(y_logits, y_train)\n",
        "    acc = acc_fn(y_train, y_pred)\n",
        "\n",
        "    # 3. Optimizer\n",
        "    optimizer.zero_grad()\n",
        "\n",
        "    # 4. Loss Backward -> Back prop\n",
        "    loss.backward()\n",
        "\n",
        "    # 5. Gradient Decent\n",
        "    optimizer.step()\n",
        "\n",
        "    # Testing\n",
        "    model1.eval()\n",
        "    with pt.inference_mode():\n",
        "        # 1. Forward Pass\n",
        "        test_logits = model1(x_test).squeeze()\n",
        "        test_pred = pt.round(pt.sigmoid(test_logits))\n",
        "\n",
        "        # 2. Clac Loss\n",
        "        test_loss = loss_fn(test_logits, y_test)\n",
        "        test_acc = acc_fn (test_pred, y_test)\n",
        "\n",
        "    if epoch %100 == 0:\n",
        "        print(f\"epoch: {epoch} | Loss : {loss : .4f} , Acc: {acc: .2f}, test_loss : {test_loss: .4f}, test_acc : {test_acc: .2f}\")"
      ],
      "metadata": {
        "colab": {
          "base_uri": "https://localhost:8080/"
        },
        "id": "8GscfI3n0ZML",
        "outputId": "fa74ed08-6994-412c-a544-ee991e82ae0a"
      },
      "execution_count": 36,
      "outputs": [
        {
          "output_type": "stream",
          "name": "stdout",
          "text": [
            "epoch: 0 | Loss :  0.7061 , Acc:  49.65, test_loss :  0.6987, test_acc :  51.40\n",
            "epoch: 100 | Loss :  0.6931 , Acc:  51.39, test_loss :  0.6938, test_acc :  50.05\n",
            "epoch: 200 | Loss :  0.6931 , Acc:  52.39, test_loss :  0.6938, test_acc :  49.70\n",
            "epoch: 300 | Loss :  0.6931 , Acc:  52.62, test_loss :  0.6938, test_acc :  50.45\n",
            "epoch: 400 | Loss :  0.6931 , Acc:  52.64, test_loss :  0.6938, test_acc :  50.65\n",
            "epoch: 500 | Loss :  0.6931 , Acc:  52.68, test_loss :  0.6938, test_acc :  50.75\n",
            "epoch: 600 | Loss :  0.6931 , Acc:  52.64, test_loss :  0.6938, test_acc :  50.90\n",
            "epoch: 700 | Loss :  0.6931 , Acc:  52.65, test_loss :  0.6938, test_acc :  50.90\n",
            "epoch: 800 | Loss :  0.6931 , Acc:  52.65, test_loss :  0.6938, test_acc :  50.90\n",
            "epoch: 900 | Loss :  0.6931 , Acc:  52.65, test_loss :  0.6938, test_acc :  50.90\n"
          ]
        }
      ]
    },
    {
      "cell_type": "markdown",
      "source": [
        "Not Plotint the decision boundary as the code is not working"
      ],
      "metadata": {
        "id": "nJ6QlDdb3Fjg"
      }
    },
    {
      "cell_type": "code",
      "source": [],
      "metadata": {
        "id": "f0qTLhPO07cG"
      },
      "execution_count": null,
      "outputs": []
    }
  ]
}