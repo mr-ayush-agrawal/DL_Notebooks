{
 "cells": [
  {
   "cell_type": "code",
   "execution_count": 1,
   "id": "c2999876",
   "metadata": {
    "_cell_guid": "b1076dfc-b9ad-4769-8c92-a6c4dae69d19",
    "_uuid": "8f2839f25d086af736a60e9eeb907d3b93b6e0e5",
    "execution": {
     "iopub.execute_input": "2024-06-29T12:04:58.232973Z",
     "iopub.status.busy": "2024-06-29T12:04:58.231626Z",
     "iopub.status.idle": "2024-06-29T12:04:59.237760Z",
     "shell.execute_reply": "2024-06-29T12:04:59.236389Z"
    },
    "papermill": {
     "duration": 1.018282,
     "end_time": "2024-06-29T12:04:59.240617",
     "exception": false,
     "start_time": "2024-06-29T12:04:58.222335",
     "status": "completed"
    },
    "tags": []
   },
   "outputs": [
    {
     "name": "stdout",
     "output_type": "stream",
     "text": [
      "/kaggle/input/digit-recognizer/sample_submission.csv\n",
      "/kaggle/input/digit-recognizer/train.csv\n",
      "/kaggle/input/digit-recognizer/test.csv\n"
     ]
    }
   ],
   "source": [
    "# This Python 3 environment comes with many helpful analytics libraries installed\n",
    "# It is defined by the kaggle/python Docker image: https://github.com/kaggle/docker-python\n",
    "# For example, here's several helpful packages to load\n",
    "\n",
    "import numpy as np # linear algebra\n",
    "import pandas as pd # data processing, CSV file I/O (e.g. pd.read_csv)\n",
    "\n",
    "# Input data files are available in the read-only \"../input/\" directory\n",
    "# For example, running this (by clicking run or pressing Shift+Enter) will list all files under the input directory\n",
    "\n",
    "import os\n",
    "for dirname, _, filenames in os.walk('/kaggle/input'):\n",
    "    for filename in filenames:\n",
    "        print(os.path.join(dirname, filename))\n",
    "\n",
    "# You can write up to 20GB to the current directory (/kaggle/working/) that gets preserved as output when you create a version using \"Save & Run All\" \n",
    "# You can also write temporary files to /kaggle/temp/, but they won't be saved outside of the current session"
   ]
  },
  {
   "cell_type": "code",
   "execution_count": 2,
   "id": "0ae0783b",
   "metadata": {
    "execution": {
     "iopub.execute_input": "2024-06-29T12:04:59.259291Z",
     "iopub.status.busy": "2024-06-29T12:04:59.257762Z",
     "iopub.status.idle": "2024-06-29T12:05:00.769761Z",
     "shell.execute_reply": "2024-06-29T12:05:00.768573Z"
    },
    "papermill": {
     "duration": 1.524759,
     "end_time": "2024-06-29T12:05:00.772717",
     "exception": false,
     "start_time": "2024-06-29T12:04:59.247958",
     "status": "completed"
    },
    "tags": []
   },
   "outputs": [],
   "source": [
    "import numpy as np\n",
    "import pandas as pd\n",
    "import matplotlib.pyplot as plt\n",
    "import seaborn as sns"
   ]
  },
  {
   "cell_type": "code",
   "execution_count": 3,
   "id": "6ecf0288",
   "metadata": {
    "execution": {
     "iopub.execute_input": "2024-06-29T12:05:00.788674Z",
     "iopub.status.busy": "2024-06-29T12:05:00.788271Z",
     "iopub.status.idle": "2024-06-29T12:05:05.003203Z",
     "shell.execute_reply": "2024-06-29T12:05:05.002074Z"
    },
    "papermill": {
     "duration": 4.225918,
     "end_time": "2024-06-29T12:05:05.005862",
     "exception": false,
     "start_time": "2024-06-29T12:05:00.779944",
     "status": "completed"
    },
    "tags": []
   },
   "outputs": [
    {
     "data": {
      "text/plain": [
       "(42000, 785)"
      ]
     },
     "execution_count": 3,
     "metadata": {},
     "output_type": "execute_result"
    }
   ],
   "source": [
    "data = pd.read_csv('/kaggle/input/digit-recognizer/train.csv')\n",
    "data.shape"
   ]
  },
  {
   "cell_type": "code",
   "execution_count": 4,
   "id": "bd677cc3",
   "metadata": {
    "execution": {
     "iopub.execute_input": "2024-06-29T12:05:05.022899Z",
     "iopub.status.busy": "2024-06-29T12:05:05.022462Z",
     "iopub.status.idle": "2024-06-29T12:05:07.467306Z",
     "shell.execute_reply": "2024-06-29T12:05:07.466026Z"
    },
    "papermill": {
     "duration": 2.456345,
     "end_time": "2024-06-29T12:05:07.469939",
     "exception": false,
     "start_time": "2024-06-29T12:05:05.013594",
     "status": "completed"
    },
    "tags": []
   },
   "outputs": [
    {
     "data": {
      "text/plain": [
       "((28000, 784), (28000, 2))"
      ]
     },
     "execution_count": 4,
     "metadata": {},
     "output_type": "execute_result"
    }
   ],
   "source": [
    "test_data  = pd.read_csv('/kaggle/input/digit-recognizer/test.csv')\n",
    "submission_df = pd.read_csv('/kaggle/input/digit-recognizer/sample_submission.csv')\n",
    "test_data.shape, submission_df.shape"
   ]
  },
  {
   "cell_type": "code",
   "execution_count": 5,
   "id": "464803eb",
   "metadata": {
    "execution": {
     "iopub.execute_input": "2024-06-29T12:05:07.486986Z",
     "iopub.status.busy": "2024-06-29T12:05:07.486561Z",
     "iopub.status.idle": "2024-06-29T12:05:07.523871Z",
     "shell.execute_reply": "2024-06-29T12:05:07.522758Z"
    },
    "papermill": {
     "duration": 0.049075,
     "end_time": "2024-06-29T12:05:07.526585",
     "exception": false,
     "start_time": "2024-06-29T12:05:07.477510",
     "status": "completed"
    },
    "tags": []
   },
   "outputs": [
    {
     "data": {
      "text/plain": [
       "0"
      ]
     },
     "execution_count": 5,
     "metadata": {},
     "output_type": "execute_result"
    }
   ],
   "source": [
    "data.isna().sum().sum()"
   ]
  },
  {
   "cell_type": "code",
   "execution_count": 6,
   "id": "29f079a7",
   "metadata": {
    "execution": {
     "iopub.execute_input": "2024-06-29T12:05:07.544247Z",
     "iopub.status.busy": "2024-06-29T12:05:07.543506Z",
     "iopub.status.idle": "2024-06-29T12:05:07.785345Z",
     "shell.execute_reply": "2024-06-29T12:05:07.784326Z"
    },
    "papermill": {
     "duration": 0.253719,
     "end_time": "2024-06-29T12:05:07.788155",
     "exception": false,
     "start_time": "2024-06-29T12:05:07.534436",
     "status": "completed"
    },
    "tags": []
   },
   "outputs": [],
   "source": [
    "x = np.array(data.drop('label', axis =1))\n",
    "y = np.array(data['label'])"
   ]
  },
  {
   "cell_type": "code",
   "execution_count": 7,
   "id": "2e92f1cb",
   "metadata": {
    "execution": {
     "iopub.execute_input": "2024-06-29T12:05:07.804877Z",
     "iopub.status.busy": "2024-06-29T12:05:07.804515Z",
     "iopub.status.idle": "2024-06-29T12:05:08.595291Z",
     "shell.execute_reply": "2024-06-29T12:05:08.594092Z"
    },
    "papermill": {
     "duration": 0.802232,
     "end_time": "2024-06-29T12:05:08.597951",
     "exception": false,
     "start_time": "2024-06-29T12:05:07.795719",
     "status": "completed"
    },
    "tags": []
   },
   "outputs": [
    {
     "data": {
      "text/plain": [
       "((37800, 784), (4200,))"
      ]
     },
     "execution_count": 7,
     "metadata": {},
     "output_type": "execute_result"
    }
   ],
   "source": [
    "# creating seprate datasets for training and validation will be using original x and y for making the final predection\n",
    "from sklearn.model_selection import train_test_split\n",
    "\n",
    "x_train, x_val, y_train, y_val = train_test_split(x, y, test_size = 0.1)\n",
    "x_train.shape, y_val.shape"
   ]
  },
  {
   "cell_type": "code",
   "execution_count": 8,
   "id": "979677be",
   "metadata": {
    "execution": {
     "iopub.execute_input": "2024-06-29T12:05:08.615579Z",
     "iopub.status.busy": "2024-06-29T12:05:08.615152Z",
     "iopub.status.idle": "2024-06-29T12:05:08.820925Z",
     "shell.execute_reply": "2024-06-29T12:05:08.819799Z"
    },
    "papermill": {
     "duration": 0.217742,
     "end_time": "2024-06-29T12:05:08.823538",
     "exception": false,
     "start_time": "2024-06-29T12:05:08.605796",
     "status": "completed"
    },
    "tags": []
   },
   "outputs": [
    {
     "data": {
      "text/plain": [
       "Text(0.5, 1.0, '9')"
      ]
     },
     "execution_count": 8,
     "metadata": {},
     "output_type": "execute_result"
    },
    {
     "data": {
      "image/png": "[encoded data removed]",
      "text/plain": [
       "<Figure size 300x300 with 1 Axes>"
      ]
     },
     "metadata": {},
     "output_type": "display_data"
    }
   ],
   "source": [
    "image = np.random.randint(len(x))\n",
    "plt.figure(figsize= (3,3))\n",
    "plt.imshow(x_train[image].reshape(28, 28), cmap='gray')\n",
    "plt.axis('off')\n",
    "plt.title(f'{y_train[image]}')"
   ]
  },
  {
   "cell_type": "markdown",
   "id": "97a4534f",
   "metadata": {
    "papermill": {
     "duration": 0.007969,
     "end_time": "2024-06-29T12:05:08.839558",
     "exception": false,
     "start_time": "2024-06-29T12:05:08.831589",
     "status": "completed"
    },
    "tags": []
   },
   "source": [
    "## Using ML models\n",
    "Using non-linear models like Random Forest and XGBoost for the task of classification."
   ]
  },
  {
   "cell_type": "code",
   "execution_count": 9,
   "id": "5ac73a62",
   "metadata": {
    "execution": {
     "iopub.execute_input": "2024-06-29T12:05:08.857957Z",
     "iopub.status.busy": "2024-06-29T12:05:08.857524Z",
     "iopub.status.idle": "2024-06-29T12:05:09.346962Z",
     "shell.execute_reply": "2024-06-29T12:05:09.345776Z"
    },
    "papermill": {
     "duration": 0.501846,
     "end_time": "2024-06-29T12:05:09.349732",
     "exception": false,
     "start_time": "2024-06-29T12:05:08.847886",
     "status": "completed"
    },
    "tags": []
   },
   "outputs": [],
   "source": [
    "from sklearn.ensemble import RandomForestClassifier\n",
    "from xgboost import XGBClassifier\n",
    "from sklearn.metrics import confusion_matrix, accuracy_score"
   ]
  },
  {
   "cell_type": "code",
   "execution_count": 10,
   "id": "92a2559e",
   "metadata": {
    "execution": {
     "iopub.execute_input": "2024-06-29T12:05:09.367889Z",
     "iopub.status.busy": "2024-06-29T12:05:09.367451Z",
     "iopub.status.idle": "2024-06-29T12:05:34.832428Z",
     "shell.execute_reply": "2024-06-29T12:05:34.831146Z"
    },
    "papermill": {
     "duration": 25.477382,
     "end_time": "2024-06-29T12:05:34.835283",
     "exception": false,
     "start_time": "2024-06-29T12:05:09.357901",
     "status": "completed"
    },
    "tags": []
   },
   "outputs": [
    {
     "name": "stdout",
     "output_type": "stream",
     "text": [
      "99.06613756613757\n",
      "95.38095238095238\n"
     ]
    }
   ],
   "source": [
    "rf_model = RandomForestClassifier(n_estimators = 100, random_state = len(x_train), max_depth = 12).fit(x_train, y_train)\n",
    "\n",
    "rf_train_pred = rf_model.predict(x_train)\n",
    "rf_val_pred = rf_model.predict(x_val)\n",
    "\n",
    "print(accuracy_score(y_train, rf_train_pred)*100)\n",
    "print(accuracy_score(y_val, rf_val_pred)*100)"
   ]
  },
  {
   "cell_type": "code",
   "execution_count": 11,
   "id": "15e48852",
   "metadata": {
    "execution": {
     "iopub.execute_input": "2024-06-29T12:05:34.854216Z",
     "iopub.status.busy": "2024-06-29T12:05:34.853042Z",
     "iopub.status.idle": "2024-06-29T12:09:25.158632Z",
     "shell.execute_reply": "2024-06-29T12:09:25.157709Z"
    },
    "papermill": {
     "duration": 230.326662,
     "end_time": "2024-06-29T12:09:25.170201",
     "exception": false,
     "start_time": "2024-06-29T12:05:34.843539",
     "status": "completed"
    },
    "tags": []
   },
   "outputs": [
    {
     "name": "stdout",
     "output_type": "stream",
     "text": [
      "100.0\n",
      "97.57142857142857\n"
     ]
    }
   ],
   "source": [
    "xgb_model = XGBClassifier(\n",
    "    n_estimators = 100, \n",
    "    random_state = len(x_train),\n",
    "    use_label_encoder=False\n",
    ").fit(x_train, y_train)\n",
    "\n",
    "xgb_train_pred = xgb_model.predict(x_train)\n",
    "xgb_val_pred = xgb_model.predict(x_val)\n",
    "\n",
    "print(accuracy_score(y_train, xgb_train_pred)*100)\n",
    "print(accuracy_score(y_val, xgb_val_pred)*100)"
   ]
  },
  {
   "cell_type": "code",
   "execution_count": 12,
   "id": "4cb4bd59",
   "metadata": {
    "execution": {
     "iopub.execute_input": "2024-06-29T12:09:25.188635Z",
     "iopub.status.busy": "2024-06-29T12:09:25.188230Z",
     "iopub.status.idle": "2024-06-29T12:09:26.622300Z",
     "shell.execute_reply": "2024-06-29T12:09:26.621081Z"
    },
    "papermill": {
     "duration": 1.446464,
     "end_time": "2024-06-29T12:09:26.625016",
     "exception": false,
     "start_time": "2024-06-29T12:09:25.178552",
     "status": "completed"
    },
    "tags": []
   },
   "outputs": [
    {
     "data": {
      "image/png": "[encoded data removed]",
      "text/plain": [
       "<Figure size 800x800 with 2 Axes>"
      ]
     },
     "metadata": {},
     "output_type": "display_data"
    },
    {
     "data": {
      "image/png": "[encoded data removed]",
      "text/plain": [
       "<Figure size 800x800 with 2 Axes>"
      ]
     },
     "metadata": {},
     "output_type": "display_data"
    }
   ],
   "source": [
    "def plot_confusion_matrix(y_actual, y_pred, title):\n",
    "    plt.figure(figsize = (8,8))\n",
    "    cm = confusion_matrix(y_actual, y_pred)\n",
    "    plt.title(title)\n",
    "    plt.xlabel('Actual')\n",
    "    plt.ylabel('Predicted')\n",
    "    sns.heatmap(cm, annot = True, fmt='d', cmap='Blues')\n",
    "    \n",
    "plot_confusion_matrix(y_val, rf_val_pred, 'Random Forest Validation')\n",
    "plot_confusion_matrix(y_val, xgb_val_pred, 'XGBoost Validation')"
   ]
  },
  {
   "cell_type": "markdown",
   "id": "e392a829",
   "metadata": {
    "papermill": {
     "duration": 0.009436,
     "end_time": "2024-06-29T12:09:26.644191",
     "exception": false,
     "start_time": "2024-06-29T12:09:26.634755",
     "status": "completed"
    },
    "tags": []
   },
   "source": [
    "We are getting pretty good accuracy for the XGB model so we are making our first prediction thorugh it"
   ]
  },
  {
   "cell_type": "code",
   "execution_count": 13,
   "id": "57b1f789",
   "metadata": {
    "execution": {
     "iopub.execute_input": "2024-06-29T12:09:26.665590Z",
     "iopub.status.busy": "2024-06-29T12:09:26.665169Z",
     "iopub.status.idle": "2024-06-29T12:13:41.575286Z",
     "shell.execute_reply": "2024-06-29T12:13:41.574156Z"
    },
    "papermill": {
     "duration": 254.933006,
     "end_time": "2024-06-29T12:13:41.586981",
     "exception": false,
     "start_time": "2024-06-29T12:09:26.653975",
     "status": "completed"
    },
    "tags": []
   },
   "outputs": [
    {
     "name": "stdout",
     "output_type": "stream",
     "text": [
      "CPU times: user 16min 37s, sys: 1.01 s, total: 16min 38s\n",
      "Wall time: 4min 14s\n"
     ]
    },
    {
     "data": {
      "text/html": [
       "<style>#sk-container-id-1 {color: black;background-color: white;}#sk-container-id-1 pre{padding: 0;}#sk-container-id-1 div.sk-toggleable {background-color: white;}#sk-container-id-1 label.sk-toggleable__label {cursor: pointer;display: block;width: 100%;margin-bottom: 0;padding: 0.3em;box-sizing: border-box;text-align: center;}#sk-container-id-1 label.sk-toggleable__label-arrow:before {content: \"▸\";float: left;margin-right: 0.25em;color: #696969;}#sk-container-id-1 label.sk-toggleable__label-arrow:hover:before {color: black;}#sk-container-id-1 div.sk-estimator:hover label.sk-toggleable__label-arrow:before {color: black;}#sk-container-id-1 div.sk-toggleable__content {max-height: 0;max-width: 0;overflow: hidden;text-align: left;background-color: #f0f8ff;}#sk-container-id-1 div.sk-toggleable__content pre {margin: 0.2em;color: black;border-radius: 0.25em;background-color: #f0f8ff;}#sk-container-id-1 input.sk-toggleable__control:checked~div.sk-toggleable__content {max-height: 200px;max-width: 100%;overflow: auto;}#sk-container-id-1 input.sk-toggleable__control:checked~label.sk-toggleable__label-arrow:before {content: \"▾\";}#sk-container-id-1 div.sk-estimator input.sk-toggleable__control:checked~label.sk-toggleable__label {background-color: #d4ebff;}#sk-container-id-1 div.sk-label input.sk-toggleable__control:checked~label.sk-toggleable__label {background-color: #d4ebff;}#sk-container-id-1 input.sk-hidden--visually {border: 0;clip: rect(1px 1px 1px 1px);clip: rect(1px, 1px, 1px, 1px);height: 1px;margin: -1px;overflow: hidden;padding: 0;position: absolute;width: 1px;}#sk-container-id-1 div.sk-estimator {font-family: monospace;background-color: #f0f8ff;border: 1px dotted black;border-radius: 0.25em;box-sizing: border-box;margin-bottom: 0.5em;}#sk-container-id-1 div.sk-estimator:hover {background-color: #d4ebff;}#sk-container-id-1 div.sk-parallel-item::after {content: \"\";width: 100%;border-bottom: 1px solid gray;flex-grow: 1;}#sk-container-id-1 div.sk-label:hover label.sk-toggleable__label {background-color: #d4ebff;}#sk-container-id-1 div.sk-serial::before {content: \"\";position: absolute;border-left: 1px solid gray;box-sizing: border-box;top: 0;bottom: 0;left: 50%;z-index: 0;}#sk-container-id-1 div.sk-serial {display: flex;flex-direction: column;align-items: center;background-color: white;padding-right: 0.2em;padding-left: 0.2em;position: relative;}#sk-container-id-1 div.sk-item {position: relative;z-index: 1;}#sk-container-id-1 div.sk-parallel {display: flex;align-items: stretch;justify-content: center;background-color: white;position: relative;}#sk-container-id-1 div.sk-item::before, #sk-container-id-1 div.sk-parallel-item::before {content: \"\";position: absolute;border-left: 1px solid gray;box-sizing: border-box;top: 0;bottom: 0;left: 50%;z-index: -1;}#sk-container-id-1 div.sk-parallel-item {display: flex;flex-direction: column;z-index: 1;position: relative;background-color: white;}#sk-container-id-1 div.sk-parallel-item:first-child::after {align-self: flex-end;width: 50%;}#sk-container-id-1 div.sk-parallel-item:last-child::after {align-self: flex-start;width: 50%;}#sk-container-id-1 div.sk-parallel-item:only-child::after {width: 0;}#sk-container-id-1 div.sk-dashed-wrapped {border: 1px dashed gray;margin: 0 0.4em 0.5em 0.4em;box-sizing: border-box;padding-bottom: 0.4em;background-color: white;}#sk-container-id-1 div.sk-label label {font-family: monospace;font-weight: bold;display: inline-block;line-height: 1.2em;}#sk-container-id-1 div.sk-label-container {text-align: center;}#sk-container-id-1 div.sk-container {/* jupyter's `normalize.less` sets `[hidden] { display: none; }` but bootstrap.min.css set `[hidden] { display: none !important; }` so we also need the `!important` here to be able to override the default hidden behavior on the sphinx rendered scikit-learn.org. See: https://github.com/scikit-learn/scikit-learn/issues/21755 */display: inline-block !important;position: relative;}#sk-container-id-1 div.sk-text-repr-fallback {display: none;}</style><div id=\"sk-container-id-1\" class=\"sk-top-container\"><div class=\"sk-text-repr-fallback\"><pre>XGBClassifier(base_score=None, booster=None, callbacks=None,\n",
       "              colsample_bylevel=None, colsample_bynode=None,\n",
       "              colsample_bytree=None, device=None, early_stopping_rounds=None,\n",
       "              enable_categorical=False, eval_metric=None, feature_types=None,\n",
       "              gamma=None, grow_policy=None, importance_type=None,\n",
       "              interaction_constraints=None, learning_rate=None, max_bin=None,\n",
       "              max_cat_threshold=None, max_cat_to_onehot=None,\n",
       "              max_delta_step=None, max_depth=None, max_leaves=None,\n",
       "              min_child_weight=None, missing=nan, monotone_constraints=None,\n",
       "              multi_strategy=None, n_estimators=100, n_jobs=None,\n",
       "              num_parallel_tree=None, objective=&#x27;multi:softprob&#x27;, ...)</pre><b>In a Jupyter environment, please rerun this cell to show the HTML representation or trust the notebook. <br />On GitHub, the HTML representation is unable to render, please try loading this page with nbviewer.org.</b></div><div class=\"sk-container\" hidden><div class=\"sk-item\"><div class=\"sk-estimator sk-toggleable\"><input class=\"sk-toggleable__control sk-hidden--visually\" id=\"sk-estimator-id-1\" type=\"checkbox\" checked><label for=\"sk-estimator-id-1\" class=\"sk-toggleable__label sk-toggleable__label-arrow\">XGBClassifier</label><div class=\"sk-toggleable__content\"><pre>XGBClassifier(base_score=None, booster=None, callbacks=None,\n",
       "              colsample_bylevel=None, colsample_bynode=None,\n",
       "              colsample_bytree=None, device=None, early_stopping_rounds=None,\n",
       "              enable_categorical=False, eval_metric=None, feature_types=None,\n",
       "              gamma=None, grow_policy=None, importance_type=None,\n",
       "              interaction_constraints=None, learning_rate=None, max_bin=None,\n",
       "              max_cat_threshold=None, max_cat_to_onehot=None,\n",
       "              max_delta_step=None, max_depth=None, max_leaves=None,\n",
       "              min_child_weight=None, missing=nan, monotone_constraints=None,\n",
       "              multi_strategy=None, n_estimators=100, n_jobs=None,\n",
       "              num_parallel_tree=None, objective=&#x27;multi:softprob&#x27;, ...)</pre></div></div></div></div></div>"
      ],
      "text/plain": [
       "XGBClassifier(base_score=None, booster=None, callbacks=None,\n",
       "              colsample_bylevel=None, colsample_bynode=None,\n",
       "              colsample_bytree=None, device=None, early_stopping_rounds=None,\n",
       "              enable_categorical=False, eval_metric=None, feature_types=None,\n",
       "              gamma=None, grow_policy=None, importance_type=None,\n",
       "              interaction_constraints=None, learning_rate=None, max_bin=None,\n",
       "              max_cat_threshold=None, max_cat_to_onehot=None,\n",
       "              max_delta_step=None, max_depth=None, max_leaves=None,\n",
       "              min_child_weight=None, missing=nan, monotone_constraints=None,\n",
       "              multi_strategy=None, n_estimators=100, n_jobs=None,\n",
       "              num_parallel_tree=None, objective='multi:softprob', ...)"
      ]
     },
     "execution_count": 13,
     "metadata": {},
     "output_type": "execute_result"
    }
   ],
   "source": [
    "%%time\n",
    "xgb_model.fit(x, y)"
   ]
  },
  {
   "cell_type": "code",
   "execution_count": 14,
   "id": "c4cfee5d",
   "metadata": {
    "execution": {
     "iopub.execute_input": "2024-06-29T12:13:41.609526Z",
     "iopub.status.busy": "2024-06-29T12:13:41.609051Z",
     "iopub.status.idle": "2024-06-29T12:13:41.617072Z",
     "shell.execute_reply": "2024-06-29T12:13:41.615903Z"
    },
    "papermill": {
     "duration": 0.022145,
     "end_time": "2024-06-29T12:13:41.619509",
     "exception": false,
     "start_time": "2024-06-29T12:13:41.597364",
     "status": "completed"
    },
    "tags": []
   },
   "outputs": [
    {
     "data": {
      "text/plain": [
       "Index(['ImageId', 'Label'], dtype='object')"
      ]
     },
     "execution_count": 14,
     "metadata": {},
     "output_type": "execute_result"
    }
   ],
   "source": [
    "submission_df.columns"
   ]
  },
  {
   "cell_type": "code",
   "execution_count": 15,
   "id": "b08d680f",
   "metadata": {
    "execution": {
     "iopub.execute_input": "2024-06-29T12:13:41.642577Z",
     "iopub.status.busy": "2024-06-29T12:13:41.641601Z",
     "iopub.status.idle": "2024-06-29T12:13:41.648010Z",
     "shell.execute_reply": "2024-06-29T12:13:41.646883Z"
    },
    "papermill": {
     "duration": 0.020446,
     "end_time": "2024-06-29T12:13:41.650430",
     "exception": false,
     "start_time": "2024-06-29T12:13:41.629984",
     "status": "completed"
    },
    "tags": []
   },
   "outputs": [],
   "source": [
    "def make_submission(model):\n",
    "    pred = model.predict(test_data)\n",
    "    submission_df['Label'] = pred\n",
    "    submission_df.to_csv('Submission.csv', index = False)"
   ]
  },
  {
   "cell_type": "code",
   "execution_count": 16,
   "id": "1a8a0407",
   "metadata": {
    "execution": {
     "iopub.execute_input": "2024-06-29T12:13:41.672816Z",
     "iopub.status.busy": "2024-06-29T12:13:41.672400Z",
     "iopub.status.idle": "2024-06-29T12:13:42.295935Z",
     "shell.execute_reply": "2024-06-29T12:13:42.294760Z"
    },
    "papermill": {
     "duration": 0.638017,
     "end_time": "2024-06-29T12:13:42.298752",
     "exception": false,
     "start_time": "2024-06-29T12:13:41.660735",
     "status": "completed"
    },
    "tags": []
   },
   "outputs": [],
   "source": [
    "make_submission(xgb_model)"
   ]
  },
  {
   "cell_type": "code",
   "execution_count": 17,
   "id": "f00c32ad",
   "metadata": {
    "execution": {
     "iopub.execute_input": "2024-06-29T12:13:42.321699Z",
     "iopub.status.busy": "2024-06-29T12:13:42.320852Z",
     "iopub.status.idle": "2024-06-29T12:13:42.337458Z",
     "shell.execute_reply": "2024-06-29T12:13:42.336286Z"
    },
    "papermill": {
     "duration": 0.030744,
     "end_time": "2024-06-29T12:13:42.339929",
     "exception": false,
     "start_time": "2024-06-29T12:13:42.309185",
     "status": "completed"
    },
    "tags": []
   },
   "outputs": [
    {
     "data": {
      "text/html": [
       "<div>\n",
       "<style scoped>\n",
       "    .dataframe tbody tr th:only-of-type {\n",
       "        vertical-align: middle;\n",
       "    }\n",
       "\n",
       "    .dataframe tbody tr th {\n",
       "        vertical-align: top;\n",
       "    }\n",
       "\n",
       "    .dataframe thead th {\n",
       "        text-align: right;\n",
       "    }\n",
       "</style>\n",
       "<table border=\"1\" class=\"dataframe\">\n",
       "  <thead>\n",
       "    <tr style=\"text-align: right;\">\n",
       "      <th></th>\n",
       "      <th>ImageId</th>\n",
       "      <th>Label</th>\n",
       "    </tr>\n",
       "  </thead>\n",
       "  <tbody>\n",
       "    <tr>\n",
       "      <th>0</th>\n",
       "      <td>1</td>\n",
       "      <td>2</td>\n",
       "    </tr>\n",
       "    <tr>\n",
       "      <th>1</th>\n",
       "      <td>2</td>\n",
       "      <td>0</td>\n",
       "    </tr>\n",
       "    <tr>\n",
       "      <th>2</th>\n",
       "      <td>3</td>\n",
       "      <td>9</td>\n",
       "    </tr>\n",
       "    <tr>\n",
       "      <th>3</th>\n",
       "      <td>4</td>\n",
       "      <td>9</td>\n",
       "    </tr>\n",
       "    <tr>\n",
       "      <th>4</th>\n",
       "      <td>5</td>\n",
       "      <td>3</td>\n",
       "    </tr>\n",
       "    <tr>\n",
       "      <th>...</th>\n",
       "      <td>...</td>\n",
       "      <td>...</td>\n",
       "    </tr>\n",
       "    <tr>\n",
       "      <th>27995</th>\n",
       "      <td>27996</td>\n",
       "      <td>9</td>\n",
       "    </tr>\n",
       "    <tr>\n",
       "      <th>27996</th>\n",
       "      <td>27997</td>\n",
       "      <td>7</td>\n",
       "    </tr>\n",
       "    <tr>\n",
       "      <th>27997</th>\n",
       "      <td>27998</td>\n",
       "      <td>3</td>\n",
       "    </tr>\n",
       "    <tr>\n",
       "      <th>27998</th>\n",
       "      <td>27999</td>\n",
       "      <td>9</td>\n",
       "    </tr>\n",
       "    <tr>\n",
       "      <th>27999</th>\n",
       "      <td>28000</td>\n",
       "      <td>2</td>\n",
       "    </tr>\n",
       "  </tbody>\n",
       "</table>\n",
       "<p>28000 rows × 2 columns</p>\n",
       "</div>"
      ],
      "text/plain": [
       "       ImageId  Label\n",
       "0            1      2\n",
       "1            2      0\n",
       "2            3      9\n",
       "3            4      9\n",
       "4            5      3\n",
       "...        ...    ...\n",
       "27995    27996      9\n",
       "27996    27997      7\n",
       "27997    27998      3\n",
       "27998    27999      9\n",
       "27999    28000      2\n",
       "\n",
       "[28000 rows x 2 columns]"
      ]
     },
     "execution_count": 17,
     "metadata": {},
     "output_type": "execute_result"
    }
   ],
   "source": [
    "submission_df"
   ]
  },
  {
   "cell_type": "code",
   "execution_count": null,
   "id": "9893de64",
   "metadata": {
    "papermill": {
     "duration": 0.010335,
     "end_time": "2024-06-29T12:13:42.361224",
     "exception": false,
     "start_time": "2024-06-29T12:13:42.350889",
     "status": "completed"
    },
    "tags": []
   },
   "outputs": [],
   "source": []
  }
 ],
 "metadata": {
  "kaggle": {
   "accelerator": "none",
   "dataSources": [
    {
     "databundleVersionId": 861823,
     "sourceId": 3004,
     "sourceType": "competition"
    }
   ],
   "dockerImageVersionId": 30732,
   "isGpuEnabled": false,
   "isInternetEnabled": true,
   "language": "python",
   "sourceType": "notebook"
  },
  "kernelspec": {
   "display_name": "Python 3",
   "language": "python",
   "name": "python3"
  },
  "language_info": {
   "codemirror_mode": {
    "name": "ipython",
    "version": 3
   },
   "file_extension": ".py",
   "mimetype": "text/x-python",
   "name": "python",
   "nbconvert_exporter": "python",
   "pygments_lexer": "ipython3",
   "version": "3.10.13"
  },
  "papermill": {
   "default_parameters": {},
   "duration": 528.122186,
   "end_time": "2024-06-29T12:13:43.095546",
   "environment_variables": {},
   "exception": null,
   "input_path": "__notebook__.ipynb",
   "output_path": "__notebook__.ipynb",
   "parameters": {},
   "start_time": "2024-06-29T12:04:54.973360",
   "version": "2.5.0"
  }
 },
 "nbformat": 4,
 "nbformat_minor": 5
}
