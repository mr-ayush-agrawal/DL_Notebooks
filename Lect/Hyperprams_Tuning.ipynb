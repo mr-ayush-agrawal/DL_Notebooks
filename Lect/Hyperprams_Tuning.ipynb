{
  "nbformat": 4,
  "nbformat_minor": 0,
  "metadata": {
    "colab": {
      "provenance": [],
      "authorship_tag": "ABX9TyNxIGbBQBekCXoX4gm0NYAC",
      "include_colab_link": true
    },
    "kernelspec": {
      "name": "python3",
      "display_name": "Python 3"
    },
    "language_info": {
      "name": "python"
    }
  },
  "cells": [
    {
      "cell_type": "markdown",
      "metadata": {
        "id": "view-in-github",
        "colab_type": "text"
      },
      "source": [
        "<a href=\"https://colab.research.google.com/github/mr-ayush-agrawal/DL_Notebooks/blob/main/Lect/Hyperprams_Tuning.ipynb\" target=\"_parent\"><img src=\"https://colab.research.google.com/assets/colab-badge.svg\" alt=\"Open In Colab\"/></a>"
      ]
    },
    {
      "cell_type": "markdown",
      "source": [
        "## Hyperparameters Tuning\n",
        "\n",
        "We are using [Pima Indians Diabetes Dataset](https://www.kaggle.com/datasets/uciml/pima-indians-diabetes-database/data) for this notebook and tring to get the concept of hyperparameter tuning\n",
        "\n",
        "A copy of same dataset has been stored in the github and using the same here."
      ],
      "metadata": {
        "id": "kOSlHwSV_4VZ"
      }
    },
    {
      "cell_type": "code",
      "source": [
        "import pandas as pd\n",
        "import numpy as np"
      ],
      "metadata": {
        "id": "MTodP9DC_4E5"
      },
      "execution_count": 1,
      "outputs": []
    },
    {
      "cell_type": "code",
      "source": [
        "df = pd.read_csv('https://raw.githubusercontent.com/mr-ayush-agrawal/DL_Notebooks/main/Lect/IndianDiabetes.csv')\n",
        "df.shape"
      ],
      "metadata": {
        "colab": {
          "base_uri": "https://localhost:8080/"
        },
        "id": "HWI1IMLW_2sE",
        "outputId": "3b11cbb2-41fd-40d8-e8fe-8c71259bc932"
      },
      "execution_count": 2,
      "outputs": [
        {
          "output_type": "execute_result",
          "data": {
            "text/plain": [
              "(768, 9)"
            ]
          },
          "metadata": {},
          "execution_count": 2
        }
      ]
    },
    {
      "cell_type": "code",
      "execution_count": 4,
      "metadata": {
        "colab": {
          "base_uri": "https://localhost:8080/",
          "height": 206
        },
        "id": "aqp7ZB-__sNu",
        "outputId": "1553901b-71fa-4755-d699-038bffae460d"
      },
      "outputs": [
        {
          "output_type": "execute_result",
          "data": {
            "text/plain": [
              "     Pregnancies  Glucose  BloodPressure  SkinThickness  Insulin   BMI  \\\n",
              "517            7      125             86              0        0  37.6   \n",
              "61             8      133             72              0        0  32.9   \n",
              "421            2       94             68             18       76  26.0   \n",
              "598            1      173             74              0        0  36.8   \n",
              "627            0      132             78              0        0  32.4   \n",
              "\n",
              "     DiabetesPedigreeFunction  Age  Outcome  \n",
              "517                     0.304   51        0  \n",
              "61                      0.270   39        1  \n",
              "421                     0.561   21        0  \n",
              "598                     0.088   38        1  \n",
              "627                     0.393   21        0  "
            ],
            "text/html": [
              "\n",
              "  <div id=\"df-8c979223-25a0-40d8-8968-6b7c7382fa51\" class=\"colab-df-container\">\n",
              "    <div>\n",
              "<style scoped>\n",
              "    .dataframe tbody tr th:only-of-type {\n",
              "        vertical-align: middle;\n",
              "    }\n",
              "\n",
              "    .dataframe tbody tr th {\n",
              "        vertical-align: top;\n",
              "    }\n",
              "\n",
              "    .dataframe thead th {\n",
              "        text-align: right;\n",
              "    }\n",
              "</style>\n",
              "<table border=\"1\" class=\"dataframe\">\n",
              "  <thead>\n",
              "    <tr style=\"text-align: right;\">\n",
              "      <th></th>\n",
              "      <th>Pregnancies</th>\n",
              "      <th>Glucose</th>\n",
              "      <th>BloodPressure</th>\n",
              "      <th>SkinThickness</th>\n",
              "      <th>Insulin</th>\n",
              "      <th>BMI</th>\n",
              "      <th>DiabetesPedigreeFunction</th>\n",
              "      <th>Age</th>\n",
              "      <th>Outcome</th>\n",
              "    </tr>\n",
              "  </thead>\n",
              "  <tbody>\n",
              "    <tr>\n",
              "      <th>517</th>\n",
              "      <td>7</td>\n",
              "      <td>125</td>\n",
              "      <td>86</td>\n",
              "      <td>0</td>\n",
              "      <td>0</td>\n",
              "      <td>37.6</td>\n",
              "      <td>0.304</td>\n",
              "      <td>51</td>\n",
              "      <td>0</td>\n",
              "    </tr>\n",
              "    <tr>\n",
              "      <th>61</th>\n",
              "      <td>8</td>\n",
              "      <td>133</td>\n",
              "      <td>72</td>\n",
              "      <td>0</td>\n",
              "      <td>0</td>\n",
              "      <td>32.9</td>\n",
              "      <td>0.270</td>\n",
              "      <td>39</td>\n",
              "      <td>1</td>\n",
              "    </tr>\n",
              "    <tr>\n",
              "      <th>421</th>\n",
              "      <td>2</td>\n",
              "      <td>94</td>\n",
              "      <td>68</td>\n",
              "      <td>18</td>\n",
              "      <td>76</td>\n",
              "      <td>26.0</td>\n",
              "      <td>0.561</td>\n",
              "      <td>21</td>\n",
              "      <td>0</td>\n",
              "    </tr>\n",
              "    <tr>\n",
              "      <th>598</th>\n",
              "      <td>1</td>\n",
              "      <td>173</td>\n",
              "      <td>74</td>\n",
              "      <td>0</td>\n",
              "      <td>0</td>\n",
              "      <td>36.8</td>\n",
              "      <td>0.088</td>\n",
              "      <td>38</td>\n",
              "      <td>1</td>\n",
              "    </tr>\n",
              "    <tr>\n",
              "      <th>627</th>\n",
              "      <td>0</td>\n",
              "      <td>132</td>\n",
              "      <td>78</td>\n",
              "      <td>0</td>\n",
              "      <td>0</td>\n",
              "      <td>32.4</td>\n",
              "      <td>0.393</td>\n",
              "      <td>21</td>\n",
              "      <td>0</td>\n",
              "    </tr>\n",
              "  </tbody>\n",
              "</table>\n",
              "</div>\n",
              "    <div class=\"colab-df-buttons\">\n",
              "\n",
              "  <div class=\"colab-df-container\">\n",
              "    <button class=\"colab-df-convert\" onclick=\"convertToInteractive('df-8c979223-25a0-40d8-8968-6b7c7382fa51')\"\n",
              "            title=\"Convert this dataframe to an interactive table.\"\n",
              "            style=\"display:none;\">\n",
              "\n",
              "  <svg xmlns=\"http://www.w3.org/2000/svg\" height=\"24px\" viewBox=\"0 -960 960 960\">\n",
              "    <path d=\"M120-120v-720h720v720H120Zm60-500h600v-160H180v160Zm220 220h160v-160H400v160Zm0 220h160v-160H400v160ZM180-400h160v-160H180v160Zm440 0h160v-160H620v160ZM180-180h160v-160H180v160Zm440 0h160v-160H620v160Z\"/>\n",
              "  </svg>\n",
              "    </button>\n",
              "\n",
              "  <style>\n",
              "    .colab-df-container {\n",
              "      display:flex;\n",
              "      gap: 12px;\n",
              "    }\n",
              "\n",
              "    .colab-df-convert {\n",
              "      background-color: #E8F0FE;\n",
              "      border: none;\n",
              "      border-radius: 50%;\n",
              "      cursor: pointer;\n",
              "      display: none;\n",
              "      fill: #1967D2;\n",
              "      height: 32px;\n",
              "      padding: 0 0 0 0;\n",
              "      width: 32px;\n",
              "    }\n",
              "\n",
              "    .colab-df-convert:hover {\n",
              "      background-color: #E2EBFA;\n",
              "      box-shadow: 0px 1px 2px rgba(60, 64, 67, 0.3), 0px 1px 3px 1px rgba(60, 64, 67, 0.15);\n",
              "      fill: #174EA6;\n",
              "    }\n",
              "\n",
              "    .colab-df-buttons div {\n",
              "      margin-bottom: 4px;\n",
              "    }\n",
              "\n",
              "    [theme=dark] .colab-df-convert {\n",
              "      background-color: #3B4455;\n",
              "      fill: #D2E3FC;\n",
              "    }\n",
              "\n",
              "    [theme=dark] .colab-df-convert:hover {\n",
              "      background-color: #434B5C;\n",
              "      box-shadow: 0px 1px 3px 1px rgba(0, 0, 0, 0.15);\n",
              "      filter: drop-shadow(0px 1px 2px rgba(0, 0, 0, 0.3));\n",
              "      fill: #FFFFFF;\n",
              "    }\n",
              "  </style>\n",
              "\n",
              "    <script>\n",
              "      const buttonEl =\n",
              "        document.querySelector('#df-8c979223-25a0-40d8-8968-6b7c7382fa51 button.colab-df-convert');\n",
              "      buttonEl.style.display =\n",
              "        google.colab.kernel.accessAllowed ? 'block' : 'none';\n",
              "\n",
              "      async function convertToInteractive(key) {\n",
              "        const element = document.querySelector('#df-8c979223-25a0-40d8-8968-6b7c7382fa51');\n",
              "        const dataTable =\n",
              "          await google.colab.kernel.invokeFunction('convertToInteractive',\n",
              "                                                    [key], {});\n",
              "        if (!dataTable) return;\n",
              "\n",
              "        const docLinkHtml = 'Like what you see? Visit the ' +\n",
              "          '<a target=\"_blank\" href=https://colab.research.google.com/notebooks/data_table.ipynb>data table notebook</a>'\n",
              "          + ' to learn more about interactive tables.';\n",
              "        element.innerHTML = '';\n",
              "        dataTable['output_type'] = 'display_data';\n",
              "        await google.colab.output.renderOutput(dataTable, element);\n",
              "        const docLink = document.createElement('div');\n",
              "        docLink.innerHTML = docLinkHtml;\n",
              "        element.appendChild(docLink);\n",
              "      }\n",
              "    </script>\n",
              "  </div>\n",
              "\n",
              "\n",
              "<div id=\"df-7443a22c-b0e4-4bb8-9f04-bbf173d55699\">\n",
              "  <button class=\"colab-df-quickchart\" onclick=\"quickchart('df-7443a22c-b0e4-4bb8-9f04-bbf173d55699')\"\n",
              "            title=\"Suggest charts\"\n",
              "            style=\"display:none;\">\n",
              "\n",
              "<svg xmlns=\"http://www.w3.org/2000/svg\" height=\"24px\"viewBox=\"0 0 24 24\"\n",
              "     width=\"24px\">\n",
              "    <g>\n",
              "        <path d=\"M19 3H5c-1.1 0-2 .9-2 2v14c0 1.1.9 2 2 2h14c1.1 0 2-.9 2-2V5c0-1.1-.9-2-2-2zM9 17H7v-7h2v7zm4 0h-2V7h2v10zm4 0h-2v-4h2v4z\"/>\n",
              "    </g>\n",
              "</svg>\n",
              "  </button>\n",
              "\n",
              "<style>\n",
              "  .colab-df-quickchart {\n",
              "      --bg-color: #E8F0FE;\n",
              "      --fill-color: #1967D2;\n",
              "      --hover-bg-color: #E2EBFA;\n",
              "      --hover-fill-color: #174EA6;\n",
              "      --disabled-fill-color: #AAA;\n",
              "      --disabled-bg-color: #DDD;\n",
              "  }\n",
              "\n",
              "  [theme=dark] .colab-df-quickchart {\n",
              "      --bg-color: #3B4455;\n",
              "      --fill-color: #D2E3FC;\n",
              "      --hover-bg-color: #434B5C;\n",
              "      --hover-fill-color: #FFFFFF;\n",
              "      --disabled-bg-color: #3B4455;\n",
              "      --disabled-fill-color: #666;\n",
              "  }\n",
              "\n",
              "  .colab-df-quickchart {\n",
              "    background-color: var(--bg-color);\n",
              "    border: none;\n",
              "    border-radius: 50%;\n",
              "    cursor: pointer;\n",
              "    display: none;\n",
              "    fill: var(--fill-color);\n",
              "    height: 32px;\n",
              "    padding: 0;\n",
              "    width: 32px;\n",
              "  }\n",
              "\n",
              "  .colab-df-quickchart:hover {\n",
              "    background-color: var(--hover-bg-color);\n",
              "    box-shadow: 0 1px 2px rgba(60, 64, 67, 0.3), 0 1px 3px 1px rgba(60, 64, 67, 0.15);\n",
              "    fill: var(--button-hover-fill-color);\n",
              "  }\n",
              "\n",
              "  .colab-df-quickchart-complete:disabled,\n",
              "  .colab-df-quickchart-complete:disabled:hover {\n",
              "    background-color: var(--disabled-bg-color);\n",
              "    fill: var(--disabled-fill-color);\n",
              "    box-shadow: none;\n",
              "  }\n",
              "\n",
              "  .colab-df-spinner {\n",
              "    border: 2px solid var(--fill-color);\n",
              "    border-color: transparent;\n",
              "    border-bottom-color: var(--fill-color);\n",
              "    animation:\n",
              "      spin 1s steps(1) infinite;\n",
              "  }\n",
              "\n",
              "  @keyframes spin {\n",
              "    0% {\n",
              "      border-color: transparent;\n",
              "      border-bottom-color: var(--fill-color);\n",
              "      border-left-color: var(--fill-color);\n",
              "    }\n",
              "    20% {\n",
              "      border-color: transparent;\n",
              "      border-left-color: var(--fill-color);\n",
              "      border-top-color: var(--fill-color);\n",
              "    }\n",
              "    30% {\n",
              "      border-color: transparent;\n",
              "      border-left-color: var(--fill-color);\n",
              "      border-top-color: var(--fill-color);\n",
              "      border-right-color: var(--fill-color);\n",
              "    }\n",
              "    40% {\n",
              "      border-color: transparent;\n",
              "      border-right-color: var(--fill-color);\n",
              "      border-top-color: var(--fill-color);\n",
              "    }\n",
              "    60% {\n",
              "      border-color: transparent;\n",
              "      border-right-color: var(--fill-color);\n",
              "    }\n",
              "    80% {\n",
              "      border-color: transparent;\n",
              "      border-right-color: var(--fill-color);\n",
              "      border-bottom-color: var(--fill-color);\n",
              "    }\n",
              "    90% {\n",
              "      border-color: transparent;\n",
              "      border-bottom-color: var(--fill-color);\n",
              "    }\n",
              "  }\n",
              "</style>\n",
              "\n",
              "  <script>\n",
              "    async function quickchart(key) {\n",
              "      const quickchartButtonEl =\n",
              "        document.querySelector('#' + key + ' button');\n",
              "      quickchartButtonEl.disabled = true;  // To prevent multiple clicks.\n",
              "      quickchartButtonEl.classList.add('colab-df-spinner');\n",
              "      try {\n",
              "        const charts = await google.colab.kernel.invokeFunction(\n",
              "            'suggestCharts', [key], {});\n",
              "      } catch (error) {\n",
              "        console.error('Error during call to suggestCharts:', error);\n",
              "      }\n",
              "      quickchartButtonEl.classList.remove('colab-df-spinner');\n",
              "      quickchartButtonEl.classList.add('colab-df-quickchart-complete');\n",
              "    }\n",
              "    (() => {\n",
              "      let quickchartButtonEl =\n",
              "        document.querySelector('#df-7443a22c-b0e4-4bb8-9f04-bbf173d55699 button');\n",
              "      quickchartButtonEl.style.display =\n",
              "        google.colab.kernel.accessAllowed ? 'block' : 'none';\n",
              "    })();\n",
              "  </script>\n",
              "</div>\n",
              "\n",
              "    </div>\n",
              "  </div>\n"
            ],
            "application/vnd.google.colaboratory.intrinsic+json": {
              "type": "dataframe",
              "summary": "{\n  \"name\": \"df\",\n  \"rows\": 5,\n  \"fields\": [\n    {\n      \"column\": \"Pregnancies\",\n      \"properties\": {\n        \"dtype\": \"number\",\n        \"std\": 3,\n        \"min\": 0,\n        \"max\": 8,\n        \"num_unique_values\": 5,\n        \"samples\": [\n          8,\n          0,\n          2\n        ],\n        \"semantic_type\": \"\",\n        \"description\": \"\"\n      }\n    },\n    {\n      \"column\": \"Glucose\",\n      \"properties\": {\n        \"dtype\": \"number\",\n        \"std\": 28,\n        \"min\": 94,\n        \"max\": 173,\n        \"num_unique_values\": 5,\n        \"samples\": [\n          133,\n          132,\n          94\n        ],\n        \"semantic_type\": \"\",\n        \"description\": \"\"\n      }\n    },\n    {\n      \"column\": \"BloodPressure\",\n      \"properties\": {\n        \"dtype\": \"number\",\n        \"std\": 6,\n        \"min\": 68,\n        \"max\": 86,\n        \"num_unique_values\": 5,\n        \"samples\": [\n          72,\n          78,\n          68\n        ],\n        \"semantic_type\": \"\",\n        \"description\": \"\"\n      }\n    },\n    {\n      \"column\": \"SkinThickness\",\n      \"properties\": {\n        \"dtype\": \"number\",\n        \"std\": 8,\n        \"min\": 0,\n        \"max\": 18,\n        \"num_unique_values\": 2,\n        \"samples\": [\n          18,\n          0\n        ],\n        \"semantic_type\": \"\",\n        \"description\": \"\"\n      }\n    },\n    {\n      \"column\": \"Insulin\",\n      \"properties\": {\n        \"dtype\": \"number\",\n        \"std\": 33,\n        \"min\": 0,\n        \"max\": 76,\n        \"num_unique_values\": 2,\n        \"samples\": [\n          76,\n          0\n        ],\n        \"semantic_type\": \"\",\n        \"description\": \"\"\n      }\n    },\n    {\n      \"column\": \"BMI\",\n      \"properties\": {\n        \"dtype\": \"number\",\n        \"std\": 4.606300033649567,\n        \"min\": 26.0,\n        \"max\": 37.6,\n        \"num_unique_values\": 5,\n        \"samples\": [\n          32.9,\n          32.4\n        ],\n        \"semantic_type\": \"\",\n        \"description\": \"\"\n      }\n    },\n    {\n      \"column\": \"DiabetesPedigreeFunction\",\n      \"properties\": {\n        \"dtype\": \"number\",\n        \"std\": 0.1731609078285281,\n        \"min\": 0.088,\n        \"max\": 0.561,\n        \"num_unique_values\": 5,\n        \"samples\": [\n          0.27,\n          0.393\n        ],\n        \"semantic_type\": \"\",\n        \"description\": \"\"\n      }\n    },\n    {\n      \"column\": \"Age\",\n      \"properties\": {\n        \"dtype\": \"number\",\n        \"std\": 12,\n        \"min\": 21,\n        \"max\": 51,\n        \"num_unique_values\": 4,\n        \"samples\": [\n          39,\n          38\n        ],\n        \"semantic_type\": \"\",\n        \"description\": \"\"\n      }\n    },\n    {\n      \"column\": \"Outcome\",\n      \"properties\": {\n        \"dtype\": \"number\",\n        \"std\": 0,\n        \"min\": 0,\n        \"max\": 1,\n        \"num_unique_values\": 2,\n        \"samples\": [\n          1,\n          0\n        ],\n        \"semantic_type\": \"\",\n        \"description\": \"\"\n      }\n    }\n  ]\n}"
            }
          },
          "metadata": {},
          "execution_count": 4
        }
      ],
      "source": [
        "df.sample(5)"
      ]
    },
    {
      "cell_type": "code",
      "source": [
        "df.corr().Outcome"
      ],
      "metadata": {
        "colab": {
          "base_uri": "https://localhost:8080/"
        },
        "id": "qHjHyPphB2Ey",
        "outputId": "d57ae49a-3046-4a50-edb1-6d6f66f44f30"
      },
      "execution_count": 5,
      "outputs": [
        {
          "output_type": "execute_result",
          "data": {
            "text/plain": [
              "Pregnancies                 0.221898\n",
              "Glucose                     0.466581\n",
              "BloodPressure               0.065068\n",
              "SkinThickness               0.074752\n",
              "Insulin                     0.130548\n",
              "BMI                         0.292695\n",
              "DiabetesPedigreeFunction    0.173844\n",
              "Age                         0.238356\n",
              "Outcome                     1.000000\n",
              "Name: Outcome, dtype: float64"
            ]
          },
          "metadata": {},
          "execution_count": 5
        }
      ]
    },
    {
      "cell_type": "code",
      "source": [
        "x = df.iloc[:, :-1]\n",
        "y = df.iloc[:, -1]\n",
        "x.shape, y.shape"
      ],
      "metadata": {
        "colab": {
          "base_uri": "https://localhost:8080/"
        },
        "id": "56xhPOthCBfK",
        "outputId": "6bc69bfe-f4bd-46e7-8a66-eff4cdb1ff25"
      },
      "execution_count": 8,
      "outputs": [
        {
          "output_type": "execute_result",
          "data": {
            "text/plain": [
              "((768, 8), (768,))"
            ]
          },
          "metadata": {},
          "execution_count": 8
        }
      ]
    },
    {
      "cell_type": "code",
      "source": [
        "from sklearn.preprocessing import StandardScaler\n",
        "scaler = StandardScaler()\n",
        "x = scaler.fit_transform(x)"
      ],
      "metadata": {
        "id": "VSHGj-zmCQ4d"
      },
      "execution_count": 10,
      "outputs": []
    },
    {
      "cell_type": "code",
      "source": [
        "from sklearn.model_selection import train_test_split\n",
        "x_train, x_test, y_train, y_test = train_test_split(x, y, test_size = 0.2, random_state = len(x))"
      ],
      "metadata": {
        "id": "qgnY5i96CpWm"
      },
      "execution_count": 12,
      "outputs": []
    },
    {
      "cell_type": "code",
      "source": [
        "import tensorflow as tf\n",
        "from tensorflow import keras\n",
        "from keras import Sequential\n",
        "from keras.layers import Dense"
      ],
      "metadata": {
        "id": "lr5zuXWUC7hi"
      },
      "execution_count": 15,
      "outputs": []
    },
    {
      "cell_type": "code",
      "source": [
        "model = Sequential()\n",
        "model.add(Dense(32, activation = 'relu', input_dim = x.shape[1]))\n",
        "model.add(Dense(32, activation = 'relu'))\n",
        "model.add(Dense(1, activation = 'sigmoid'))\n",
        "\n",
        "model.compile(optimizer = 'Adam', loss = 'binary_crossentropy', metrics = ['accuracy'])"
      ],
      "metadata": {
        "id": "u7-nehEpDOGY"
      },
      "execution_count": 22,
      "outputs": []
    },
    {
      "cell_type": "code",
      "source": [
        "model.summary()"
      ],
      "metadata": {
        "colab": {
          "base_uri": "https://localhost:8080/"
        },
        "id": "CEXFNIZODk7r",
        "outputId": "679a5e4d-00ed-464f-b587-d83e5458bfb2"
      },
      "execution_count": 20,
      "outputs": [
        {
          "output_type": "stream",
          "name": "stdout",
          "text": [
            "Model: \"sequential_2\"\n",
            "_________________________________________________________________\n",
            " Layer (type)                Output Shape              Param #   \n",
            "=================================================================\n",
            " dense_2 (Dense)             (None, 32)                288       \n",
            "                                                                 \n",
            "=================================================================\n",
            "Total params: 288 (1.12 KB)\n",
            "Trainable params: 288 (1.12 KB)\n",
            "Non-trainable params: 0 (0.00 Byte)\n",
            "_________________________________________________________________\n"
          ]
        }
      ]
    },
    {
      "cell_type": "code",
      "source": [
        "model.fit(x_train, y_train, batch_size = 32, epochs = 100, validation_data = (x_test, y_test))"
      ],
      "metadata": {
        "colab": {
          "base_uri": "https://localhost:8080/"
        },
        "id": "4dk0gM5ADmuU",
        "outputId": "72026f93-706b-421c-ff6c-876e84e5ea63"
      },
      "execution_count": 25,
      "outputs": [
        {
          "output_type": "stream",
          "name": "stdout",
          "text": [
            "Epoch 1/100\n",
            "20/20 [==============================] - 0s 7ms/step - loss: 0.4106 - accuracy: 0.8094 - val_loss: 0.5341 - val_accuracy: 0.7338\n",
            "Epoch 2/100\n",
            "20/20 [==============================] - 0s 4ms/step - loss: 0.4085 - accuracy: 0.8094 - val_loss: 0.5371 - val_accuracy: 0.7208\n",
            "Epoch 3/100\n",
            "20/20 [==============================] - 0s 4ms/step - loss: 0.4079 - accuracy: 0.8046 - val_loss: 0.5389 - val_accuracy: 0.7338\n",
            "Epoch 4/100\n",
            "20/20 [==============================] - 0s 4ms/step - loss: 0.4058 - accuracy: 0.8094 - val_loss: 0.5355 - val_accuracy: 0.7403\n",
            "Epoch 5/100\n",
            "20/20 [==============================] - 0s 4ms/step - loss: 0.4048 - accuracy: 0.8094 - val_loss: 0.5380 - val_accuracy: 0.7208\n",
            "Epoch 6/100\n",
            "20/20 [==============================] - 0s 4ms/step - loss: 0.4034 - accuracy: 0.8143 - val_loss: 0.5415 - val_accuracy: 0.7143\n",
            "Epoch 7/100\n",
            "20/20 [==============================] - 0s 4ms/step - loss: 0.4021 - accuracy: 0.8176 - val_loss: 0.5476 - val_accuracy: 0.7143\n",
            "Epoch 8/100\n",
            "20/20 [==============================] - 0s 4ms/step - loss: 0.4010 - accuracy: 0.8094 - val_loss: 0.5463 - val_accuracy: 0.7273\n",
            "Epoch 9/100\n",
            "20/20 [==============================] - 0s 4ms/step - loss: 0.3990 - accuracy: 0.8078 - val_loss: 0.5449 - val_accuracy: 0.7338\n",
            "Epoch 10/100\n",
            "20/20 [==============================] - 0s 4ms/step - loss: 0.3991 - accuracy: 0.8111 - val_loss: 0.5459 - val_accuracy: 0.7273\n",
            "Epoch 11/100\n",
            "20/20 [==============================] - 0s 4ms/step - loss: 0.3971 - accuracy: 0.8160 - val_loss: 0.5483 - val_accuracy: 0.7273\n",
            "Epoch 12/100\n",
            "20/20 [==============================] - 0s 4ms/step - loss: 0.3970 - accuracy: 0.8111 - val_loss: 0.5456 - val_accuracy: 0.7338\n",
            "Epoch 13/100\n",
            "20/20 [==============================] - 0s 4ms/step - loss: 0.3971 - accuracy: 0.8111 - val_loss: 0.5544 - val_accuracy: 0.7143\n",
            "Epoch 14/100\n",
            "20/20 [==============================] - 0s 5ms/step - loss: 0.3943 - accuracy: 0.8176 - val_loss: 0.5546 - val_accuracy: 0.7013\n",
            "Epoch 15/100\n",
            "20/20 [==============================] - 0s 5ms/step - loss: 0.3918 - accuracy: 0.8160 - val_loss: 0.5498 - val_accuracy: 0.7273\n",
            "Epoch 16/100\n",
            "20/20 [==============================] - 0s 4ms/step - loss: 0.3910 - accuracy: 0.8143 - val_loss: 0.5518 - val_accuracy: 0.7273\n",
            "Epoch 17/100\n",
            "20/20 [==============================] - 0s 4ms/step - loss: 0.3918 - accuracy: 0.8176 - val_loss: 0.5540 - val_accuracy: 0.7208\n",
            "Epoch 18/100\n",
            "20/20 [==============================] - 0s 4ms/step - loss: 0.3889 - accuracy: 0.8127 - val_loss: 0.5562 - val_accuracy: 0.7143\n",
            "Epoch 19/100\n",
            "20/20 [==============================] - 0s 4ms/step - loss: 0.3876 - accuracy: 0.8192 - val_loss: 0.5565 - val_accuracy: 0.7208\n",
            "Epoch 20/100\n",
            "20/20 [==============================] - 0s 4ms/step - loss: 0.3853 - accuracy: 0.8192 - val_loss: 0.5541 - val_accuracy: 0.7143\n",
            "Epoch 21/100\n",
            "20/20 [==============================] - 0s 4ms/step - loss: 0.3840 - accuracy: 0.8143 - val_loss: 0.5570 - val_accuracy: 0.7143\n",
            "Epoch 22/100\n",
            "20/20 [==============================] - 0s 3ms/step - loss: 0.3829 - accuracy: 0.8160 - val_loss: 0.5572 - val_accuracy: 0.7143\n",
            "Epoch 23/100\n",
            "20/20 [==============================] - 0s 4ms/step - loss: 0.3822 - accuracy: 0.8208 - val_loss: 0.5650 - val_accuracy: 0.7078\n",
            "Epoch 24/100\n",
            "20/20 [==============================] - 0s 4ms/step - loss: 0.3808 - accuracy: 0.8208 - val_loss: 0.5641 - val_accuracy: 0.7143\n",
            "Epoch 25/100\n",
            "20/20 [==============================] - 0s 5ms/step - loss: 0.3799 - accuracy: 0.8192 - val_loss: 0.5617 - val_accuracy: 0.7208\n",
            "Epoch 26/100\n",
            "20/20 [==============================] - 0s 4ms/step - loss: 0.3779 - accuracy: 0.8208 - val_loss: 0.5662 - val_accuracy: 0.7143\n",
            "Epoch 27/100\n",
            "20/20 [==============================] - 0s 3ms/step - loss: 0.3785 - accuracy: 0.8192 - val_loss: 0.5690 - val_accuracy: 0.7143\n",
            "Epoch 28/100\n",
            "20/20 [==============================] - 0s 3ms/step - loss: 0.3766 - accuracy: 0.8208 - val_loss: 0.5677 - val_accuracy: 0.7143\n",
            "Epoch 29/100\n",
            "20/20 [==============================] - 0s 4ms/step - loss: 0.3749 - accuracy: 0.8208 - val_loss: 0.5793 - val_accuracy: 0.7143\n",
            "Epoch 30/100\n",
            "20/20 [==============================] - 0s 4ms/step - loss: 0.3736 - accuracy: 0.8225 - val_loss: 0.5722 - val_accuracy: 0.7143\n",
            "Epoch 31/100\n",
            "20/20 [==============================] - 0s 4ms/step - loss: 0.3724 - accuracy: 0.8257 - val_loss: 0.5687 - val_accuracy: 0.7208\n",
            "Epoch 32/100\n",
            "20/20 [==============================] - 0s 4ms/step - loss: 0.3718 - accuracy: 0.8208 - val_loss: 0.5819 - val_accuracy: 0.7143\n",
            "Epoch 33/100\n",
            "20/20 [==============================] - 0s 4ms/step - loss: 0.3711 - accuracy: 0.8192 - val_loss: 0.5783 - val_accuracy: 0.7078\n",
            "Epoch 34/100\n",
            "20/20 [==============================] - 0s 4ms/step - loss: 0.3688 - accuracy: 0.8274 - val_loss: 0.5807 - val_accuracy: 0.7013\n",
            "Epoch 35/100\n",
            "20/20 [==============================] - 0s 4ms/step - loss: 0.3710 - accuracy: 0.8225 - val_loss: 0.5848 - val_accuracy: 0.7078\n",
            "Epoch 36/100\n",
            "20/20 [==============================] - 0s 4ms/step - loss: 0.3691 - accuracy: 0.8274 - val_loss: 0.5839 - val_accuracy: 0.7013\n",
            "Epoch 37/100\n",
            "20/20 [==============================] - 0s 5ms/step - loss: 0.3670 - accuracy: 0.8339 - val_loss: 0.5827 - val_accuracy: 0.7143\n",
            "Epoch 38/100\n",
            "20/20 [==============================] - 0s 4ms/step - loss: 0.3661 - accuracy: 0.8241 - val_loss: 0.5916 - val_accuracy: 0.7078\n",
            "Epoch 39/100\n",
            "20/20 [==============================] - 0s 3ms/step - loss: 0.3623 - accuracy: 0.8322 - val_loss: 0.5823 - val_accuracy: 0.7013\n",
            "Epoch 40/100\n",
            "20/20 [==============================] - 0s 4ms/step - loss: 0.3623 - accuracy: 0.8371 - val_loss: 0.5929 - val_accuracy: 0.7013\n",
            "Epoch 41/100\n",
            "20/20 [==============================] - 0s 4ms/step - loss: 0.3619 - accuracy: 0.8257 - val_loss: 0.5931 - val_accuracy: 0.7013\n",
            "Epoch 42/100\n",
            "20/20 [==============================] - 0s 4ms/step - loss: 0.3604 - accuracy: 0.8290 - val_loss: 0.5898 - val_accuracy: 0.7013\n",
            "Epoch 43/100\n",
            "20/20 [==============================] - 0s 4ms/step - loss: 0.3613 - accuracy: 0.8339 - val_loss: 0.5853 - val_accuracy: 0.7078\n",
            "Epoch 44/100\n",
            "20/20 [==============================] - 0s 4ms/step - loss: 0.3568 - accuracy: 0.8355 - val_loss: 0.5878 - val_accuracy: 0.7078\n",
            "Epoch 45/100\n",
            "20/20 [==============================] - 0s 3ms/step - loss: 0.3557 - accuracy: 0.8420 - val_loss: 0.5945 - val_accuracy: 0.7078\n",
            "Epoch 46/100\n",
            "20/20 [==============================] - 0s 4ms/step - loss: 0.3551 - accuracy: 0.8290 - val_loss: 0.5929 - val_accuracy: 0.7208\n",
            "Epoch 47/100\n",
            "20/20 [==============================] - 0s 3ms/step - loss: 0.3542 - accuracy: 0.8339 - val_loss: 0.6017 - val_accuracy: 0.7143\n",
            "Epoch 48/100\n",
            "20/20 [==============================] - 0s 4ms/step - loss: 0.3528 - accuracy: 0.8388 - val_loss: 0.6005 - val_accuracy: 0.6883\n",
            "Epoch 49/100\n",
            "20/20 [==============================] - 0s 6ms/step - loss: 0.3542 - accuracy: 0.8355 - val_loss: 0.5996 - val_accuracy: 0.6948\n",
            "Epoch 50/100\n",
            "20/20 [==============================] - 0s 5ms/step - loss: 0.3522 - accuracy: 0.8355 - val_loss: 0.6069 - val_accuracy: 0.6948\n",
            "Epoch 51/100\n",
            "20/20 [==============================] - 0s 4ms/step - loss: 0.3508 - accuracy: 0.8420 - val_loss: 0.6016 - val_accuracy: 0.7078\n",
            "Epoch 52/100\n",
            "20/20 [==============================] - 0s 4ms/step - loss: 0.3482 - accuracy: 0.8388 - val_loss: 0.6044 - val_accuracy: 0.7013\n",
            "Epoch 53/100\n",
            "20/20 [==============================] - 0s 4ms/step - loss: 0.3471 - accuracy: 0.8436 - val_loss: 0.6092 - val_accuracy: 0.7013\n",
            "Epoch 54/100\n",
            "20/20 [==============================] - 0s 4ms/step - loss: 0.3463 - accuracy: 0.8436 - val_loss: 0.6091 - val_accuracy: 0.7078\n",
            "Epoch 55/100\n",
            "20/20 [==============================] - 0s 4ms/step - loss: 0.3467 - accuracy: 0.8388 - val_loss: 0.6016 - val_accuracy: 0.7208\n",
            "Epoch 56/100\n",
            "20/20 [==============================] - 0s 4ms/step - loss: 0.3452 - accuracy: 0.8420 - val_loss: 0.6123 - val_accuracy: 0.7078\n",
            "Epoch 57/100\n",
            "20/20 [==============================] - 0s 3ms/step - loss: 0.3424 - accuracy: 0.8420 - val_loss: 0.6118 - val_accuracy: 0.7273\n",
            "Epoch 58/100\n",
            "20/20 [==============================] - 0s 4ms/step - loss: 0.3425 - accuracy: 0.8453 - val_loss: 0.6206 - val_accuracy: 0.7143\n",
            "Epoch 59/100\n",
            "20/20 [==============================] - 0s 4ms/step - loss: 0.3447 - accuracy: 0.8485 - val_loss: 0.6150 - val_accuracy: 0.7208\n",
            "Epoch 60/100\n",
            "20/20 [==============================] - 0s 5ms/step - loss: 0.3407 - accuracy: 0.8485 - val_loss: 0.6122 - val_accuracy: 0.7208\n",
            "Epoch 61/100\n",
            "20/20 [==============================] - 0s 7ms/step - loss: 0.3397 - accuracy: 0.8485 - val_loss: 0.6181 - val_accuracy: 0.7208\n",
            "Epoch 62/100\n",
            "20/20 [==============================] - 0s 5ms/step - loss: 0.3394 - accuracy: 0.8469 - val_loss: 0.6158 - val_accuracy: 0.7078\n",
            "Epoch 63/100\n",
            "20/20 [==============================] - 0s 6ms/step - loss: 0.3367 - accuracy: 0.8502 - val_loss: 0.6183 - val_accuracy: 0.7078\n",
            "Epoch 64/100\n",
            "20/20 [==============================] - 0s 6ms/step - loss: 0.3367 - accuracy: 0.8534 - val_loss: 0.6295 - val_accuracy: 0.7143\n",
            "Epoch 65/100\n",
            "20/20 [==============================] - 0s 7ms/step - loss: 0.3361 - accuracy: 0.8518 - val_loss: 0.6177 - val_accuracy: 0.7208\n",
            "Epoch 66/100\n",
            "20/20 [==============================] - 0s 5ms/step - loss: 0.3361 - accuracy: 0.8485 - val_loss: 0.6197 - val_accuracy: 0.7208\n",
            "Epoch 67/100\n",
            "20/20 [==============================] - 0s 6ms/step - loss: 0.3320 - accuracy: 0.8583 - val_loss: 0.6215 - val_accuracy: 0.7078\n",
            "Epoch 68/100\n",
            "20/20 [==============================] - 0s 6ms/step - loss: 0.3319 - accuracy: 0.8583 - val_loss: 0.6281 - val_accuracy: 0.7143\n",
            "Epoch 69/100\n",
            "20/20 [==============================] - 0s 5ms/step - loss: 0.3294 - accuracy: 0.8599 - val_loss: 0.6208 - val_accuracy: 0.7078\n",
            "Epoch 70/100\n",
            "20/20 [==============================] - 0s 5ms/step - loss: 0.3298 - accuracy: 0.8567 - val_loss: 0.6293 - val_accuracy: 0.7143\n",
            "Epoch 71/100\n",
            "20/20 [==============================] - 0s 6ms/step - loss: 0.3285 - accuracy: 0.8616 - val_loss: 0.6243 - val_accuracy: 0.7208\n",
            "Epoch 72/100\n",
            "20/20 [==============================] - 0s 5ms/step - loss: 0.3284 - accuracy: 0.8518 - val_loss: 0.6223 - val_accuracy: 0.7078\n",
            "Epoch 73/100\n",
            "20/20 [==============================] - 0s 6ms/step - loss: 0.3264 - accuracy: 0.8485 - val_loss: 0.6279 - val_accuracy: 0.7208\n",
            "Epoch 74/100\n",
            "20/20 [==============================] - 0s 6ms/step - loss: 0.3259 - accuracy: 0.8632 - val_loss: 0.6322 - val_accuracy: 0.7208\n",
            "Epoch 75/100\n",
            "20/20 [==============================] - 0s 6ms/step - loss: 0.3246 - accuracy: 0.8616 - val_loss: 0.6330 - val_accuracy: 0.7143\n",
            "Epoch 76/100\n",
            "20/20 [==============================] - 0s 7ms/step - loss: 0.3236 - accuracy: 0.8583 - val_loss: 0.6359 - val_accuracy: 0.7143\n",
            "Epoch 77/100\n",
            "20/20 [==============================] - 0s 7ms/step - loss: 0.3229 - accuracy: 0.8550 - val_loss: 0.6356 - val_accuracy: 0.7078\n",
            "Epoch 78/100\n",
            "20/20 [==============================] - 0s 6ms/step - loss: 0.3231 - accuracy: 0.8583 - val_loss: 0.6317 - val_accuracy: 0.7208\n",
            "Epoch 79/100\n",
            "20/20 [==============================] - 0s 6ms/step - loss: 0.3211 - accuracy: 0.8681 - val_loss: 0.6366 - val_accuracy: 0.7013\n",
            "Epoch 80/100\n",
            "20/20 [==============================] - 0s 6ms/step - loss: 0.3193 - accuracy: 0.8681 - val_loss: 0.6439 - val_accuracy: 0.7143\n",
            "Epoch 81/100\n",
            "20/20 [==============================] - 0s 7ms/step - loss: 0.3183 - accuracy: 0.8664 - val_loss: 0.6319 - val_accuracy: 0.7208\n",
            "Epoch 82/100\n",
            "20/20 [==============================] - 0s 7ms/step - loss: 0.3222 - accuracy: 0.8534 - val_loss: 0.6458 - val_accuracy: 0.7078\n",
            "Epoch 83/100\n",
            "20/20 [==============================] - 0s 8ms/step - loss: 0.3154 - accuracy: 0.8567 - val_loss: 0.6435 - val_accuracy: 0.7078\n",
            "Epoch 84/100\n",
            "20/20 [==============================] - 0s 7ms/step - loss: 0.3142 - accuracy: 0.8616 - val_loss: 0.6387 - val_accuracy: 0.7078\n",
            "Epoch 85/100\n",
            "20/20 [==============================] - 0s 4ms/step - loss: 0.3153 - accuracy: 0.8583 - val_loss: 0.6382 - val_accuracy: 0.7143\n",
            "Epoch 86/100\n",
            "20/20 [==============================] - 0s 4ms/step - loss: 0.3107 - accuracy: 0.8664 - val_loss: 0.6518 - val_accuracy: 0.7078\n",
            "Epoch 87/100\n",
            "20/20 [==============================] - 0s 4ms/step - loss: 0.3111 - accuracy: 0.8697 - val_loss: 0.6533 - val_accuracy: 0.7143\n",
            "Epoch 88/100\n",
            "20/20 [==============================] - 0s 4ms/step - loss: 0.3098 - accuracy: 0.8681 - val_loss: 0.6523 - val_accuracy: 0.7078\n",
            "Epoch 89/100\n",
            "20/20 [==============================] - 0s 3ms/step - loss: 0.3085 - accuracy: 0.8681 - val_loss: 0.6495 - val_accuracy: 0.7273\n",
            "Epoch 90/100\n",
            "20/20 [==============================] - 0s 4ms/step - loss: 0.3071 - accuracy: 0.8648 - val_loss: 0.6434 - val_accuracy: 0.7143\n",
            "Epoch 91/100\n",
            "20/20 [==============================] - 0s 3ms/step - loss: 0.3099 - accuracy: 0.8713 - val_loss: 0.6493 - val_accuracy: 0.7143\n",
            "Epoch 92/100\n",
            "20/20 [==============================] - 0s 4ms/step - loss: 0.3054 - accuracy: 0.8599 - val_loss: 0.6485 - val_accuracy: 0.7143\n",
            "Epoch 93/100\n",
            "20/20 [==============================] - 0s 3ms/step - loss: 0.3039 - accuracy: 0.8648 - val_loss: 0.6497 - val_accuracy: 0.7143\n",
            "Epoch 94/100\n",
            "20/20 [==============================] - 0s 5ms/step - loss: 0.3045 - accuracy: 0.8664 - val_loss: 0.6679 - val_accuracy: 0.7143\n",
            "Epoch 95/100\n",
            "20/20 [==============================] - 0s 5ms/step - loss: 0.3009 - accuracy: 0.8746 - val_loss: 0.6513 - val_accuracy: 0.7208\n",
            "Epoch 96/100\n",
            "20/20 [==============================] - 0s 4ms/step - loss: 0.3004 - accuracy: 0.8795 - val_loss: 0.6562 - val_accuracy: 0.7013\n",
            "Epoch 97/100\n",
            "20/20 [==============================] - 0s 3ms/step - loss: 0.3010 - accuracy: 0.8730 - val_loss: 0.6570 - val_accuracy: 0.7078\n",
            "Epoch 98/100\n",
            "20/20 [==============================] - 0s 4ms/step - loss: 0.2995 - accuracy: 0.8779 - val_loss: 0.6569 - val_accuracy: 0.7208\n",
            "Epoch 99/100\n",
            "20/20 [==============================] - 0s 3ms/step - loss: 0.2957 - accuracy: 0.8779 - val_loss: 0.6576 - val_accuracy: 0.7208\n",
            "Epoch 100/100\n",
            "20/20 [==============================] - 0s 4ms/step - loss: 0.2979 - accuracy: 0.8730 - val_loss: 0.6586 - val_accuracy: 0.7208\n"
          ]
        },
        {
          "output_type": "execute_result",
          "data": {
            "text/plain": [
              "<keras.src.callbacks.History at 0x78df2d187a00>"
            ]
          },
          "metadata": {},
          "execution_count": 25
        }
      ]
    },
    {
      "cell_type": "markdown",
      "source": [
        "# Tuning\n",
        "\n",
        "using the library called **Keras Tuner** for the purpose of Hyperparam tuning"
      ],
      "metadata": {
        "id": "0Re3bMORFXY2"
      }
    },
    {
      "cell_type": "code",
      "source": [
        "# !pip install keras-tuner -U > /dev/null\n",
        "!pip show keras-tuner"
      ],
      "metadata": {
        "colab": {
          "base_uri": "https://localhost:8080/"
        },
        "id": "ttuz0LKoFsXf",
        "outputId": "f42f4167-4479-4818-93a6-750a3da41ca9"
      },
      "execution_count": 33,
      "outputs": [
        {
          "output_type": "stream",
          "name": "stdout",
          "text": [
            "Name: keras-tuner\n",
            "Version: 1.4.7\n",
            "Summary: A Hyperparameter Tuning Library for Keras\n",
            "Home-page: https://github.com/keras-team/keras-tuner\n",
            "Author: The KerasTuner authors\n",
            "Author-email: \n",
            "License: Apache License 2.0\n",
            "Location: /usr/local/lib/python3.10/dist-packages\n",
            "Requires: keras, kt-legacy, packaging, requests\n",
            "Required-by: \n"
          ]
        }
      ]
    },
    {
      "cell_type": "code",
      "source": [
        "import kerastuner as kt"
      ],
      "metadata": {
        "colab": {
          "base_uri": "https://localhost:8080/"
        },
        "id": "VOc1CNE2Dw_g",
        "outputId": "a189b246-c582-4481-e6d7-421dd94cf5ac"
      },
      "execution_count": 29,
      "outputs": [
        {
          "output_type": "stream",
          "name": "stderr",
          "text": [
            "<ipython-input-29-5fd8096cdee5>:1: DeprecationWarning: `import kerastuner` is deprecated, please use `import keras_tuner`.\n",
            "  import kerastuner as kt\n"
          ]
        }
      ]
    },
    {
      "cell_type": "markdown",
      "source": [
        "## Tuning Optimizers"
      ],
      "metadata": {
        "id": "dPPaHqehTYaJ"
      }
    },
    {
      "cell_type": "code",
      "source": [
        "# here just selecting the optimizers\n",
        "def build_model (hp):\n",
        "    model = Sequential()\n",
        "    model.add(Dense(32, activation = 'relu', input_dim = 8))\n",
        "    model.add(Dense(32, activation = 'relu'))\n",
        "    model.add(Dense(1, activation = 'sigmoid'))\n",
        "\n",
        "    optimizers = hp.Choice('optimizer', values = ['adam', 'sgd', 'rmsprop', 'adadelta'])\n",
        "    model.compile(optimizer = optimizers, loss = 'binary_crossentropy', metrics = ['accuracy'])\n",
        "    return model"
      ],
      "metadata": {
        "id": "kCiiA5isFnra"
      },
      "execution_count": 35,
      "outputs": []
    },
    {
      "cell_type": "code",
      "source": [
        "# making the tuner object\n",
        "tuner = kt.RandomSearch(build_model,\n",
        "                        objective = 'val_accuracy',\n",
        "                        max_trials = 5)"
      ],
      "metadata": {
        "id": "VrDTziBpJVCF"
      },
      "execution_count": 36,
      "outputs": []
    },
    {
      "cell_type": "code",
      "source": [
        "tuner.search(x_train, y_train, epochs = 5, validation_data = (x_test, y_test))"
      ],
      "metadata": {
        "id": "ar28GEkLK1TQ"
      },
      "execution_count": 39,
      "outputs": []
    },
    {
      "cell_type": "code",
      "source": [
        "tuner.get_best_hyperparameters()[0].values"
      ],
      "metadata": {
        "colab": {
          "base_uri": "https://localhost:8080/"
        },
        "id": "Z9xHuNMQLuu2",
        "outputId": "fe168a81-1af7-4e94-872f-4944b5b3b310"
      },
      "execution_count": 41,
      "outputs": [
        {
          "output_type": "execute_result",
          "data": {
            "text/plain": [
              "{'optimizer': 'adam'}"
            ]
          },
          "metadata": {},
          "execution_count": 41
        }
      ]
    },
    {
      "cell_type": "code",
      "source": [
        "model = tuner.get_best_models(num_models = 1)[0]\n",
        "model.summary()"
      ],
      "metadata": {
        "colab": {
          "base_uri": "https://localhost:8080/"
        },
        "id": "QMivwEZhMiIb",
        "outputId": "cb6c13cf-573d-405a-8180-be3fb677ccc3"
      },
      "execution_count": 42,
      "outputs": [
        {
          "output_type": "stream",
          "name": "stdout",
          "text": [
            "Model: \"sequential\"\n",
            "_________________________________________________________________\n",
            " Layer (type)                Output Shape              Param #   \n",
            "=================================================================\n",
            " dense (Dense)               (None, 32)                288       \n",
            "                                                                 \n",
            " dense_1 (Dense)             (None, 32)                1056      \n",
            "                                                                 \n",
            " dense_2 (Dense)             (None, 1)                 33        \n",
            "                                                                 \n",
            "=================================================================\n",
            "Total params: 1377 (5.38 KB)\n",
            "Trainable params: 1377 (5.38 KB)\n",
            "Non-trainable params: 0 (0.00 Byte)\n",
            "_________________________________________________________________\n"
          ]
        }
      ]
    },
    {
      "cell_type": "code",
      "source": [
        "model.fit(x_train, y_train,\n",
        "          batch_size = 32,\n",
        "          epochs = 100,\n",
        "          initial_epoch = 6,\n",
        "          validation_data = (x_test, y_test))"
      ],
      "metadata": {
        "colab": {
          "base_uri": "https://localhost:8080/"
        },
        "id": "4YTDeHJSNRme",
        "outputId": "1251681c-f704-4496-d9a2-96cf0a33827d"
      },
      "execution_count": 44,
      "outputs": [
        {
          "output_type": "stream",
          "name": "stdout",
          "text": [
            "Epoch 7/100\n",
            "20/20 [==============================] - 1s 12ms/step - loss: 0.5426 - accuracy: 0.7638 - val_loss: 0.5869 - val_accuracy: 0.6948\n",
            "Epoch 8/100\n",
            "20/20 [==============================] - 0s 4ms/step - loss: 0.5017 - accuracy: 0.7704 - val_loss: 0.5679 - val_accuracy: 0.6883\n",
            "Epoch 9/100\n",
            "20/20 [==============================] - 0s 4ms/step - loss: 0.4736 - accuracy: 0.7785 - val_loss: 0.5596 - val_accuracy: 0.6688\n",
            "Epoch 10/100\n",
            "20/20 [==============================] - 0s 4ms/step - loss: 0.4601 - accuracy: 0.7769 - val_loss: 0.5528 - val_accuracy: 0.6883\n",
            "Epoch 11/100\n",
            "20/20 [==============================] - 0s 5ms/step - loss: 0.4500 - accuracy: 0.7834 - val_loss: 0.5473 - val_accuracy: 0.6883\n",
            "Epoch 12/100\n",
            "20/20 [==============================] - 0s 4ms/step - loss: 0.4441 - accuracy: 0.7834 - val_loss: 0.5429 - val_accuracy: 0.6948\n",
            "Epoch 13/100\n",
            "20/20 [==============================] - 0s 4ms/step - loss: 0.4402 - accuracy: 0.7785 - val_loss: 0.5414 - val_accuracy: 0.6948\n",
            "Epoch 14/100\n",
            "20/20 [==============================] - 0s 5ms/step - loss: 0.4346 - accuracy: 0.7866 - val_loss: 0.5404 - val_accuracy: 0.7078\n",
            "Epoch 15/100\n",
            "20/20 [==============================] - 0s 4ms/step - loss: 0.4333 - accuracy: 0.7883 - val_loss: 0.5388 - val_accuracy: 0.7078\n",
            "Epoch 16/100\n",
            "20/20 [==============================] - 0s 4ms/step - loss: 0.4297 - accuracy: 0.7948 - val_loss: 0.5355 - val_accuracy: 0.7208\n",
            "Epoch 17/100\n",
            "20/20 [==============================] - 0s 4ms/step - loss: 0.4257 - accuracy: 0.8013 - val_loss: 0.5347 - val_accuracy: 0.7208\n",
            "Epoch 18/100\n",
            "20/20 [==============================] - 0s 4ms/step - loss: 0.4235 - accuracy: 0.8013 - val_loss: 0.5345 - val_accuracy: 0.7208\n",
            "Epoch 19/100\n",
            "20/20 [==============================] - 0s 3ms/step - loss: 0.4222 - accuracy: 0.7997 - val_loss: 0.5318 - val_accuracy: 0.7338\n",
            "Epoch 20/100\n",
            "20/20 [==============================] - 0s 4ms/step - loss: 0.4183 - accuracy: 0.7997 - val_loss: 0.5354 - val_accuracy: 0.7208\n",
            "Epoch 21/100\n",
            "20/20 [==============================] - 0s 3ms/step - loss: 0.4179 - accuracy: 0.8029 - val_loss: 0.5344 - val_accuracy: 0.7273\n",
            "Epoch 22/100\n",
            "20/20 [==============================] - 0s 3ms/step - loss: 0.4147 - accuracy: 0.7997 - val_loss: 0.5355 - val_accuracy: 0.7338\n",
            "Epoch 23/100\n",
            "20/20 [==============================] - 0s 5ms/step - loss: 0.4123 - accuracy: 0.8013 - val_loss: 0.5368 - val_accuracy: 0.7273\n",
            "Epoch 24/100\n",
            "20/20 [==============================] - 0s 4ms/step - loss: 0.4110 - accuracy: 0.8013 - val_loss: 0.5345 - val_accuracy: 0.7273\n",
            "Epoch 25/100\n",
            "20/20 [==============================] - 0s 3ms/step - loss: 0.4097 - accuracy: 0.7997 - val_loss: 0.5429 - val_accuracy: 0.7208\n",
            "Epoch 26/100\n",
            "20/20 [==============================] - 0s 5ms/step - loss: 0.4090 - accuracy: 0.8094 - val_loss: 0.5418 - val_accuracy: 0.7273\n",
            "Epoch 27/100\n",
            "20/20 [==============================] - 0s 7ms/step - loss: 0.4068 - accuracy: 0.8029 - val_loss: 0.5386 - val_accuracy: 0.7338\n",
            "Epoch 28/100\n",
            "20/20 [==============================] - 0s 4ms/step - loss: 0.4040 - accuracy: 0.8062 - val_loss: 0.5411 - val_accuracy: 0.7273\n",
            "Epoch 29/100\n",
            "20/20 [==============================] - 0s 4ms/step - loss: 0.4027 - accuracy: 0.8078 - val_loss: 0.5394 - val_accuracy: 0.7403\n",
            "Epoch 30/100\n",
            "20/20 [==============================] - 0s 3ms/step - loss: 0.4006 - accuracy: 0.8062 - val_loss: 0.5399 - val_accuracy: 0.7338\n",
            "Epoch 31/100\n",
            "20/20 [==============================] - 0s 3ms/step - loss: 0.3983 - accuracy: 0.8029 - val_loss: 0.5432 - val_accuracy: 0.7338\n",
            "Epoch 32/100\n",
            "20/20 [==============================] - 0s 4ms/step - loss: 0.3972 - accuracy: 0.8029 - val_loss: 0.5431 - val_accuracy: 0.7208\n",
            "Epoch 33/100\n",
            "20/20 [==============================] - 0s 4ms/step - loss: 0.3943 - accuracy: 0.8078 - val_loss: 0.5467 - val_accuracy: 0.7273\n",
            "Epoch 34/100\n",
            "20/20 [==============================] - 0s 4ms/step - loss: 0.3944 - accuracy: 0.8208 - val_loss: 0.5423 - val_accuracy: 0.7273\n",
            "Epoch 35/100\n",
            "20/20 [==============================] - 0s 4ms/step - loss: 0.3921 - accuracy: 0.8094 - val_loss: 0.5428 - val_accuracy: 0.7338\n",
            "Epoch 36/100\n",
            "20/20 [==============================] - 0s 4ms/step - loss: 0.3888 - accuracy: 0.8160 - val_loss: 0.5455 - val_accuracy: 0.7273\n",
            "Epoch 37/100\n",
            "20/20 [==============================] - 0s 5ms/step - loss: 0.3868 - accuracy: 0.8127 - val_loss: 0.5491 - val_accuracy: 0.7208\n",
            "Epoch 38/100\n",
            "20/20 [==============================] - 0s 4ms/step - loss: 0.3854 - accuracy: 0.8078 - val_loss: 0.5512 - val_accuracy: 0.7273\n",
            "Epoch 39/100\n",
            "20/20 [==============================] - 0s 3ms/step - loss: 0.3848 - accuracy: 0.8127 - val_loss: 0.5559 - val_accuracy: 0.7338\n",
            "Epoch 40/100\n",
            "20/20 [==============================] - 0s 3ms/step - loss: 0.3819 - accuracy: 0.8143 - val_loss: 0.5528 - val_accuracy: 0.7403\n",
            "Epoch 41/100\n",
            "20/20 [==============================] - 0s 3ms/step - loss: 0.3792 - accuracy: 0.8208 - val_loss: 0.5542 - val_accuracy: 0.7403\n",
            "Epoch 42/100\n",
            "20/20 [==============================] - 0s 4ms/step - loss: 0.3776 - accuracy: 0.8160 - val_loss: 0.5515 - val_accuracy: 0.7403\n",
            "Epoch 43/100\n",
            "20/20 [==============================] - 0s 3ms/step - loss: 0.3787 - accuracy: 0.8143 - val_loss: 0.5612 - val_accuracy: 0.7468\n",
            "Epoch 44/100\n",
            "20/20 [==============================] - 0s 4ms/step - loss: 0.3760 - accuracy: 0.8225 - val_loss: 0.5600 - val_accuracy: 0.7403\n",
            "Epoch 45/100\n",
            "20/20 [==============================] - 0s 4ms/step - loss: 0.3737 - accuracy: 0.8192 - val_loss: 0.5565 - val_accuracy: 0.7532\n",
            "Epoch 46/100\n",
            "20/20 [==============================] - 0s 4ms/step - loss: 0.3720 - accuracy: 0.8241 - val_loss: 0.5596 - val_accuracy: 0.7403\n",
            "Epoch 47/100\n",
            "20/20 [==============================] - 0s 4ms/step - loss: 0.3695 - accuracy: 0.8208 - val_loss: 0.5615 - val_accuracy: 0.7403\n",
            "Epoch 48/100\n",
            "20/20 [==============================] - 0s 4ms/step - loss: 0.3695 - accuracy: 0.8225 - val_loss: 0.5665 - val_accuracy: 0.7468\n",
            "Epoch 49/100\n",
            "20/20 [==============================] - 0s 5ms/step - loss: 0.3668 - accuracy: 0.8241 - val_loss: 0.5660 - val_accuracy: 0.7597\n",
            "Epoch 50/100\n",
            "20/20 [==============================] - 0s 4ms/step - loss: 0.3662 - accuracy: 0.8257 - val_loss: 0.5738 - val_accuracy: 0.7403\n",
            "Epoch 51/100\n",
            "20/20 [==============================] - 0s 4ms/step - loss: 0.3650 - accuracy: 0.8274 - val_loss: 0.5688 - val_accuracy: 0.7532\n",
            "Epoch 52/100\n",
            "20/20 [==============================] - 0s 4ms/step - loss: 0.3628 - accuracy: 0.8388 - val_loss: 0.5684 - val_accuracy: 0.7403\n",
            "Epoch 53/100\n",
            "20/20 [==============================] - 0s 3ms/step - loss: 0.3614 - accuracy: 0.8404 - val_loss: 0.5709 - val_accuracy: 0.7403\n",
            "Epoch 54/100\n",
            "20/20 [==============================] - 0s 3ms/step - loss: 0.3605 - accuracy: 0.8339 - val_loss: 0.5765 - val_accuracy: 0.7403\n",
            "Epoch 55/100\n",
            "20/20 [==============================] - 0s 3ms/step - loss: 0.3607 - accuracy: 0.8339 - val_loss: 0.5696 - val_accuracy: 0.7532\n",
            "Epoch 56/100\n",
            "20/20 [==============================] - 0s 3ms/step - loss: 0.3578 - accuracy: 0.8355 - val_loss: 0.5743 - val_accuracy: 0.7532\n",
            "Epoch 57/100\n",
            "20/20 [==============================] - 0s 4ms/step - loss: 0.3556 - accuracy: 0.8404 - val_loss: 0.5793 - val_accuracy: 0.7403\n",
            "Epoch 58/100\n",
            "20/20 [==============================] - 0s 3ms/step - loss: 0.3541 - accuracy: 0.8371 - val_loss: 0.5779 - val_accuracy: 0.7468\n",
            "Epoch 59/100\n",
            "20/20 [==============================] - 0s 4ms/step - loss: 0.3533 - accuracy: 0.8339 - val_loss: 0.5789 - val_accuracy: 0.7468\n",
            "Epoch 60/100\n",
            "20/20 [==============================] - 0s 4ms/step - loss: 0.3518 - accuracy: 0.8404 - val_loss: 0.5838 - val_accuracy: 0.7403\n",
            "Epoch 61/100\n",
            "20/20 [==============================] - 0s 4ms/step - loss: 0.3517 - accuracy: 0.8388 - val_loss: 0.5909 - val_accuracy: 0.7403\n",
            "Epoch 62/100\n",
            "20/20 [==============================] - 0s 4ms/step - loss: 0.3492 - accuracy: 0.8436 - val_loss: 0.5858 - val_accuracy: 0.7338\n",
            "Epoch 63/100\n",
            "20/20 [==============================] - 0s 4ms/step - loss: 0.3489 - accuracy: 0.8469 - val_loss: 0.5925 - val_accuracy: 0.7532\n",
            "Epoch 64/100\n",
            "20/20 [==============================] - 0s 4ms/step - loss: 0.3471 - accuracy: 0.8453 - val_loss: 0.5935 - val_accuracy: 0.7273\n",
            "Epoch 65/100\n",
            "20/20 [==============================] - 0s 4ms/step - loss: 0.3447 - accuracy: 0.8436 - val_loss: 0.5907 - val_accuracy: 0.7468\n",
            "Epoch 66/100\n",
            "20/20 [==============================] - 0s 3ms/step - loss: 0.3440 - accuracy: 0.8469 - val_loss: 0.5907 - val_accuracy: 0.7403\n",
            "Epoch 67/100\n",
            "20/20 [==============================] - 0s 4ms/step - loss: 0.3426 - accuracy: 0.8469 - val_loss: 0.5916 - val_accuracy: 0.7338\n",
            "Epoch 68/100\n",
            "20/20 [==============================] - 0s 3ms/step - loss: 0.3410 - accuracy: 0.8502 - val_loss: 0.5917 - val_accuracy: 0.7338\n",
            "Epoch 69/100\n",
            "20/20 [==============================] - 0s 3ms/step - loss: 0.3410 - accuracy: 0.8518 - val_loss: 0.5904 - val_accuracy: 0.7403\n",
            "Epoch 70/100\n",
            "20/20 [==============================] - 0s 4ms/step - loss: 0.3389 - accuracy: 0.8485 - val_loss: 0.5922 - val_accuracy: 0.7338\n",
            "Epoch 71/100\n",
            "20/20 [==============================] - 0s 4ms/step - loss: 0.3367 - accuracy: 0.8567 - val_loss: 0.5982 - val_accuracy: 0.7273\n",
            "Epoch 72/100\n",
            "20/20 [==============================] - 0s 3ms/step - loss: 0.3422 - accuracy: 0.8404 - val_loss: 0.5974 - val_accuracy: 0.7208\n",
            "Epoch 73/100\n",
            "20/20 [==============================] - 0s 4ms/step - loss: 0.3345 - accuracy: 0.8534 - val_loss: 0.6046 - val_accuracy: 0.7403\n",
            "Epoch 74/100\n",
            "20/20 [==============================] - 0s 4ms/step - loss: 0.3351 - accuracy: 0.8436 - val_loss: 0.6066 - val_accuracy: 0.7143\n",
            "Epoch 75/100\n",
            "20/20 [==============================] - 0s 3ms/step - loss: 0.3359 - accuracy: 0.8502 - val_loss: 0.6055 - val_accuracy: 0.7273\n",
            "Epoch 76/100\n",
            "20/20 [==============================] - 0s 4ms/step - loss: 0.3311 - accuracy: 0.8453 - val_loss: 0.6094 - val_accuracy: 0.7403\n",
            "Epoch 77/100\n",
            "20/20 [==============================] - 0s 4ms/step - loss: 0.3313 - accuracy: 0.8567 - val_loss: 0.6091 - val_accuracy: 0.7143\n",
            "Epoch 78/100\n",
            "20/20 [==============================] - 0s 3ms/step - loss: 0.3279 - accuracy: 0.8534 - val_loss: 0.6088 - val_accuracy: 0.7273\n",
            "Epoch 79/100\n",
            "20/20 [==============================] - 0s 3ms/step - loss: 0.3276 - accuracy: 0.8502 - val_loss: 0.6112 - val_accuracy: 0.7338\n",
            "Epoch 80/100\n",
            "20/20 [==============================] - 0s 3ms/step - loss: 0.3284 - accuracy: 0.8599 - val_loss: 0.6088 - val_accuracy: 0.7338\n",
            "Epoch 81/100\n",
            "20/20 [==============================] - 0s 4ms/step - loss: 0.3243 - accuracy: 0.8583 - val_loss: 0.6177 - val_accuracy: 0.7338\n",
            "Epoch 82/100\n",
            "20/20 [==============================] - 0s 3ms/step - loss: 0.3234 - accuracy: 0.8583 - val_loss: 0.6164 - val_accuracy: 0.7208\n",
            "Epoch 83/100\n",
            "20/20 [==============================] - 0s 4ms/step - loss: 0.3225 - accuracy: 0.8567 - val_loss: 0.6196 - val_accuracy: 0.7143\n",
            "Epoch 84/100\n",
            "20/20 [==============================] - 0s 4ms/step - loss: 0.3218 - accuracy: 0.8599 - val_loss: 0.6157 - val_accuracy: 0.7403\n",
            "Epoch 85/100\n",
            "20/20 [==============================] - 0s 4ms/step - loss: 0.3213 - accuracy: 0.8518 - val_loss: 0.6138 - val_accuracy: 0.7338\n",
            "Epoch 86/100\n",
            "20/20 [==============================] - 0s 4ms/step - loss: 0.3179 - accuracy: 0.8616 - val_loss: 0.6269 - val_accuracy: 0.7273\n",
            "Epoch 87/100\n",
            "20/20 [==============================] - 0s 4ms/step - loss: 0.3175 - accuracy: 0.8616 - val_loss: 0.6295 - val_accuracy: 0.7403\n",
            "Epoch 88/100\n",
            "20/20 [==============================] - 0s 3ms/step - loss: 0.3166 - accuracy: 0.8616 - val_loss: 0.6313 - val_accuracy: 0.7208\n",
            "Epoch 89/100\n",
            "20/20 [==============================] - 0s 4ms/step - loss: 0.3149 - accuracy: 0.8648 - val_loss: 0.6329 - val_accuracy: 0.7273\n",
            "Epoch 90/100\n",
            "20/20 [==============================] - 0s 3ms/step - loss: 0.3156 - accuracy: 0.8567 - val_loss: 0.6336 - val_accuracy: 0.7143\n",
            "Epoch 91/100\n",
            "20/20 [==============================] - 0s 3ms/step - loss: 0.3150 - accuracy: 0.8599 - val_loss: 0.6335 - val_accuracy: 0.7273\n",
            "Epoch 92/100\n",
            "20/20 [==============================] - 0s 3ms/step - loss: 0.3131 - accuracy: 0.8616 - val_loss: 0.6350 - val_accuracy: 0.7208\n",
            "Epoch 93/100\n",
            "20/20 [==============================] - 0s 3ms/step - loss: 0.3133 - accuracy: 0.8632 - val_loss: 0.6348 - val_accuracy: 0.7273\n",
            "Epoch 94/100\n",
            "20/20 [==============================] - 0s 4ms/step - loss: 0.3104 - accuracy: 0.8648 - val_loss: 0.6365 - val_accuracy: 0.7208\n",
            "Epoch 95/100\n",
            "20/20 [==============================] - 0s 4ms/step - loss: 0.3092 - accuracy: 0.8616 - val_loss: 0.6359 - val_accuracy: 0.7273\n",
            "Epoch 96/100\n",
            "20/20 [==============================] - 0s 4ms/step - loss: 0.3079 - accuracy: 0.8632 - val_loss: 0.6376 - val_accuracy: 0.7273\n",
            "Epoch 97/100\n",
            "20/20 [==============================] - 0s 4ms/step - loss: 0.3066 - accuracy: 0.8648 - val_loss: 0.6447 - val_accuracy: 0.7338\n",
            "Epoch 98/100\n",
            "20/20 [==============================] - 0s 5ms/step - loss: 0.3092 - accuracy: 0.8616 - val_loss: 0.6399 - val_accuracy: 0.7403\n",
            "Epoch 99/100\n",
            "20/20 [==============================] - 0s 5ms/step - loss: 0.3051 - accuracy: 0.8648 - val_loss: 0.6412 - val_accuracy: 0.7403\n",
            "Epoch 100/100\n",
            "20/20 [==============================] - 0s 4ms/step - loss: 0.3047 - accuracy: 0.8632 - val_loss: 0.6426 - val_accuracy: 0.7338\n"
          ]
        },
        {
          "output_type": "execute_result",
          "data": {
            "text/plain": [
              "<keras.src.callbacks.History at 0x78df2e1134f0>"
            ]
          },
          "metadata": {},
          "execution_count": 44
        }
      ]
    },
    {
      "cell_type": "markdown",
      "source": [
        "## Tuning the numeber of neurons"
      ],
      "metadata": {
        "id": "zFfOXu8LTeFP"
      }
    },
    {
      "cell_type": "code",
      "source": [
        "def build_model(hp):\n",
        "    model = Sequential()\n",
        "    units = hp.Int(\"Units\", 8, 128)  #, step_size = 8\n",
        "\n",
        "    model.add(Dense(units, activation='relu', input_dim=x.shape[1]))\n",
        "    # model.add(Dense(units, activation = 'relu'))\n",
        "    model.add(Dense(1, activation = 'sigmoid'))\n",
        "\n",
        "    model.compile(optimizer = 'adam',\n",
        "                  loss = 'binary_crossentropy',\n",
        "                  metrics = ['accuracy'])\n",
        "    return model"
      ],
      "metadata": {
        "id": "B0fRq1pWN8bC"
      },
      "execution_count": 58,
      "outputs": []
    },
    {
      "cell_type": "code",
      "source": [
        "tuner = kt.RandomSearch(build_model,\n",
        "                        objective= 'val_accuracy',\n",
        "                        max_trials = 7,\n",
        "                        directory = 'mydir')"
      ],
      "metadata": {
        "id": "EcrUZvuhU21Y"
      },
      "execution_count": 59,
      "outputs": []
    },
    {
      "cell_type": "code",
      "source": [
        "tuner.search(x_train, y_train, epochs = 5, validation_data = (x_test, y_test))"
      ],
      "metadata": {
        "colab": {
          "base_uri": "https://localhost:8080/"
        },
        "id": "gaex66rEVHi5",
        "outputId": "dbd22797-ab80-4c90-f9f8-d8ee3b52fc55"
      },
      "execution_count": 60,
      "outputs": [
        {
          "output_type": "stream",
          "name": "stdout",
          "text": [
            "Trial 7 Complete [00h 00m 02s]\n",
            "val_accuracy: 0.7142857313156128\n",
            "\n",
            "Best val_accuracy So Far: 0.7207792401313782\n",
            "Total elapsed time: 00h 00m 13s\n"
          ]
        }
      ]
    },
    {
      "cell_type": "code",
      "source": [
        "tuner.get_best_hyperparameters()[0].values"
      ],
      "metadata": {
        "colab": {
          "base_uri": "https://localhost:8080/"
        },
        "id": "RtINFFVQVp3h",
        "outputId": "8bfbeff8-d6d7-4edc-fb16-387c8b099a48"
      },
      "execution_count": 61,
      "outputs": [
        {
          "output_type": "execute_result",
          "data": {
            "text/plain": [
              "{'Units': 79}"
            ]
          },
          "metadata": {},
          "execution_count": 61
        }
      ]
    },
    {
      "cell_type": "code",
      "source": [
        "model = tuner.get_best_models(num_models =1)[0]"
      ],
      "metadata": {
        "id": "tjUZDZBoVxIj"
      },
      "execution_count": 63,
      "outputs": []
    },
    {
      "cell_type": "code",
      "source": [
        "model.fit(x_train, y_train,\n",
        "          batch_size = 32,\n",
        "          epochs = 100,\n",
        "          initial_epoch = 6,\n",
        "          validation_data = (x_test, y_test))"
      ],
      "metadata": {
        "colab": {
          "base_uri": "https://localhost:8080/"
        },
        "id": "NsZp3ZauYtyJ",
        "outputId": "f1de6868-f16b-4d48-864c-0002275a3592"
      },
      "execution_count": 65,
      "outputs": [
        {
          "output_type": "stream",
          "name": "stdout",
          "text": [
            "Epoch 7/100\n",
            "20/20 [==============================] - 1s 12ms/step - loss: 0.5311 - accuracy: 0.7752 - val_loss: 0.5700 - val_accuracy: 0.7013\n",
            "Epoch 8/100\n",
            "20/20 [==============================] - 0s 4ms/step - loss: 0.5007 - accuracy: 0.7801 - val_loss: 0.5531 - val_accuracy: 0.7013\n",
            "Epoch 9/100\n",
            "20/20 [==============================] - 0s 4ms/step - loss: 0.4808 - accuracy: 0.7915 - val_loss: 0.5445 - val_accuracy: 0.7013\n",
            "Epoch 10/100\n",
            "20/20 [==============================] - 0s 4ms/step - loss: 0.4666 - accuracy: 0.7948 - val_loss: 0.5386 - val_accuracy: 0.7143\n",
            "Epoch 11/100\n",
            "20/20 [==============================] - 0s 4ms/step - loss: 0.4572 - accuracy: 0.7948 - val_loss: 0.5330 - val_accuracy: 0.7143\n",
            "Epoch 12/100\n",
            "20/20 [==============================] - 0s 4ms/step - loss: 0.4505 - accuracy: 0.7915 - val_loss: 0.5322 - val_accuracy: 0.7208\n",
            "Epoch 13/100\n",
            "20/20 [==============================] - 0s 4ms/step - loss: 0.4454 - accuracy: 0.7997 - val_loss: 0.5306 - val_accuracy: 0.7143\n",
            "Epoch 14/100\n",
            "20/20 [==============================] - 0s 4ms/step - loss: 0.4416 - accuracy: 0.8046 - val_loss: 0.5295 - val_accuracy: 0.7208\n",
            "Epoch 15/100\n",
            "20/20 [==============================] - 0s 3ms/step - loss: 0.4378 - accuracy: 0.8029 - val_loss: 0.5280 - val_accuracy: 0.7208\n",
            "Epoch 16/100\n",
            "20/20 [==============================] - 0s 4ms/step - loss: 0.4349 - accuracy: 0.7997 - val_loss: 0.5283 - val_accuracy: 0.7208\n",
            "Epoch 17/100\n",
            "20/20 [==============================] - 0s 3ms/step - loss: 0.4327 - accuracy: 0.8013 - val_loss: 0.5290 - val_accuracy: 0.7208\n",
            "Epoch 18/100\n",
            "20/20 [==============================] - 0s 4ms/step - loss: 0.4307 - accuracy: 0.8013 - val_loss: 0.5314 - val_accuracy: 0.7208\n",
            "Epoch 19/100\n",
            "20/20 [==============================] - 0s 3ms/step - loss: 0.4284 - accuracy: 0.8094 - val_loss: 0.5294 - val_accuracy: 0.7208\n",
            "Epoch 20/100\n",
            "20/20 [==============================] - 0s 3ms/step - loss: 0.4273 - accuracy: 0.8127 - val_loss: 0.5325 - val_accuracy: 0.7143\n",
            "Epoch 21/100\n",
            "20/20 [==============================] - 0s 5ms/step - loss: 0.4258 - accuracy: 0.8013 - val_loss: 0.5335 - val_accuracy: 0.7143\n",
            "Epoch 22/100\n",
            "20/20 [==============================] - 0s 4ms/step - loss: 0.4240 - accuracy: 0.8029 - val_loss: 0.5347 - val_accuracy: 0.7143\n",
            "Epoch 23/100\n",
            "20/20 [==============================] - 0s 3ms/step - loss: 0.4218 - accuracy: 0.8013 - val_loss: 0.5342 - val_accuracy: 0.7143\n",
            "Epoch 24/100\n",
            "20/20 [==============================] - 0s 4ms/step - loss: 0.4211 - accuracy: 0.8062 - val_loss: 0.5349 - val_accuracy: 0.7143\n",
            "Epoch 25/100\n",
            "20/20 [==============================] - 0s 3ms/step - loss: 0.4194 - accuracy: 0.8078 - val_loss: 0.5363 - val_accuracy: 0.7143\n",
            "Epoch 26/100\n",
            "20/20 [==============================] - 0s 4ms/step - loss: 0.4177 - accuracy: 0.8046 - val_loss: 0.5370 - val_accuracy: 0.7143\n",
            "Epoch 27/100\n",
            "20/20 [==============================] - 0s 3ms/step - loss: 0.4164 - accuracy: 0.8046 - val_loss: 0.5369 - val_accuracy: 0.7208\n",
            "Epoch 28/100\n",
            "20/20 [==============================] - 0s 4ms/step - loss: 0.4157 - accuracy: 0.8111 - val_loss: 0.5389 - val_accuracy: 0.7143\n",
            "Epoch 29/100\n",
            "20/20 [==============================] - 0s 5ms/step - loss: 0.4135 - accuracy: 0.8062 - val_loss: 0.5351 - val_accuracy: 0.7143\n",
            "Epoch 30/100\n",
            "20/20 [==============================] - 0s 3ms/step - loss: 0.4130 - accuracy: 0.8062 - val_loss: 0.5358 - val_accuracy: 0.7208\n",
            "Epoch 31/100\n",
            "20/20 [==============================] - 0s 4ms/step - loss: 0.4124 - accuracy: 0.8029 - val_loss: 0.5352 - val_accuracy: 0.7273\n",
            "Epoch 32/100\n",
            "20/20 [==============================] - 0s 3ms/step - loss: 0.4101 - accuracy: 0.8029 - val_loss: 0.5341 - val_accuracy: 0.7338\n",
            "Epoch 33/100\n",
            "20/20 [==============================] - 0s 5ms/step - loss: 0.4101 - accuracy: 0.8078 - val_loss: 0.5366 - val_accuracy: 0.7273\n",
            "Epoch 34/100\n",
            "20/20 [==============================] - 0s 4ms/step - loss: 0.4079 - accuracy: 0.8078 - val_loss: 0.5385 - val_accuracy: 0.7273\n",
            "Epoch 35/100\n",
            "20/20 [==============================] - 0s 3ms/step - loss: 0.4072 - accuracy: 0.8062 - val_loss: 0.5412 - val_accuracy: 0.7208\n",
            "Epoch 36/100\n",
            "20/20 [==============================] - 0s 3ms/step - loss: 0.4054 - accuracy: 0.8078 - val_loss: 0.5407 - val_accuracy: 0.7208\n",
            "Epoch 37/100\n",
            "20/20 [==============================] - 0s 3ms/step - loss: 0.4043 - accuracy: 0.8094 - val_loss: 0.5433 - val_accuracy: 0.7078\n",
            "Epoch 38/100\n",
            "20/20 [==============================] - 0s 4ms/step - loss: 0.4036 - accuracy: 0.8111 - val_loss: 0.5462 - val_accuracy: 0.7078\n",
            "Epoch 39/100\n",
            "20/20 [==============================] - 0s 3ms/step - loss: 0.4029 - accuracy: 0.8078 - val_loss: 0.5471 - val_accuracy: 0.7143\n",
            "Epoch 40/100\n",
            "20/20 [==============================] - 0s 3ms/step - loss: 0.4014 - accuracy: 0.8111 - val_loss: 0.5487 - val_accuracy: 0.7013\n",
            "Epoch 41/100\n",
            "20/20 [==============================] - 0s 4ms/step - loss: 0.4003 - accuracy: 0.8127 - val_loss: 0.5500 - val_accuracy: 0.7143\n",
            "Epoch 42/100\n",
            "20/20 [==============================] - 0s 3ms/step - loss: 0.3994 - accuracy: 0.8094 - val_loss: 0.5496 - val_accuracy: 0.7013\n",
            "Epoch 43/100\n",
            "20/20 [==============================] - 0s 3ms/step - loss: 0.4002 - accuracy: 0.8143 - val_loss: 0.5482 - val_accuracy: 0.7338\n",
            "Epoch 44/100\n",
            "20/20 [==============================] - 0s 3ms/step - loss: 0.3983 - accuracy: 0.8160 - val_loss: 0.5511 - val_accuracy: 0.7273\n",
            "Epoch 45/100\n",
            "20/20 [==============================] - 0s 4ms/step - loss: 0.3979 - accuracy: 0.8192 - val_loss: 0.5554 - val_accuracy: 0.7208\n",
            "Epoch 46/100\n",
            "20/20 [==============================] - 0s 4ms/step - loss: 0.3970 - accuracy: 0.8225 - val_loss: 0.5551 - val_accuracy: 0.7143\n",
            "Epoch 47/100\n",
            "20/20 [==============================] - 0s 4ms/step - loss: 0.3951 - accuracy: 0.8192 - val_loss: 0.5562 - val_accuracy: 0.7208\n",
            "Epoch 48/100\n",
            "20/20 [==============================] - 0s 4ms/step - loss: 0.3953 - accuracy: 0.8143 - val_loss: 0.5573 - val_accuracy: 0.7273\n",
            "Epoch 49/100\n",
            "20/20 [==============================] - 0s 4ms/step - loss: 0.3945 - accuracy: 0.8208 - val_loss: 0.5571 - val_accuracy: 0.7143\n",
            "Epoch 50/100\n",
            "20/20 [==============================] - 0s 3ms/step - loss: 0.3932 - accuracy: 0.8176 - val_loss: 0.5589 - val_accuracy: 0.7208\n",
            "Epoch 51/100\n",
            "20/20 [==============================] - 0s 3ms/step - loss: 0.3922 - accuracy: 0.8160 - val_loss: 0.5601 - val_accuracy: 0.7208\n",
            "Epoch 52/100\n",
            "20/20 [==============================] - 0s 3ms/step - loss: 0.3922 - accuracy: 0.8225 - val_loss: 0.5600 - val_accuracy: 0.7208\n",
            "Epoch 53/100\n",
            "20/20 [==============================] - 0s 3ms/step - loss: 0.3927 - accuracy: 0.8176 - val_loss: 0.5565 - val_accuracy: 0.7273\n",
            "Epoch 54/100\n",
            "20/20 [==============================] - 0s 4ms/step - loss: 0.3923 - accuracy: 0.8225 - val_loss: 0.5573 - val_accuracy: 0.7208\n",
            "Epoch 55/100\n",
            "20/20 [==============================] - 0s 4ms/step - loss: 0.3905 - accuracy: 0.8225 - val_loss: 0.5563 - val_accuracy: 0.7208\n",
            "Epoch 56/100\n",
            "20/20 [==============================] - 0s 3ms/step - loss: 0.3892 - accuracy: 0.8192 - val_loss: 0.5577 - val_accuracy: 0.7338\n",
            "Epoch 57/100\n",
            "20/20 [==============================] - 0s 4ms/step - loss: 0.3887 - accuracy: 0.8225 - val_loss: 0.5593 - val_accuracy: 0.7208\n",
            "Epoch 58/100\n",
            "20/20 [==============================] - 0s 4ms/step - loss: 0.3879 - accuracy: 0.8192 - val_loss: 0.5612 - val_accuracy: 0.7143\n",
            "Epoch 59/100\n",
            "20/20 [==============================] - 0s 5ms/step - loss: 0.3874 - accuracy: 0.8290 - val_loss: 0.5630 - val_accuracy: 0.7143\n",
            "Epoch 60/100\n",
            "20/20 [==============================] - 0s 4ms/step - loss: 0.3870 - accuracy: 0.8192 - val_loss: 0.5626 - val_accuracy: 0.7208\n",
            "Epoch 61/100\n",
            "20/20 [==============================] - 0s 4ms/step - loss: 0.3864 - accuracy: 0.8192 - val_loss: 0.5621 - val_accuracy: 0.7143\n",
            "Epoch 62/100\n",
            "20/20 [==============================] - 0s 3ms/step - loss: 0.3850 - accuracy: 0.8241 - val_loss: 0.5633 - val_accuracy: 0.7143\n",
            "Epoch 63/100\n",
            "20/20 [==============================] - 0s 4ms/step - loss: 0.3850 - accuracy: 0.8225 - val_loss: 0.5678 - val_accuracy: 0.7143\n",
            "Epoch 64/100\n",
            "20/20 [==============================] - 0s 3ms/step - loss: 0.3844 - accuracy: 0.8192 - val_loss: 0.5696 - val_accuracy: 0.7143\n",
            "Epoch 65/100\n",
            "20/20 [==============================] - 0s 3ms/step - loss: 0.3829 - accuracy: 0.8241 - val_loss: 0.5678 - val_accuracy: 0.7078\n",
            "Epoch 66/100\n",
            "20/20 [==============================] - 0s 3ms/step - loss: 0.3830 - accuracy: 0.8306 - val_loss: 0.5654 - val_accuracy: 0.7143\n",
            "Epoch 67/100\n",
            "20/20 [==============================] - 0s 4ms/step - loss: 0.3825 - accuracy: 0.8306 - val_loss: 0.5691 - val_accuracy: 0.7208\n",
            "Epoch 68/100\n",
            "20/20 [==============================] - 0s 4ms/step - loss: 0.3815 - accuracy: 0.8274 - val_loss: 0.5716 - val_accuracy: 0.7208\n",
            "Epoch 69/100\n",
            "20/20 [==============================] - 0s 3ms/step - loss: 0.3811 - accuracy: 0.8257 - val_loss: 0.5732 - val_accuracy: 0.7208\n",
            "Epoch 70/100\n",
            "20/20 [==============================] - 0s 4ms/step - loss: 0.3811 - accuracy: 0.8257 - val_loss: 0.5741 - val_accuracy: 0.7143\n",
            "Epoch 71/100\n",
            "20/20 [==============================] - 0s 4ms/step - loss: 0.3798 - accuracy: 0.8208 - val_loss: 0.5740 - val_accuracy: 0.7143\n",
            "Epoch 72/100\n",
            "20/20 [==============================] - 0s 3ms/step - loss: 0.3787 - accuracy: 0.8290 - val_loss: 0.5712 - val_accuracy: 0.7208\n",
            "Epoch 73/100\n",
            "20/20 [==============================] - 0s 4ms/step - loss: 0.3793 - accuracy: 0.8290 - val_loss: 0.5723 - val_accuracy: 0.7143\n",
            "Epoch 74/100\n",
            "20/20 [==============================] - 0s 4ms/step - loss: 0.3787 - accuracy: 0.8241 - val_loss: 0.5720 - val_accuracy: 0.7273\n",
            "Epoch 75/100\n",
            "20/20 [==============================] - 0s 6ms/step - loss: 0.3787 - accuracy: 0.8290 - val_loss: 0.5747 - val_accuracy: 0.7143\n",
            "Epoch 76/100\n",
            "20/20 [==============================] - 0s 5ms/step - loss: 0.3783 - accuracy: 0.8306 - val_loss: 0.5759 - val_accuracy: 0.7273\n",
            "Epoch 77/100\n",
            "20/20 [==============================] - 0s 5ms/step - loss: 0.3770 - accuracy: 0.8339 - val_loss: 0.5811 - val_accuracy: 0.7208\n",
            "Epoch 78/100\n",
            "20/20 [==============================] - 0s 5ms/step - loss: 0.3773 - accuracy: 0.8355 - val_loss: 0.5795 - val_accuracy: 0.7143\n",
            "Epoch 79/100\n",
            "20/20 [==============================] - 0s 5ms/step - loss: 0.3763 - accuracy: 0.8404 - val_loss: 0.5762 - val_accuracy: 0.7208\n",
            "Epoch 80/100\n",
            "20/20 [==============================] - 0s 5ms/step - loss: 0.3760 - accuracy: 0.8322 - val_loss: 0.5801 - val_accuracy: 0.7208\n",
            "Epoch 81/100\n",
            "20/20 [==============================] - 0s 6ms/step - loss: 0.3753 - accuracy: 0.8306 - val_loss: 0.5812 - val_accuracy: 0.7143\n",
            "Epoch 82/100\n",
            "20/20 [==============================] - 0s 4ms/step - loss: 0.3758 - accuracy: 0.8241 - val_loss: 0.5860 - val_accuracy: 0.7143\n",
            "Epoch 83/100\n",
            "20/20 [==============================] - 0s 5ms/step - loss: 0.3746 - accuracy: 0.8306 - val_loss: 0.5848 - val_accuracy: 0.7208\n",
            "Epoch 84/100\n",
            "20/20 [==============================] - 0s 5ms/step - loss: 0.3731 - accuracy: 0.8290 - val_loss: 0.5878 - val_accuracy: 0.7208\n",
            "Epoch 85/100\n",
            "20/20 [==============================] - 0s 6ms/step - loss: 0.3729 - accuracy: 0.8306 - val_loss: 0.5887 - val_accuracy: 0.7143\n",
            "Epoch 86/100\n",
            "20/20 [==============================] - 0s 6ms/step - loss: 0.3733 - accuracy: 0.8306 - val_loss: 0.5910 - val_accuracy: 0.7143\n",
            "Epoch 87/100\n",
            "20/20 [==============================] - 0s 7ms/step - loss: 0.3728 - accuracy: 0.8339 - val_loss: 0.5896 - val_accuracy: 0.7208\n",
            "Epoch 88/100\n",
            "20/20 [==============================] - 0s 5ms/step - loss: 0.3744 - accuracy: 0.8257 - val_loss: 0.5906 - val_accuracy: 0.7013\n",
            "Epoch 89/100\n",
            "20/20 [==============================] - 0s 7ms/step - loss: 0.3712 - accuracy: 0.8322 - val_loss: 0.5879 - val_accuracy: 0.7078\n",
            "Epoch 90/100\n",
            "20/20 [==============================] - 0s 5ms/step - loss: 0.3716 - accuracy: 0.8339 - val_loss: 0.5931 - val_accuracy: 0.7143\n",
            "Epoch 91/100\n",
            "20/20 [==============================] - 0s 5ms/step - loss: 0.3709 - accuracy: 0.8339 - val_loss: 0.5898 - val_accuracy: 0.7078\n",
            "Epoch 92/100\n",
            "20/20 [==============================] - 0s 5ms/step - loss: 0.3703 - accuracy: 0.8306 - val_loss: 0.5936 - val_accuracy: 0.7143\n",
            "Epoch 93/100\n",
            "20/20 [==============================] - 0s 6ms/step - loss: 0.3695 - accuracy: 0.8339 - val_loss: 0.5900 - val_accuracy: 0.7143\n",
            "Epoch 94/100\n",
            "20/20 [==============================] - 0s 5ms/step - loss: 0.3700 - accuracy: 0.8388 - val_loss: 0.5948 - val_accuracy: 0.7143\n",
            "Epoch 95/100\n",
            "20/20 [==============================] - 0s 5ms/step - loss: 0.3687 - accuracy: 0.8290 - val_loss: 0.5952 - val_accuracy: 0.7143\n",
            "Epoch 96/100\n",
            "20/20 [==============================] - 0s 8ms/step - loss: 0.3684 - accuracy: 0.8322 - val_loss: 0.5944 - val_accuracy: 0.7143\n",
            "Epoch 97/100\n",
            "20/20 [==============================] - 0s 7ms/step - loss: 0.3677 - accuracy: 0.8371 - val_loss: 0.5951 - val_accuracy: 0.7208\n",
            "Epoch 98/100\n",
            "20/20 [==============================] - 0s 6ms/step - loss: 0.3674 - accuracy: 0.8371 - val_loss: 0.5959 - val_accuracy: 0.7208\n",
            "Epoch 99/100\n",
            "20/20 [==============================] - 0s 6ms/step - loss: 0.3666 - accuracy: 0.8388 - val_loss: 0.5949 - val_accuracy: 0.7143\n",
            "Epoch 100/100\n",
            "20/20 [==============================] - 0s 6ms/step - loss: 0.3672 - accuracy: 0.8371 - val_loss: 0.5974 - val_accuracy: 0.7078\n"
          ]
        },
        {
          "output_type": "execute_result",
          "data": {
            "text/plain": [
              "<keras.src.callbacks.History at 0x78df2d70c220>"
            ]
          },
          "metadata": {},
          "execution_count": 65
        }
      ]
    },
    {
      "cell_type": "markdown",
      "source": [
        "## Number of Layers"
      ],
      "metadata": {
        "id": "5mLRfYsZZVIW"
      }
    },
    {
      "cell_type": "code",
      "source": [
        "def build_model(hp):\n",
        "    model = Sequential()\n",
        "    model.add(Dense(79, activation = 'relu', input_dim = x.shape[1]))\n",
        "    for i in range(hp.Int('Layers', min_value = 1, max_value = 10)):\n",
        "        model.add(Dense(79, activation = 'relu'))\n",
        "\n",
        "    model.add(Dense(1, activation = 'sigmoid'))\n",
        "\n",
        "    model.compile(optimizer = 'adam',\n",
        "                  loss = 'binary_crossentropy',\n",
        "                  metrics = ['accuracy'])\n",
        "    return model"
      ],
      "metadata": {
        "id": "eptpvFfMZR58"
      },
      "execution_count": 66,
      "outputs": []
    },
    {
      "cell_type": "code",
      "source": [
        "tuner = kt.RandomSearch(build_model,\n",
        "                        objective= 'val_accuracy',\n",
        "                        max_trials = 10,\n",
        "                        directory = 'mydir',\n",
        "                        project_name = 'Layers')"
      ],
      "metadata": {
        "colab": {
          "base_uri": "https://localhost:8080/"
        },
        "id": "DQAgcGKRY7Uu",
        "outputId": "fdbb5ef8-5b80-474f-a0ac-8bec35e89d96"
      },
      "execution_count": 71,
      "outputs": [
        {
          "output_type": "stream",
          "name": "stdout",
          "text": [
            "Reloading Tuner from mydir/Layers/tuner0.json\n"
          ]
        }
      ]
    },
    {
      "cell_type": "code",
      "source": [
        "tuner.search(x_train, y_train, epochs = 5, validation_data = (x_test, y_test))"
      ],
      "metadata": {
        "colab": {
          "base_uri": "https://localhost:8080/"
        },
        "id": "NqdSlZ9ObUNg",
        "outputId": "ec385568-9298-4a47-98cb-31a4d34d0da1"
      },
      "execution_count": 72,
      "outputs": [
        {
          "output_type": "stream",
          "name": "stdout",
          "text": [
            "Trial 10 Complete [00h 00m 03s]\n",
            "val_accuracy: 0.7272727489471436\n",
            "\n",
            "Best val_accuracy So Far: 0.7467532753944397\n",
            "Total elapsed time: 00h 01m 06s\n"
          ]
        }
      ]
    },
    {
      "cell_type": "code",
      "source": [
        "tuner.get_best_hyperparameters()[0].values"
      ],
      "metadata": {
        "colab": {
          "base_uri": "https://localhost:8080/"
        },
        "id": "2LP6OOW-bZfw",
        "outputId": "cc225b34-407e-4df8-a6a6-c189ec137ff2"
      },
      "execution_count": 73,
      "outputs": [
        {
          "output_type": "execute_result",
          "data": {
            "text/plain": [
              "{'Layers': 7}"
            ]
          },
          "metadata": {},
          "execution_count": 73
        }
      ]
    },
    {
      "cell_type": "code",
      "source": [
        "model = tuner.get_best_models(num_models =1)[0]"
      ],
      "metadata": {
        "id": "u4M-ApIYblks"
      },
      "execution_count": 74,
      "outputs": []
    },
    {
      "cell_type": "code",
      "source": [
        "model.fit(x_train, y_train,\n",
        "          batch_size = 32,\n",
        "          epochs = 100,\n",
        "          initial_epoch = 6,\n",
        "          validation_data = (x_test, y_test))"
      ],
      "metadata": {
        "colab": {
          "base_uri": "https://localhost:8080/"
        },
        "id": "HuSASqxxa9uu",
        "outputId": "df99d209-7597-4e64-bf99-6d9dc76b279a"
      },
      "execution_count": 76,
      "outputs": [
        {
          "output_type": "stream",
          "name": "stdout",
          "text": [
            "Epoch 7/100\n",
            "20/20 [==============================] - 0s 7ms/step - loss: 3.5523e-05 - accuracy: 1.0000 - val_loss: 4.1431 - val_accuracy: 0.7143\n",
            "Epoch 8/100\n",
            "20/20 [==============================] - 0s 4ms/step - loss: 3.2312e-05 - accuracy: 1.0000 - val_loss: 4.2177 - val_accuracy: 0.7143\n",
            "Epoch 9/100\n",
            "20/20 [==============================] - 0s 4ms/step - loss: 2.9634e-05 - accuracy: 1.0000 - val_loss: 4.2765 - val_accuracy: 0.7143\n",
            "Epoch 10/100\n",
            "20/20 [==============================] - 0s 5ms/step - loss: 2.7602e-05 - accuracy: 1.0000 - val_loss: 4.3329 - val_accuracy: 0.7143\n",
            "Epoch 11/100\n",
            "20/20 [==============================] - 0s 4ms/step - loss: 2.5876e-05 - accuracy: 1.0000 - val_loss: 4.3884 - val_accuracy: 0.7143\n",
            "Epoch 12/100\n",
            "20/20 [==============================] - 0s 4ms/step - loss: 2.4308e-05 - accuracy: 1.0000 - val_loss: 4.4375 - val_accuracy: 0.7143\n",
            "Epoch 13/100\n",
            "20/20 [==============================] - 0s 5ms/step - loss: 2.2917e-05 - accuracy: 1.0000 - val_loss: 4.4852 - val_accuracy: 0.7143\n",
            "Epoch 14/100\n",
            "20/20 [==============================] - 0s 4ms/step - loss: 2.1599e-05 - accuracy: 1.0000 - val_loss: 4.5373 - val_accuracy: 0.7143\n",
            "Epoch 15/100\n",
            "20/20 [==============================] - 0s 5ms/step - loss: 2.0406e-05 - accuracy: 1.0000 - val_loss: 4.5910 - val_accuracy: 0.7143\n",
            "Epoch 16/100\n",
            "20/20 [==============================] - 0s 6ms/step - loss: 1.9358e-05 - accuracy: 1.0000 - val_loss: 4.6296 - val_accuracy: 0.7143\n",
            "Epoch 17/100\n",
            "20/20 [==============================] - 0s 7ms/step - loss: 1.8419e-05 - accuracy: 1.0000 - val_loss: 4.6668 - val_accuracy: 0.7143\n",
            "Epoch 18/100\n",
            "20/20 [==============================] - 0s 5ms/step - loss: 1.7607e-05 - accuracy: 1.0000 - val_loss: 4.7003 - val_accuracy: 0.7143\n",
            "Epoch 19/100\n",
            "20/20 [==============================] - 0s 4ms/step - loss: 1.6863e-05 - accuracy: 1.0000 - val_loss: 4.7349 - val_accuracy: 0.7143\n",
            "Epoch 20/100\n",
            "20/20 [==============================] - 0s 5ms/step - loss: 1.6134e-05 - accuracy: 1.0000 - val_loss: 4.7662 - val_accuracy: 0.7143\n",
            "Epoch 21/100\n",
            "20/20 [==============================] - 0s 5ms/step - loss: 1.5255e-05 - accuracy: 1.0000 - val_loss: 4.7954 - val_accuracy: 0.7143\n",
            "Epoch 22/100\n",
            "20/20 [==============================] - 0s 5ms/step - loss: 1.4613e-05 - accuracy: 1.0000 - val_loss: 4.8319 - val_accuracy: 0.7143\n",
            "Epoch 23/100\n",
            "20/20 [==============================] - 0s 4ms/step - loss: 1.4002e-05 - accuracy: 1.0000 - val_loss: 4.8613 - val_accuracy: 0.7143\n",
            "Epoch 24/100\n",
            "20/20 [==============================] - 0s 4ms/step - loss: 1.3462e-05 - accuracy: 1.0000 - val_loss: 4.8871 - val_accuracy: 0.7143\n",
            "Epoch 25/100\n",
            "20/20 [==============================] - 0s 4ms/step - loss: 1.2983e-05 - accuracy: 1.0000 - val_loss: 4.9193 - val_accuracy: 0.7143\n",
            "Epoch 26/100\n",
            "20/20 [==============================] - 0s 6ms/step - loss: 1.2536e-05 - accuracy: 1.0000 - val_loss: 4.9458 - val_accuracy: 0.7143\n",
            "Epoch 27/100\n",
            "20/20 [==============================] - 0s 6ms/step - loss: 1.2060e-05 - accuracy: 1.0000 - val_loss: 4.9697 - val_accuracy: 0.7143\n",
            "Epoch 28/100\n",
            "20/20 [==============================] - 0s 5ms/step - loss: 1.1693e-05 - accuracy: 1.0000 - val_loss: 4.9957 - val_accuracy: 0.7143\n",
            "Epoch 29/100\n",
            "20/20 [==============================] - 0s 5ms/step - loss: 1.1285e-05 - accuracy: 1.0000 - val_loss: 5.0208 - val_accuracy: 0.7143\n",
            "Epoch 30/100\n",
            "20/20 [==============================] - 0s 5ms/step - loss: 1.0934e-05 - accuracy: 1.0000 - val_loss: 5.0452 - val_accuracy: 0.7143\n",
            "Epoch 31/100\n",
            "20/20 [==============================] - 0s 5ms/step - loss: 1.0550e-05 - accuracy: 1.0000 - val_loss: 5.0811 - val_accuracy: 0.7143\n",
            "Epoch 32/100\n",
            "20/20 [==============================] - 0s 4ms/step - loss: 1.0244e-05 - accuracy: 1.0000 - val_loss: 5.1074 - val_accuracy: 0.7143\n",
            "Epoch 33/100\n",
            "20/20 [==============================] - 0s 4ms/step - loss: 9.9052e-06 - accuracy: 1.0000 - val_loss: 5.1257 - val_accuracy: 0.7143\n",
            "Epoch 34/100\n",
            "20/20 [==============================] - 0s 4ms/step - loss: 9.6283e-06 - accuracy: 1.0000 - val_loss: 5.1529 - val_accuracy: 0.7143\n",
            "Epoch 35/100\n",
            "20/20 [==============================] - 0s 5ms/step - loss: 9.3236e-06 - accuracy: 1.0000 - val_loss: 5.1732 - val_accuracy: 0.7143\n",
            "Epoch 36/100\n",
            "20/20 [==============================] - 0s 6ms/step - loss: 9.0613e-06 - accuracy: 1.0000 - val_loss: 5.1962 - val_accuracy: 0.7143\n",
            "Epoch 37/100\n",
            "20/20 [==============================] - 0s 6ms/step - loss: 8.7871e-06 - accuracy: 1.0000 - val_loss: 5.2188 - val_accuracy: 0.7143\n",
            "Epoch 38/100\n",
            "20/20 [==============================] - 0s 7ms/step - loss: 8.5533e-06 - accuracy: 1.0000 - val_loss: 5.2407 - val_accuracy: 0.7143\n",
            "Epoch 39/100\n",
            "20/20 [==============================] - 0s 7ms/step - loss: 8.3096e-06 - accuracy: 1.0000 - val_loss: 5.2615 - val_accuracy: 0.7143\n",
            "Epoch 40/100\n",
            "20/20 [==============================] - 0s 7ms/step - loss: 8.0144e-06 - accuracy: 1.0000 - val_loss: 5.2808 - val_accuracy: 0.7143\n",
            "Epoch 41/100\n",
            "20/20 [==============================] - 0s 7ms/step - loss: 7.7892e-06 - accuracy: 1.0000 - val_loss: 5.3023 - val_accuracy: 0.7143\n",
            "Epoch 42/100\n",
            "20/20 [==============================] - 0s 7ms/step - loss: 7.5749e-06 - accuracy: 1.0000 - val_loss: 5.3197 - val_accuracy: 0.7143\n",
            "Epoch 43/100\n",
            "20/20 [==============================] - 0s 9ms/step - loss: 7.3881e-06 - accuracy: 1.0000 - val_loss: 5.3419 - val_accuracy: 0.7143\n",
            "Epoch 44/100\n",
            "20/20 [==============================] - 0s 7ms/step - loss: 7.1955e-06 - accuracy: 1.0000 - val_loss: 5.3606 - val_accuracy: 0.7143\n",
            "Epoch 45/100\n",
            "20/20 [==============================] - 0s 6ms/step - loss: 7.0015e-06 - accuracy: 1.0000 - val_loss: 5.3823 - val_accuracy: 0.7143\n",
            "Epoch 46/100\n",
            "20/20 [==============================] - 0s 6ms/step - loss: 6.8099e-06 - accuracy: 1.0000 - val_loss: 5.3986 - val_accuracy: 0.7143\n",
            "Epoch 47/100\n",
            "20/20 [==============================] - 0s 7ms/step - loss: 6.6541e-06 - accuracy: 1.0000 - val_loss: 5.4192 - val_accuracy: 0.7143\n",
            "Epoch 48/100\n",
            "20/20 [==============================] - 0s 7ms/step - loss: 6.4734e-06 - accuracy: 1.0000 - val_loss: 5.4351 - val_accuracy: 0.7143\n",
            "Epoch 49/100\n",
            "20/20 [==============================] - 0s 7ms/step - loss: 6.3291e-06 - accuracy: 1.0000 - val_loss: 5.4555 - val_accuracy: 0.7143\n",
            "Epoch 50/100\n",
            "20/20 [==============================] - 0s 10ms/step - loss: 6.1637e-06 - accuracy: 1.0000 - val_loss: 5.4734 - val_accuracy: 0.7143\n",
            "Epoch 51/100\n",
            "20/20 [==============================] - 0s 8ms/step - loss: 6.0097e-06 - accuracy: 1.0000 - val_loss: 5.4939 - val_accuracy: 0.7143\n",
            "Epoch 52/100\n",
            "20/20 [==============================] - 0s 7ms/step - loss: 5.8734e-06 - accuracy: 1.0000 - val_loss: 5.5120 - val_accuracy: 0.7143\n",
            "Epoch 53/100\n",
            "20/20 [==============================] - 0s 7ms/step - loss: 5.7397e-06 - accuracy: 1.0000 - val_loss: 5.5278 - val_accuracy: 0.7143\n",
            "Epoch 54/100\n",
            "20/20 [==============================] - 0s 7ms/step - loss: 5.6107e-06 - accuracy: 1.0000 - val_loss: 5.5468 - val_accuracy: 0.7143\n",
            "Epoch 55/100\n",
            "20/20 [==============================] - 0s 7ms/step - loss: 5.4849e-06 - accuracy: 1.0000 - val_loss: 5.5714 - val_accuracy: 0.7143\n",
            "Epoch 56/100\n",
            "20/20 [==============================] - 0s 9ms/step - loss: 5.3516e-06 - accuracy: 1.0000 - val_loss: 5.5914 - val_accuracy: 0.7143\n",
            "Epoch 57/100\n",
            "20/20 [==============================] - 0s 9ms/step - loss: 5.2396e-06 - accuracy: 1.0000 - val_loss: 5.6064 - val_accuracy: 0.7143\n",
            "Epoch 58/100\n",
            "20/20 [==============================] - 0s 8ms/step - loss: 5.1245e-06 - accuracy: 1.0000 - val_loss: 5.6232 - val_accuracy: 0.7143\n",
            "Epoch 59/100\n",
            "20/20 [==============================] - 0s 5ms/step - loss: 5.0112e-06 - accuracy: 1.0000 - val_loss: 5.6393 - val_accuracy: 0.7143\n",
            "Epoch 60/100\n",
            "20/20 [==============================] - 0s 4ms/step - loss: 4.8962e-06 - accuracy: 1.0000 - val_loss: 5.6567 - val_accuracy: 0.7143\n",
            "Epoch 61/100\n",
            "20/20 [==============================] - 0s 5ms/step - loss: 4.7861e-06 - accuracy: 1.0000 - val_loss: 5.6725 - val_accuracy: 0.7143\n",
            "Epoch 62/100\n",
            "20/20 [==============================] - 0s 5ms/step - loss: 4.6841e-06 - accuracy: 1.0000 - val_loss: 5.6900 - val_accuracy: 0.7143\n",
            "Epoch 63/100\n",
            "20/20 [==============================] - 0s 5ms/step - loss: 4.5748e-06 - accuracy: 1.0000 - val_loss: 5.7052 - val_accuracy: 0.7143\n",
            "Epoch 64/100\n",
            "20/20 [==============================] - 0s 6ms/step - loss: 4.4793e-06 - accuracy: 1.0000 - val_loss: 5.7205 - val_accuracy: 0.7143\n",
            "Epoch 65/100\n",
            "20/20 [==============================] - 0s 5ms/step - loss: 4.3977e-06 - accuracy: 1.0000 - val_loss: 5.7330 - val_accuracy: 0.7143\n",
            "Epoch 66/100\n",
            "20/20 [==============================] - 0s 5ms/step - loss: 4.3007e-06 - accuracy: 1.0000 - val_loss: 5.7578 - val_accuracy: 0.7143\n",
            "Epoch 67/100\n",
            "20/20 [==============================] - 0s 5ms/step - loss: 4.2114e-06 - accuracy: 1.0000 - val_loss: 5.7739 - val_accuracy: 0.7143\n",
            "Epoch 68/100\n",
            "20/20 [==============================] - 0s 6ms/step - loss: 4.1334e-06 - accuracy: 1.0000 - val_loss: 5.7895 - val_accuracy: 0.7143\n",
            "Epoch 69/100\n",
            "20/20 [==============================] - 0s 4ms/step - loss: 4.0465e-06 - accuracy: 1.0000 - val_loss: 5.8030 - val_accuracy: 0.7143\n",
            "Epoch 70/100\n",
            "20/20 [==============================] - 0s 5ms/step - loss: 3.9752e-06 - accuracy: 1.0000 - val_loss: 5.8176 - val_accuracy: 0.7143\n",
            "Epoch 71/100\n",
            "20/20 [==============================] - 0s 4ms/step - loss: 3.8938e-06 - accuracy: 1.0000 - val_loss: 5.8307 - val_accuracy: 0.7143\n",
            "Epoch 72/100\n",
            "20/20 [==============================] - 0s 4ms/step - loss: 3.8178e-06 - accuracy: 1.0000 - val_loss: 5.8466 - val_accuracy: 0.7143\n",
            "Epoch 73/100\n",
            "20/20 [==============================] - 0s 5ms/step - loss: 3.7368e-06 - accuracy: 1.0000 - val_loss: 5.8635 - val_accuracy: 0.7143\n",
            "Epoch 74/100\n",
            "20/20 [==============================] - 0s 7ms/step - loss: 3.6593e-06 - accuracy: 1.0000 - val_loss: 5.8759 - val_accuracy: 0.7143\n",
            "Epoch 75/100\n",
            "20/20 [==============================] - 0s 6ms/step - loss: 3.5913e-06 - accuracy: 1.0000 - val_loss: 5.8896 - val_accuracy: 0.7143\n",
            "Epoch 76/100\n",
            "20/20 [==============================] - 0s 5ms/step - loss: 3.5261e-06 - accuracy: 1.0000 - val_loss: 5.9043 - val_accuracy: 0.7143\n",
            "Epoch 77/100\n",
            "20/20 [==============================] - 0s 5ms/step - loss: 3.4609e-06 - accuracy: 1.0000 - val_loss: 5.9190 - val_accuracy: 0.7143\n",
            "Epoch 78/100\n",
            "20/20 [==============================] - 0s 5ms/step - loss: 3.3964e-06 - accuracy: 1.0000 - val_loss: 5.9322 - val_accuracy: 0.7143\n",
            "Epoch 79/100\n",
            "20/20 [==============================] - 0s 5ms/step - loss: 3.3421e-06 - accuracy: 1.0000 - val_loss: 5.9474 - val_accuracy: 0.7143\n",
            "Epoch 80/100\n",
            "20/20 [==============================] - 0s 5ms/step - loss: 3.2756e-06 - accuracy: 1.0000 - val_loss: 5.9597 - val_accuracy: 0.7143\n",
            "Epoch 81/100\n",
            "20/20 [==============================] - 0s 4ms/step - loss: 3.2201e-06 - accuracy: 1.0000 - val_loss: 5.9720 - val_accuracy: 0.7143\n",
            "Epoch 82/100\n",
            "20/20 [==============================] - 0s 5ms/step - loss: 3.1627e-06 - accuracy: 1.0000 - val_loss: 5.9859 - val_accuracy: 0.7143\n",
            "Epoch 83/100\n",
            "20/20 [==============================] - 0s 6ms/step - loss: 3.1083e-06 - accuracy: 1.0000 - val_loss: 6.0018 - val_accuracy: 0.7143\n",
            "Epoch 84/100\n",
            "20/20 [==============================] - 0s 5ms/step - loss: 3.0531e-06 - accuracy: 1.0000 - val_loss: 6.0151 - val_accuracy: 0.7143\n",
            "Epoch 85/100\n",
            "20/20 [==============================] - 0s 5ms/step - loss: 2.9992e-06 - accuracy: 1.0000 - val_loss: 6.0282 - val_accuracy: 0.7143\n",
            "Epoch 86/100\n",
            "20/20 [==============================] - 0s 5ms/step - loss: 2.9439e-06 - accuracy: 1.0000 - val_loss: 6.0424 - val_accuracy: 0.7143\n",
            "Epoch 87/100\n",
            "20/20 [==============================] - 0s 6ms/step - loss: 2.8915e-06 - accuracy: 1.0000 - val_loss: 6.0562 - val_accuracy: 0.7143\n",
            "Epoch 88/100\n",
            "20/20 [==============================] - 0s 5ms/step - loss: 2.8427e-06 - accuracy: 1.0000 - val_loss: 6.0712 - val_accuracy: 0.7143\n",
            "Epoch 89/100\n",
            "20/20 [==============================] - 0s 5ms/step - loss: 2.7907e-06 - accuracy: 1.0000 - val_loss: 6.0824 - val_accuracy: 0.7143\n",
            "Epoch 90/100\n",
            "20/20 [==============================] - 0s 4ms/step - loss: 2.7433e-06 - accuracy: 1.0000 - val_loss: 6.0945 - val_accuracy: 0.7143\n",
            "Epoch 91/100\n",
            "20/20 [==============================] - 0s 4ms/step - loss: 2.6952e-06 - accuracy: 1.0000 - val_loss: 6.1176 - val_accuracy: 0.7143\n",
            "Epoch 92/100\n",
            "20/20 [==============================] - 0s 5ms/step - loss: 2.6519e-06 - accuracy: 1.0000 - val_loss: 6.1311 - val_accuracy: 0.7143\n",
            "Epoch 93/100\n",
            "20/20 [==============================] - 0s 6ms/step - loss: 2.6048e-06 - accuracy: 1.0000 - val_loss: 6.1454 - val_accuracy: 0.7143\n",
            "Epoch 94/100\n",
            "20/20 [==============================] - 0s 5ms/step - loss: 2.5584e-06 - accuracy: 1.0000 - val_loss: 6.1576 - val_accuracy: 0.7143\n",
            "Epoch 95/100\n",
            "20/20 [==============================] - 0s 4ms/step - loss: 2.5109e-06 - accuracy: 1.0000 - val_loss: 6.1709 - val_accuracy: 0.7143\n",
            "Epoch 96/100\n",
            "20/20 [==============================] - 0s 5ms/step - loss: 2.4560e-06 - accuracy: 1.0000 - val_loss: 6.1826 - val_accuracy: 0.7143\n",
            "Epoch 97/100\n",
            "20/20 [==============================] - 0s 5ms/step - loss: 2.4047e-06 - accuracy: 1.0000 - val_loss: 6.1966 - val_accuracy: 0.7143\n",
            "Epoch 98/100\n",
            "20/20 [==============================] - 0s 4ms/step - loss: 2.3664e-06 - accuracy: 1.0000 - val_loss: 6.2102 - val_accuracy: 0.7143\n",
            "Epoch 99/100\n",
            "20/20 [==============================] - 0s 4ms/step - loss: 2.3259e-06 - accuracy: 1.0000 - val_loss: 6.2211 - val_accuracy: 0.7143\n",
            "Epoch 100/100\n",
            "20/20 [==============================] - 0s 4ms/step - loss: 2.2895e-06 - accuracy: 1.0000 - val_loss: 6.2323 - val_accuracy: 0.7143\n"
          ]
        },
        {
          "output_type": "execute_result",
          "data": {
            "text/plain": [
              "<keras.src.callbacks.History at 0x78df1fde62c0>"
            ]
          },
          "metadata": {},
          "execution_count": 76
        }
      ]
    },
    {
      "cell_type": "markdown",
      "source": [
        "## Multiple Parameters\n",
        "\n",
        "Finding the optimal value of multiple parameters"
      ],
      "metadata": {
        "id": "WkQpbEB6b2r4"
      }
    },
    {
      "cell_type": "code",
      "source": [],
      "metadata": {
        "id": "p761Xmb4bNde"
      },
      "execution_count": null,
      "outputs": []
    }
  ]
}