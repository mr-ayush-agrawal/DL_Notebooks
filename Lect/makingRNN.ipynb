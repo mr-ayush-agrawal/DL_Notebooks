{
  "cells": [
    {
      "cell_type": "markdown",
      "metadata": {
        "id": "view-in-github",
        "colab_type": "text"
      },
      "source": [
        "<a href=\"https://colab.research.google.com/github/mr-ayush-agrawal/DL_Notebooks/blob/main/Lect/makingRNN.ipynb\" target=\"_parent\"><img src=\"https://colab.research.google.com/assets/colab-badge.svg\" alt=\"Open In Colab\"/></a>"
      ]
    },
    {
      "cell_type": "markdown",
      "metadata": {
        "id": "ZGML2L83FGQe"
      },
      "source": [
        "## Sentiment Analysis\n",
        "Trying to make do the sentiment analysis using the IMDB dataset"
      ]
    },
    {
      "cell_type": "code",
      "execution_count": null,
      "metadata": {
        "id": "jlcEcZS9E4KP"
      },
      "outputs": [],
      "source": [
        "from keras.datasets import imdb\n",
        "from keras import Sequential\n",
        "from keras.layers import Dense, SimpleRNN, Embedding, Flatten"
      ]
    },
    {
      "cell_type": "code",
      "execution_count": null,
      "metadata": {
        "colab": {
          "base_uri": "https://localhost:8080/"
        },
        "id": "3VSdVmcLFmw9",
        "outputId": "db6b69a7-1a41-4bf2-e542-827e5df9b982"
      },
      "outputs": [
        {
          "name": "stdout",
          "output_type": "stream",
          "text": [
            "Downloading data from https://storage.googleapis.com/tensorflow/tf-keras-datasets/imdb.npz\n",
            "17464789/17464789 [==============================] - 0s 0us/step\n"
          ]
        }
      ],
      "source": [
        "(x_train, y_train), (x_test, y_test) = imdb.load_data()"
      ]
    },
    {
      "cell_type": "code",
      "execution_count": null,
      "metadata": {
        "colab": {
          "base_uri": "https://localhost:8080/"
        },
        "id": "a2G5pkbeF_82",
        "outputId": "59e0337b-7781-4152-d881-c54b2771701e"
      },
      "outputs": [
        {
          "data": {
            "text/plain": [
              "((25000,), (25000,))"
            ]
          },
          "execution_count": 3,
          "metadata": {},
          "output_type": "execute_result"
        }
      ],
      "source": [
        "x_train.shape, y_test.shape"
      ]
    },
    {
      "cell_type": "code",
      "execution_count": null,
      "metadata": {
        "colab": {
          "base_uri": "https://localhost:8080/"
        },
        "id": "1UoIOMy9GTcr",
        "outputId": "3bd75fd0-4f78-4174-c70c-9cc728b3cd08"
      },
      "outputs": [
        {
          "data": {
            "text/plain": [
              "218"
            ]
          },
          "execution_count": 7,
          "metadata": {},
          "output_type": "execute_result"
        }
      ],
      "source": [
        "len(x_train[0])"
      ]
    },
    {
      "cell_type": "markdown",
      "metadata": {
        "id": "DCF40rYZGsb8"
      },
      "source": [
        "These are already tokenized.\n",
        "\n",
        "Now we will be doing padding so that all the inputs have equal numeber of elements"
      ]
    },
    {
      "cell_type": "code",
      "execution_count": null,
      "metadata": {
        "id": "gTbgnzE7Gqyn"
      },
      "outputs": [],
      "source": [
        "from keras.utils import pad_sequences"
      ]
    },
    {
      "cell_type": "code",
      "execution_count": null,
      "metadata": {
        "id": "gN-A2Rx8JO5c"
      },
      "outputs": [],
      "source": [
        "# Taking only first 50 words\n",
        "x_train = pad_sequences(x_train, padding = 'post', maxlen = 100)\n",
        "x_test = pad_sequences(x_test, padding = 'post', maxlen = 100)"
      ]
    },
    {
      "cell_type": "code",
      "execution_count": null,
      "metadata": {
        "colab": {
          "base_uri": "https://localhost:8080/"
        },
        "id": "QbvPdvZYLJI2",
        "outputId": "515c058c-a034-474c-c38b-186d455ec81d"
      },
      "outputs": [
        {
          "data": {
            "text/plain": [
              "(25000, 100)"
            ]
          },
          "execution_count": 25,
          "metadata": {},
          "output_type": "execute_result"
        }
      ],
      "source": [
        "x_train.shape"
      ]
    },
    {
      "cell_type": "markdown",
      "metadata": {
        "id": "OstFNaROL-uY"
      },
      "source": [
        "Now we will be making a model"
      ]
    },
    {
      "cell_type": "code",
      "execution_count": null,
      "metadata": {
        "colab": {
          "base_uri": "https://localhost:8080/"
        },
        "id": "3GCJkXbOLgCM",
        "outputId": "2967c680-636a-443d-ae93-ed8d7414e820"
      },
      "outputs": [
        {
          "name": "stdout",
          "output_type": "stream",
          "text": [
            "Model: \"sequential_3\"\n",
            "_________________________________________________________________\n",
            " Layer (type)                Output Shape              Param #   \n",
            "=================================================================\n",
            " simple_rnn_2 (SimpleRNN)    (None, 128)               16640     \n",
            "                                                                 \n",
            " dense_2 (Dense)             (None, 64)                8256      \n",
            "                                                                 \n",
            " dense_3 (Dense)             (None, 64)                4160      \n",
            "                                                                 \n",
            " dense_4 (Dense)             (None, 1)                 65        \n",
            "                                                                 \n",
            "=================================================================\n",
            "Total params: 29121 (113.75 KB)\n",
            "Trainable params: 29121 (113.75 KB)\n",
            "Non-trainable params: 0 (0.00 Byte)\n",
            "_________________________________________________________________\n"
          ]
        }
      ],
      "source": [
        "model = Sequential()\n",
        "\n",
        "model.add(SimpleRNN(128, input_shape = (100, 1), return_sequences=False))\n",
        "model.add(Dense(64, 'relu'))\n",
        "model.add(Dense(64, 'relu'))\n",
        "model.add(Dense(1, activation = 'sigmoid'))\n",
        "\n",
        "model.summary()"
      ]
    },
    {
      "cell_type": "code",
      "execution_count": null,
      "metadata": {
        "id": "nBdv2SEtPzF9"
      },
      "outputs": [],
      "source": [
        "model.compile(\n",
        "    loss = 'binary_crossentropy',\n",
        "    optimizer = 'adam',\n",
        "    metrics = ['accuracy']\n",
        ")"
      ]
    },
    {
      "cell_type": "code",
      "execution_count": null,
      "metadata": {
        "colab": {
          "background_save": true,
          "base_uri": "https://localhost:8080/"
        },
        "id": "RHjWAbXxMS8n",
        "outputId": "8c985cea-2891-484d-9253-de795e4e2541"
      },
      "outputs": [
        {
          "name": "stdout",
          "output_type": "stream",
          "text": [
            "Epoch 1/50\n",
            "196/196 [==============================] - 22s 106ms/step - loss: 0.6964 - accuracy: 0.5050 - val_loss: 0.6932 - val_accuracy: 0.5029\n",
            "Epoch 2/50\n",
            "196/196 [==============================] - 19s 100ms/step - loss: 0.6987 - accuracy: 0.4942 - val_loss: 0.6940 - val_accuracy: 0.5019\n",
            "Epoch 3/50\n",
            "196/196 [==============================] - 20s 104ms/step - loss: 0.6963 - accuracy: 0.4974 - val_loss: 0.6955 - val_accuracy: 0.5031\n",
            "Epoch 4/50\n",
            "196/196 [==============================] - 20s 101ms/step - loss: 0.6964 - accuracy: 0.5006 - val_loss: 0.6932 - val_accuracy: 0.5000\n",
            "Epoch 5/50\n",
            "196/196 [==============================] - 22s 111ms/step - loss: 0.6936 - accuracy: 0.4966 - val_loss: 0.6936 - val_accuracy: 0.5053\n",
            "Epoch 6/50\n",
            "196/196 [==============================] - 25s 127ms/step - loss: 0.6941 - accuracy: 0.4990 - val_loss: 0.6950 - val_accuracy: 0.4988\n",
            "Epoch 7/50\n",
            "196/196 [==============================] - 25s 127ms/step - loss: 0.6938 - accuracy: 0.5003 - val_loss: 0.6957 - val_accuracy: 0.5010\n",
            "Epoch 8/50\n",
            "196/196 [==============================] - 25s 127ms/step - loss: 0.6943 - accuracy: 0.4993 - val_loss: 0.6931 - val_accuracy: 0.5000\n",
            "Epoch 9/50\n",
            "196/196 [==============================] - 19s 99ms/step - loss: 0.6938 - accuracy: 0.5012 - val_loss: 0.6932 - val_accuracy: 0.4984\n",
            "Epoch 10/50\n",
            "196/196 [==============================] - 26s 131ms/step - loss: 0.6948 - accuracy: 0.4998 - val_loss: 0.6938 - val_accuracy: 0.5005\n",
            "Epoch 11/50\n",
            "196/196 [==============================] - 25s 127ms/step - loss: 0.6960 - accuracy: 0.5010 - val_loss: 0.6934 - val_accuracy: 0.5030\n",
            "Epoch 12/50\n",
            "196/196 [==============================] - 25s 126ms/step - loss: 0.6937 - accuracy: 0.5013 - val_loss: 0.6961 - val_accuracy: 0.4991\n",
            "Epoch 13/50\n",
            "196/196 [==============================] - 21s 109ms/step - loss: 0.6935 - accuracy: 0.5034 - val_loss: 0.6933 - val_accuracy: 0.5000\n",
            "Epoch 14/50\n",
            "196/196 [==============================] - 20s 102ms/step - loss: 0.6931 - accuracy: 0.5010 - val_loss: 0.6933 - val_accuracy: 0.5000\n",
            "Epoch 15/50\n",
            "196/196 [==============================] - 21s 108ms/step - loss: 0.6930 - accuracy: 0.4992 - val_loss: 0.6933 - val_accuracy: 0.5014\n",
            "Epoch 16/50\n",
            "196/196 [==============================] - 20s 101ms/step - loss: 0.6930 - accuracy: 0.4988 - val_loss: 0.6932 - val_accuracy: 0.5014\n",
            "Epoch 17/50\n",
            "196/196 [==============================] - 21s 106ms/step - loss: 0.6930 - accuracy: 0.4990 - val_loss: 0.6932 - val_accuracy: 0.5013\n",
            "Epoch 18/50\n",
            "196/196 [==============================] - 22s 112ms/step - loss: 0.6930 - accuracy: 0.4990 - val_loss: 0.6933 - val_accuracy: 0.5000\n",
            "Epoch 19/50\n",
            "196/196 [==============================] - 26s 134ms/step - loss: 0.6930 - accuracy: 0.4975 - val_loss: 0.6932 - val_accuracy: 0.5014\n",
            "Epoch 20/50\n",
            "196/196 [==============================] - 21s 107ms/step - loss: 0.6930 - accuracy: 0.4987 - val_loss: 0.6934 - val_accuracy: 0.5000\n",
            "Epoch 21/50\n",
            "196/196 [==============================] - 22s 115ms/step - loss: 0.6930 - accuracy: 0.5023 - val_loss: 0.6932 - val_accuracy: 0.5014\n",
            "Epoch 22/50\n",
            "196/196 [==============================] - 22s 111ms/step - loss: 0.6930 - accuracy: 0.5016 - val_loss: 0.6932 - val_accuracy: 0.5014\n",
            "Epoch 23/50\n",
            "196/196 [==============================] - 20s 103ms/step - loss: 0.6930 - accuracy: 0.5000 - val_loss: 0.6933 - val_accuracy: 0.5014\n",
            "Epoch 24/50\n",
            "196/196 [==============================] - 25s 130ms/step - loss: 0.6930 - accuracy: 0.5004 - val_loss: 0.6934 - val_accuracy: 0.5014\n",
            "Epoch 25/50\n",
            "196/196 [==============================] - 25s 128ms/step - loss: 0.6930 - accuracy: 0.4986 - val_loss: 0.6933 - val_accuracy: 0.5011\n",
            "Epoch 26/50\n",
            "196/196 [==============================] - 26s 132ms/step - loss: 0.6931 - accuracy: 0.5033 - val_loss: 0.6932 - val_accuracy: 0.5014\n",
            "Epoch 27/50\n",
            "196/196 [==============================] - 21s 109ms/step - loss: 0.6931 - accuracy: 0.5004 - val_loss: 0.6935 - val_accuracy: 0.5011\n",
            "Epoch 28/50\n",
            "196/196 [==============================] - 20s 102ms/step - loss: 0.6931 - accuracy: 0.5023 - val_loss: 0.6932 - val_accuracy: 0.5014\n",
            "Epoch 29/50\n",
            "196/196 [==============================] - 26s 132ms/step - loss: 0.6931 - accuracy: 0.4983 - val_loss: 0.6932 - val_accuracy: 0.5014\n",
            "Epoch 30/50\n",
            "196/196 [==============================] - 21s 109ms/step - loss: 0.6930 - accuracy: 0.5027 - val_loss: 0.6934 - val_accuracy: 0.5014\n",
            "Epoch 31/50\n",
            "196/196 [==============================] - 20s 101ms/step - loss: 0.6930 - accuracy: 0.5009 - val_loss: 0.6933 - val_accuracy: 0.5014\n",
            "Epoch 32/50\n",
            "196/196 [==============================] - 21s 107ms/step - loss: 0.6931 - accuracy: 0.5046 - val_loss: 0.6937 - val_accuracy: 0.5014\n",
            "Epoch 33/50\n",
            "196/196 [==============================] - 20s 104ms/step - loss: 0.6931 - accuracy: 0.5005 - val_loss: 0.6931 - val_accuracy: 0.5014\n",
            "Epoch 34/50\n",
            "196/196 [==============================] - 21s 107ms/step - loss: 0.6931 - accuracy: 0.5052 - val_loss: 0.6934 - val_accuracy: 0.5014\n",
            "Epoch 35/50\n",
            "196/196 [==============================] - 25s 128ms/step - loss: 0.6930 - accuracy: 0.4990 - val_loss: 0.6935 - val_accuracy: 0.5014\n",
            "Epoch 36/50\n",
            "196/196 [==============================] - 21s 106ms/step - loss: 0.6930 - accuracy: 0.4984 - val_loss: 0.6932 - val_accuracy: 0.5000\n",
            "Epoch 37/50\n",
            "196/196 [==============================] - 21s 106ms/step - loss: 0.6930 - accuracy: 0.5013 - val_loss: 0.6933 - val_accuracy: 0.5014\n",
            "Epoch 38/50\n",
            "196/196 [==============================] - 20s 104ms/step - loss: 0.6930 - accuracy: 0.5012 - val_loss: 0.6932 - val_accuracy: 0.5010\n",
            "Epoch 39/50\n",
            "196/196 [==============================] - 19s 99ms/step - loss: 0.6930 - accuracy: 0.4996 - val_loss: 0.6932 - val_accuracy: 0.5014\n",
            "Epoch 40/50\n",
            "196/196 [==============================] - 21s 105ms/step - loss: 0.6930 - accuracy: 0.4961 - val_loss: 0.6932 - val_accuracy: 0.5014\n",
            "Epoch 41/50\n",
            "196/196 [==============================] - 20s 101ms/step - loss: 0.6930 - accuracy: 0.5050 - val_loss: 0.6940 - val_accuracy: 0.5000\n",
            "Epoch 42/50\n",
            "196/196 [==============================] - 24s 123ms/step - loss: 0.6931 - accuracy: 0.5010 - val_loss: 0.6935 - val_accuracy: 0.5014\n",
            "Epoch 43/50\n",
            "196/196 [==============================] - 19s 99ms/step - loss: 0.6936 - accuracy: 0.5000 - val_loss: 0.6942 - val_accuracy: 0.5000\n",
            "Epoch 44/50\n",
            "196/196 [==============================] - 19s 97ms/step - loss: 0.6941 - accuracy: 0.4920 - val_loss: 0.6932 - val_accuracy: 0.5000\n",
            "Epoch 45/50\n",
            "196/196 [==============================] - 19s 98ms/step - loss: 0.6932 - accuracy: 0.4985 - val_loss: 0.6931 - val_accuracy: 0.5000\n",
            "Epoch 46/50\n",
            "196/196 [==============================] - 20s 100ms/step - loss: 0.6932 - accuracy: 0.5003 - val_loss: 0.6931 - val_accuracy: 0.5000\n",
            "Epoch 47/50\n",
            "196/196 [==============================] - 19s 97ms/step - loss: 0.6932 - accuracy: 0.4955 - val_loss: 0.6931 - val_accuracy: 0.5000\n",
            "Epoch 48/50\n",
            "196/196 [==============================] - 20s 100ms/step - loss: 0.6932 - accuracy: 0.4980 - val_loss: 0.6931 - val_accuracy: 0.5000\n",
            "Epoch 49/50\n",
            "196/196 [==============================] - 19s 97ms/step - loss: 0.6932 - accuracy: 0.4943 - val_loss: 0.6932 - val_accuracy: 0.5000\n",
            "Epoch 50/50\n",
            "196/196 [==============================] - 20s 101ms/step - loss: 0.6932 - accuracy: 0.5000 - val_loss: 0.6931 - val_accuracy: 0.5000\n"
          ]
        },
        {
          "data": {
            "text/plain": [
              "<keras.src.callbacks.History at 0x7a8255b51c90>"
            ]
          },
          "execution_count": 28,
          "metadata": {},
          "output_type": "execute_result"
        }
      ],
      "source": [
        "model.fit(\n",
        "    x_train, y_train,\n",
        "    epochs = 50,\n",
        "    validation_data = (x_test, y_test),\n",
        "    batch_size = 128\n",
        ")"
      ]
    },
    {
      "cell_type": "markdown",
      "source": [
        "## Embedding in Keras"
      ],
      "metadata": {
        "id": "-8JzK4gvwwPG"
      }
    },
    {
      "cell_type": "code",
      "execution_count": null,
      "metadata": {
        "id": "SCYgEQEOQNbF"
      },
      "outputs": [],
      "source": []
    }
  ],
  "metadata": {
    "colab": {
      "provenance": [],
      "authorship_tag": "ABX9TyNvm8F5r5d0pBnFwNHMxfHm",
      "include_colab_link": true
    },
    "kernelspec": {
      "display_name": "Python 3",
      "name": "python3"
    },
    "language_info": {
      "name": "python"
    }
  },
  "nbformat": 4,
  "nbformat_minor": 0
}