{
  "nbformat": 4,
  "nbformat_minor": 0,
  "metadata": {
    "colab": {
      "provenance": [],
      "authorship_tag": "ABX9TyN6BkEeoE4dsSmvIaqLaEia",
      "include_colab_link": true
    },
    "kernelspec": {
      "name": "python3",
      "display_name": "Python 3"
    },
    "language_info": {
      "name": "python"
    }
  },
  "cells": [
    {
      "cell_type": "markdown",
      "metadata": {
        "id": "view-in-github",
        "colab_type": "text"
      },
      "source": [
        "<a href=\"https://colab.research.google.com/github/mr-ayush-agrawal/DL_Notebooks/blob/main/Lect/PreTrained_Models.ipynb\" target=\"_parent\"><img src=\"https://colab.research.google.com/assets/colab-badge.svg\" alt=\"Open In Colab\"/></a>"
      ]
    },
    {
      "cell_type": "markdown",
      "source": [
        "## Pre-Trained Model\n",
        "\n",
        "We are trying to use the Pretrained model here and use it for the classificaiton of the images"
      ],
      "metadata": {
        "id": "OkCoHsQDUkoJ"
      }
    },
    {
      "cell_type": "code",
      "execution_count": 19,
      "metadata": {
        "id": "pMPt-9qzUg23"
      },
      "outputs": [],
      "source": [
        "from tensorflow.keras.applications.resnet50 import ResNet50, preprocess_input, decode_predictions\n",
        "from tensorflow.keras.preprocessing import image\n",
        "\n",
        "import numpy as np\n",
        "\n",
        "import urllib.request"
      ]
    },
    {
      "cell_type": "code",
      "source": [
        "model = ResNet50(weights = 'imagenet')"
      ],
      "metadata": {
        "colab": {
          "base_uri": "https://localhost:8080/"
        },
        "id": "jgYvj7yvVNKw",
        "outputId": "fe8ff5b4-1d28-4bb2-ffe5-6dbbdcc4796b"
      },
      "execution_count": 5,
      "outputs": [
        {
          "output_type": "stream",
          "name": "stdout",
          "text": [
            "Downloading data from https://storage.googleapis.com/tensorflow/keras-applications/resnet/resnet50_weights_tf_dim_ordering_tf_kernels.h5\n",
            "102967424/102967424 [==============================] - 1s 0us/step\n"
          ]
        }
      ]
    },
    {
      "cell_type": "code",
      "source": [
        "cat_img = 'https://i.natgeofe.com/n/548467d8-c5f1-4551-9f58-6817a8d2c45e/NationalGeographic_2572187.jpg'\n",
        "table_img = 'https://5.imimg.com/data5/LN/QW/KF/SELLER-13675811/wodden-table-1000x1000.jpg'\n",
        "samosa_img = 'data:image/jpeg;base64,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'\n",
        "momo_img = 'https://upload.wikimedia.org/wikipedia/commons/a/a1/Momo_nepal.jpg'\n",
        "bottle_img = 'https://target.scene7.com/is/image/Target/GUEST_fc04ebb4-06bc-4997-b27c-c4d2ac38165b?wid=1200&hei=1200&qlt=80&fmt=webp'\n",
        "anime_girl = 'https://www.clipartmax.com/png/full/291-2919436_catgirl-anime-manga-youtube-half-human-half-animal.png'\n",
        "\n",
        "images = [cat_img, table_img, samosa_img, momo_img, bottle_img, anime_girl]"
      ],
      "metadata": {
        "id": "TvUbx-sxWlTk"
      },
      "execution_count": 47,
      "outputs": []
    },
    {
      "cell_type": "code",
      "source": [
        "for img in images :\n",
        "  urllib.request.urlretrieve(img, 'temp_image.jpg')\n",
        "  img = image.load_img('temp_image.jpg', target_size=(224, 224))\n",
        "\n",
        "  x = image.img_to_array(img)\n",
        "  x = np.expand_dims(x, axis = 0)\n",
        "  x = preprocess_input(x)\n",
        "  preds = model.predict(x)\n",
        "  print(\"Prediction: \", decode_predictions(preds, top=3)[0])"
      ],
      "metadata": {
        "colab": {
          "base_uri": "https://localhost:8080/"
        },
        "id": "HFab7jZ2XEi9",
        "outputId": "824e32ea-043e-46c7-e99c-736b7fe9d49d"
      },
      "execution_count": 48,
      "outputs": [
        {
          "output_type": "stream",
          "name": "stdout",
          "text": [
            "1/1 [==============================] - 0s 180ms/step\n",
            "Prediction:  [('n02124075', 'Egyptian_cat', 0.31698626), ('n01877812', 'wallaby', 0.29241353), ('n02123045', 'tabby', 0.051075798)]\n",
            "1/1 [==============================] - 0s 192ms/step\n",
            "Prediction:  [('n03201208', 'dining_table', 0.52567345), ('n03903868', 'pedestal', 0.2891517), ('n04344873', 'studio_couch', 0.053778823)]\n",
            "1/1 [==============================] - 0s 182ms/step\n",
            "Prediction:  [('n07579787', 'plate', 0.8825348), ('n07875152', 'potpie', 0.034458585), ('n07584110', 'consomme', 0.030118752)]\n",
            "1/1 [==============================] - 0s 201ms/step\n",
            "Prediction:  [('n07579787', 'plate', 0.32588482), ('n07871810', 'meat_loaf', 0.21760969), ('n07831146', 'carbonara', 0.09547549)]\n",
            "1/1 [==============================] - 0s 188ms/step\n",
            "Prediction:  [('n07892512', 'red_wine', 0.598748), ('n04591713', 'wine_bottle', 0.33402824), ('n03109150', 'corkscrew', 0.04690589)]\n",
            "1/1 [==============================] - 0s 184ms/step\n",
            "Prediction:  [('n03595614', 'jersey', 0.23548312), ('n04370456', 'sweatshirt', 0.17022872), ('n03291819', 'envelope', 0.09257373)]\n"
          ]
        }
      ]
    },
    {
      "cell_type": "code",
      "source": [],
      "metadata": {
        "id": "JgsMe1ZRXupZ"
      },
      "execution_count": null,
      "outputs": []
    }
  ]
}