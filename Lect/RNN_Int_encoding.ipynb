{
  "nbformat": 4,
  "nbformat_minor": 0,
  "metadata": {
    "colab": {
      "provenance": [],
      "authorship_tag": "ABX9TyNmkjnKvxyaL7rCAdQ9u1Du",
      "include_colab_link": true
    },
    "kernelspec": {
      "name": "python3",
      "display_name": "Python 3"
    },
    "language_info": {
      "name": "python"
    }
  },
  "cells": [
    {
      "cell_type": "markdown",
      "metadata": {
        "id": "view-in-github",
        "colab_type": "text"
      },
      "source": [
        "<a href=\"https://colab.research.google.com/github/mr-ayush-agrawal/DL_Notebooks/blob/main/Lect/RNN_Int_encoding.ipynb\" target=\"_parent\"><img src=\"https://colab.research.google.com/assets/colab-badge.svg\" alt=\"Open In Colab\"/></a>"
      ]
    },
    {
      "cell_type": "markdown",
      "source": [
        "### Integer Encoding\n",
        "\n",
        "Converting the words to integer tokens"
      ],
      "metadata": {
        "id": "dynluYfe98dE"
      }
    },
    {
      "cell_type": "code",
      "source": [
        "import numpy as np"
      ],
      "metadata": {
        "id": "r8p15Ba89769"
      },
      "execution_count": 1,
      "outputs": []
    },
    {
      "cell_type": "code",
      "execution_count": 18,
      "metadata": {
        "id": "HUZXdtzu921E"
      },
      "outputs": [],
      "source": [
        "docs = [\n",
        "    'go india go',\n",
        "    'india india',\n",
        "    'hip hip hoorray',\n",
        "    'india hi jeetega',\n",
        "    'kohli kohli',\n",
        "    'ayush is awesome',\n",
        "    'i am ayush',\n",
        "    'i am making something something'\n",
        "]"
      ]
    },
    {
      "cell_type": "code",
      "source": [
        "from keras.preprocessing.text import Tokenizer\n",
        "tokenizer = Tokenizer(oov_token = 'idk')   # words which are not in vocab will be replaced by idk"
      ],
      "metadata": {
        "id": "gbJHWy7K-_ds"
      },
      "execution_count": 19,
      "outputs": []
    },
    {
      "cell_type": "code",
      "source": [
        "tokenizer.fit_on_texts(docs)"
      ],
      "metadata": {
        "id": "tg8EzOnX_UFI"
      },
      "execution_count": 20,
      "outputs": []
    },
    {
      "cell_type": "code",
      "source": [
        "tokenizer.word_index"
      ],
      "metadata": {
        "colab": {
          "base_uri": "https://localhost:8080/"
        },
        "id": "3jt-COUF_bMS",
        "outputId": "5bedcccb-3904-496f-f01d-a1786ccc293c"
      },
      "execution_count": 21,
      "outputs": [
        {
          "output_type": "execute_result",
          "data": {
            "text/plain": [
              "{'idk': 1,\n",
              " 'india': 2,\n",
              " 'go': 3,\n",
              " 'hip': 4,\n",
              " 'kohli': 5,\n",
              " 'ayush': 6,\n",
              " 'i': 7,\n",
              " 'am': 8,\n",
              " 'something': 9,\n",
              " 'hoorray': 10,\n",
              " 'hi': 11,\n",
              " 'jeetega': 12,\n",
              " 'is': 13,\n",
              " 'awesome': 14,\n",
              " 'making': 15}"
            ]
          },
          "metadata": {},
          "execution_count": 21
        }
      ]
    },
    {
      "cell_type": "code",
      "source": [
        "tokenizer.word_counts"
      ],
      "metadata": {
        "colab": {
          "base_uri": "https://localhost:8080/"
        },
        "id": "CuCPrUB3Adlo",
        "outputId": "d4477d3e-73fb-4b2c-9535-c6b0e5718c73"
      },
      "execution_count": 22,
      "outputs": [
        {
          "output_type": "execute_result",
          "data": {
            "text/plain": [
              "OrderedDict([('go', 2),\n",
              "             ('india', 4),\n",
              "             ('hip', 2),\n",
              "             ('hoorray', 1),\n",
              "             ('hi', 1),\n",
              "             ('jeetega', 1),\n",
              "             ('kohli', 2),\n",
              "             ('ayush', 2),\n",
              "             ('is', 1),\n",
              "             ('awesome', 1),\n",
              "             ('i', 2),\n",
              "             ('am', 2),\n",
              "             ('making', 1),\n",
              "             ('something', 2)])"
            ]
          },
          "metadata": {},
          "execution_count": 22
        }
      ]
    },
    {
      "cell_type": "code",
      "source": [
        "tokenizer.document_count"
      ],
      "metadata": {
        "colab": {
          "base_uri": "https://localhost:8080/"
        },
        "id": "aiXnWDaYBSHl",
        "outputId": "0bef0ff6-5848-46d8-ed27-ccaa9be7db1f"
      },
      "execution_count": 23,
      "outputs": [
        {
          "output_type": "execute_result",
          "data": {
            "text/plain": [
              "8"
            ]
          },
          "metadata": {},
          "execution_count": 23
        }
      ]
    },
    {
      "cell_type": "code",
      "source": [
        "seqs = tokenizer.texts_to_sequences(docs)\n",
        "seqs"
      ],
      "metadata": {
        "colab": {
          "base_uri": "https://localhost:8080/"
        },
        "id": "F4xXuFBYBnUp",
        "outputId": "a1c04ca9-91cb-4441-82ef-c15c2a622992"
      },
      "execution_count": 24,
      "outputs": [
        {
          "output_type": "execute_result",
          "data": {
            "text/plain": [
              "[[3, 2, 3],\n",
              " [2, 2],\n",
              " [4, 4, 10],\n",
              " [2, 11, 12],\n",
              " [5, 5],\n",
              " [6, 13, 14],\n",
              " [7, 8, 6],\n",
              " [7, 8, 15, 9, 9]]"
            ]
          },
          "metadata": {},
          "execution_count": 24
        }
      ]
    },
    {
      "cell_type": "markdown",
      "source": [
        "The model can be trained on these sequences"
      ],
      "metadata": {
        "id": "tUhIdLo1CXbD"
      }
    },
    {
      "cell_type": "code",
      "source": [
        "# This is for putting paddig in the sequences\n",
        "from keras.utils import pad_sequences"
      ],
      "metadata": {
        "id": "CO3jjDgJB8s9"
      },
      "execution_count": 28,
      "outputs": []
    },
    {
      "cell_type": "code",
      "source": [
        "seqs = pad_sequences(seqs, padding = 'post')\n",
        "seqs"
      ],
      "metadata": {
        "colab": {
          "base_uri": "https://localhost:8080/"
        },
        "id": "WCBrNZkcC-Sw",
        "outputId": "e349e4b2-c610-448a-82fb-dbd49a4f8647"
      },
      "execution_count": 29,
      "outputs": [
        {
          "output_type": "execute_result",
          "data": {
            "text/plain": [
              "array([[ 3,  2,  3,  0,  0],\n",
              "       [ 2,  2,  0,  0,  0],\n",
              "       [ 4,  4, 10,  0,  0],\n",
              "       [ 2, 11, 12,  0,  0],\n",
              "       [ 5,  5,  0,  0,  0],\n",
              "       [ 6, 13, 14,  0,  0],\n",
              "       [ 7,  8,  6,  0,  0],\n",
              "       [ 7,  8, 15,  9,  9]], dtype=int32)"
            ]
          },
          "metadata": {},
          "execution_count": 29
        }
      ]
    },
    {
      "cell_type": "code",
      "source": [],
      "metadata": {
        "id": "37xlvUVBDJHk"
      },
      "execution_count": null,
      "outputs": []
    }
  ]
}