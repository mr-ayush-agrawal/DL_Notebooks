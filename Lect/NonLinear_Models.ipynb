{
  "nbformat": 4,
  "nbformat_minor": 0,
  "metadata": {
    "colab": {
      "provenance": [],
      "authorship_tag": "ABX9TyNMhOqr4vQIa1BN/q1Osg+9",
      "include_colab_link": true
    },
    "kernelspec": {
      "name": "python3",
      "display_name": "Python 3"
    },
    "language_info": {
      "name": "python"
    }
  },
  "cells": [
    {
      "cell_type": "markdown",
      "metadata": {
        "id": "view-in-github",
        "colab_type": "text"
      },
      "source": [
        "<a href=\"https://colab.research.google.com/github/mr-ayush-agrawal/DL_Notebooks/blob/main/Lect/NonLinear_Models.ipynb\" target=\"_parent\"><img src=\"https://colab.research.google.com/assets/colab-badge.svg\" alt=\"Open In Colab\"/></a>"
      ]
    },
    {
      "cell_type": "markdown",
      "source": [
        "## Functional API\n",
        "These are used to create Non-linear Neural Network which may include having multiple inputs or multiple outpurs"
      ],
      "metadata": {
        "id": "y3ssh7wtz_sO"
      }
    },
    {
      "cell_type": "code",
      "execution_count": 1,
      "metadata": {
        "id": "Irs--BEkz8Eh"
      },
      "outputs": [],
      "source": [
        "from keras.models import Model"
      ]
    },
    {
      "cell_type": "code",
      "source": [
        "from keras.layers import * # importing all the layers"
      ],
      "metadata": {
        "id": "FlquFofe0hmw"
      },
      "execution_count": 2,
      "outputs": []
    },
    {
      "cell_type": "code",
      "source": [
        "x = Input(shape= (3, ))"
      ],
      "metadata": {
        "id": "Mb2_ZxdH0oOE"
      },
      "execution_count": 3,
      "outputs": []
    },
    {
      "cell_type": "code",
      "source": [
        "h1 = Dense(128, activation = 'relu')(x)\n",
        "h2 = Dense(64, activation = 'relu')(h1)\n",
        "\n",
        "op1 = Dense(1, activation = 'linear')(h2)\n",
        "op2 = Dense(1, activation = 'sigmoid')(h2)"
      ],
      "metadata": {
        "id": "u5hw1oTH0wEG"
      },
      "execution_count": 8,
      "outputs": []
    },
    {
      "cell_type": "code",
      "source": [
        "model = Model(\n",
        "    inputs = x,\n",
        "    outputs = [op1, op2],\n",
        ")"
      ],
      "metadata": {
        "id": "erVXbjdT0Ujt"
      },
      "execution_count": 12,
      "outputs": []
    },
    {
      "cell_type": "code",
      "source": [
        "model.summary()"
      ],
      "metadata": {
        "colab": {
          "base_uri": "https://localhost:8080/"
        },
        "id": "0atmscY01w5Y",
        "outputId": "d9195b06-49b5-4e9c-ecf9-ac38502059f8"
      },
      "execution_count": 13,
      "outputs": [
        {
          "output_type": "stream",
          "name": "stdout",
          "text": [
            "Model: \"model\"\n",
            "__________________________________________________________________________________________________\n",
            " Layer (type)                Output Shape                 Param #   Connected to                  \n",
            "==================================================================================================\n",
            " input_1 (InputLayer)        [(None, 3)]                  0         []                            \n",
            "                                                                                                  \n",
            " dense_7 (Dense)             (None, 128)                  512       ['input_1[0][0]']             \n",
            "                                                                                                  \n",
            " dense_8 (Dense)             (None, 64)                   8256      ['dense_7[0][0]']             \n",
            "                                                                                                  \n",
            " dense_9 (Dense)             (None, 1)                    65        ['dense_8[0][0]']             \n",
            "                                                                                                  \n",
            " dense_10 (Dense)            (None, 1)                    65        ['dense_8[0][0]']             \n",
            "                                                                                                  \n",
            "==================================================================================================\n",
            "Total params: 8898 (34.76 KB)\n",
            "Trainable params: 8898 (34.76 KB)\n",
            "Non-trainable params: 0 (0.00 Byte)\n",
            "__________________________________________________________________________________________________\n"
          ]
        }
      ]
    },
    {
      "cell_type": "code",
      "source": [
        "from keras.utils import plot_model\n"
      ],
      "metadata": {
        "id": "0OVpRR9c13OJ"
      },
      "execution_count": 14,
      "outputs": []
    },
    {
      "cell_type": "code",
      "source": [
        "plot_model(model)"
      ],
      "metadata": {
        "colab": {
          "base_uri": "https://localhost:8080/",
          "height": 369
        },
        "id": "sgT4vGtA2fed",
        "outputId": "ddf64594-3ceb-4d5b-d12b-e9d6c0cbaa51"
      },
      "execution_count": 15,
      "outputs": [
        {
          "output_type": "execute_result",
          "data": {
            "image/png": "[encoded data removed]",
            "text/plain": [
              "<IPython.core.display.Image object>"
            ]
          },
          "metadata": {},
          "execution_count": 15
        }
      ]
    },
    {
      "cell_type": "markdown",
      "source": [
        "### Multiple inputs\n",
        "Making a model which accepts multiple inputs and concat the layers and get a single output"
      ],
      "metadata": {
        "id": "_lUcst3F2wsO"
      }
    },
    {
      "cell_type": "code",
      "source": [
        "inpA = Input(shape=(32,))\n",
        "inpB = Input(shape=(128,))"
      ],
      "metadata": {
        "id": "P_hbW6UC2hJz"
      },
      "execution_count": 16,
      "outputs": []
    },
    {
      "cell_type": "code",
      "source": [
        "x1 = Dense(8, activation = 'relu')(inpA)\n",
        "x2 = Dense(4, activation = 'relu')(x1)"
      ],
      "metadata": {
        "id": "fXfCGNLU3AdT"
      },
      "execution_count": 17,
      "outputs": []
    },
    {
      "cell_type": "code",
      "source": [
        "y1 = Dense(64, 'relu')(inpB)\n",
        "y2 = Dense(32, 'relu')(y1)\n",
        "y3 = Dense(4, 'relu')(y2)"
      ],
      "metadata": {
        "id": "ZcjwA-pW3RGU"
      },
      "execution_count": 20,
      "outputs": []
    },
    {
      "cell_type": "code",
      "source": [
        "# Making the combined layer\n",
        "comb = concatenate([x2, y3])"
      ],
      "metadata": {
        "id": "DJOcvhTw3clV"
      },
      "execution_count": 21,
      "outputs": []
    },
    {
      "cell_type": "code",
      "source": [
        "# Making the FC layers of combined model\n",
        "z = Dense(2, 'relu')(comb)\n",
        "zf = Dense(1, 'linear')(z)"
      ],
      "metadata": {
        "id": "3jxrtTCB3y5M"
      },
      "execution_count": 22,
      "outputs": []
    },
    {
      "cell_type": "code",
      "source": [
        "model2 = Model(inputs = [inpA, inpB] , outputs = zf)"
      ],
      "metadata": {
        "id": "lWUz8tGu4Ey2"
      },
      "execution_count": 23,
      "outputs": []
    },
    {
      "cell_type": "code",
      "source": [
        "plot_model(model2)"
      ],
      "metadata": {
        "colab": {
          "base_uri": "https://localhost:8080/",
          "height": 661
        },
        "id": "uEcXLOIv4Rmt",
        "outputId": "ea519a73-630b-4549-953a-58b3d0628a2a"
      },
      "execution_count": 24,
      "outputs": [
        {
          "output_type": "execute_result",
          "data": {
            "image/png": "[encoded data removed]",
            "text/plain": [
              "<IPython.core.display.Image object>"
            ]
          },
          "metadata": {},
          "execution_count": 24
        }
      ]
    }
  ]
}